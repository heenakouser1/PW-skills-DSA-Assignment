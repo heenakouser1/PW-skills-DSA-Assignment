{
 "cells": [
  {
   "cell_type": "markdown",
   "id": "ddf66735-0dec-4073-bd21-2447ece9953f",
   "metadata": {
    "tags": []
   },
   "source": [
    "### Q1. Which function is used to open a file? What are the different modes of opening a file? Explain each mode of file opening."
   ]
  },
  {
   "cell_type": "code",
   "execution_count": null,
   "id": "3fa2ce71-619a-43be-ab5f-814a3a3e5369",
   "metadata": {},
   "outputs": [],
   "source": [
    "# Funtion open() is used to open a file\n",
    "# There different modes of opening a file\n",
    "# read, write, append, text , binarywrite(wb), binary read( rb) etc"
   ]
  },
  {
   "cell_type": "code",
   "execution_count": 4,
   "id": "ee772bf0-cd46-4b4e-bd46-125e587598a2",
   "metadata": {},
   "outputs": [],
   "source": [
    "# open in write mode\n",
    "with open('test.txt','w') as f:\n",
    "    f.write('this is my first line \\n')"
   ]
  },
  {
   "cell_type": "code",
   "execution_count": 5,
   "id": "0077aa55-1111-40c2-ac35-03467ab4e482",
   "metadata": {},
   "outputs": [
    {
     "name": "stdout",
     "output_type": "stream",
     "text": [
      "this is my first line \n",
      "\n"
     ]
    }
   ],
   "source": [
    "# open in read mode\n",
    "with open('test.txt','r') as f:\n",
    "    print(f.read())"
   ]
  },
  {
   "cell_type": "code",
   "execution_count": 6,
   "id": "b2c67556-8601-407b-ac14-b08dde710a6b",
   "metadata": {},
   "outputs": [],
   "source": [
    "# open in append mode\n",
    "with open('test.txt','a') as f:\n",
    "    f.write('this is second line')"
   ]
  },
  {
   "cell_type": "markdown",
   "id": "3b5ea014-296d-4295-b5f9-eff824f0e7f6",
   "metadata": {},
   "source": [
    "### Q2. Why close() function is used? Why is it important to close a file?"
   ]
  },
  {
   "cell_type": "code",
   "execution_count": 7,
   "id": "542ec1a5-aaad-43c6-8cf3-7336235a35bc",
   "metadata": {},
   "outputs": [
    {
     "data": {
      "text/plain": [
       "36"
      ]
     },
     "execution_count": 7,
     "metadata": {},
     "output_type": "execute_result"
    }
   ],
   "source": [
    "# close() function is used to close a file, which was opened to write a data into it. \n",
    "# It will flushes any unwritten information and closes the file object, \n",
    "# after which no more writing can be done\n",
    "# using ' with open() ', it will close a file automatically, without requiring a close function\n",
    "\n",
    "#example\n",
    "\n",
    "f=open('test2.txt','w')\n",
    "f.write('this is data to be written into file')"
   ]
  },
  {
   "cell_type": "code",
   "execution_count": 8,
   "id": "a3d13d16-7ce2-41e7-a91e-14525edc3dc1",
   "metadata": {},
   "outputs": [],
   "source": [
    "f.close()"
   ]
  },
  {
   "cell_type": "code",
   "execution_count": 10,
   "id": "8d6c1439-d3e5-4167-92e2-653da7821638",
   "metadata": {},
   "outputs": [
    {
     "name": "stdout",
     "output_type": "stream",
     "text": [
      "this is data to be written into file\n"
     ]
    }
   ],
   "source": [
    "f=open('test2.txt','r')\n",
    "print(f.read())"
   ]
  },
  {
   "cell_type": "markdown",
   "id": "19c31897-804b-40eb-a656-41afba1e40b4",
   "metadata": {},
   "source": [
    "### Q3. Write a python program to create a text file. Write ‘I want to become a Data Scientist’ in that file. Then\n",
    "### close the file. Open this file and read the content of the file."
   ]
  },
  {
   "cell_type": "code",
   "execution_count": 12,
   "id": "37fce8f8-2edb-434e-83ad-fde0868c8c4c",
   "metadata": {},
   "outputs": [
    {
     "data": {
      "text/plain": [
       "33"
      ]
     },
     "execution_count": 12,
     "metadata": {},
     "output_type": "execute_result"
    }
   ],
   "source": [
    "f=open('data.txt','w')\n",
    "f.write('I want to become a Data Scientist')"
   ]
  },
  {
   "cell_type": "code",
   "execution_count": 13,
   "id": "3a65c86d-873b-4734-afdd-dc9de91c4a2d",
   "metadata": {},
   "outputs": [],
   "source": [
    "f.close()"
   ]
  },
  {
   "cell_type": "code",
   "execution_count": 14,
   "id": "153ebb4d-bfe3-4208-bddb-65e6066956e4",
   "metadata": {},
   "outputs": [
    {
     "name": "stdout",
     "output_type": "stream",
     "text": [
      "I want to become a Data Scientist\n"
     ]
    }
   ],
   "source": [
    "f=open('data.txt','r')\n",
    "print(f.read())"
   ]
  },
  {
   "cell_type": "markdown",
   "id": "25aa8e0d-cce8-4449-9b21-372512f53ef7",
   "metadata": {},
   "source": [
    "### Q4. Explain the following with python code: read(), readline() and readlines()."
   ]
  },
  {
   "cell_type": "code",
   "execution_count": 20,
   "id": "b434609b-8f3f-46c8-a637-9a741905cecc",
   "metadata": {},
   "outputs": [],
   "source": [
    "with open('data1.txt','w') as f:\n",
    "    f.write('Data Science Masters course is highly curated and uniquely designed according to the latest industry standards. This program instills students the skills essential to knowledge discovery efforts to identify standard, novel, and truly differentiated solutions and decision-making, including skills in managing, querying, analyzing, visualizing, and extracting meaning from extremely large data sets.')"
   ]
  },
  {
   "cell_type": "code",
   "execution_count": 21,
   "id": "3904f46c-535c-49ed-a695-997c8eb5904b",
   "metadata": {},
   "outputs": [
    {
     "name": "stdout",
     "output_type": "stream",
     "text": [
      "Data Science Masters course is highly curated and uniquely designed according to the latest industry standards. This program instills students the skills essential to knowledge discovery efforts to identify standard, novel, and truly differentiated solutions and decision-making, including skills in managing, querying, analyzing, visualizing, and extracting meaning from extremely large data sets.\n"
     ]
    }
   ],
   "source": [
    "# read() function is used to read the data character by character till the last character\n",
    "\n",
    "with open('data1.txt','r') as f:\n",
    "    print(f.read())"
   ]
  },
  {
   "cell_type": "code",
   "execution_count": 22,
   "id": "6c8861af-dccf-45c0-a4d5-bc8e702cde8b",
   "metadata": {},
   "outputs": [
    {
     "name": "stdout",
     "output_type": "stream",
     "text": [
      "Data Science Masters course is highly curated and uniquely designed according to the latest industry standards. This program instills students the skills essential to knowledge discovery efforts to identify standard, novel, and truly differentiated solutions and decision-making, including skills in managing, querying, analyzing, visualizing, and extracting meaning from extremely large data sets.\n"
     ]
    }
   ],
   "source": [
    "# readline() function is used to read the till eof line and return it in form of string. return empty string if no data present\n",
    "\n",
    "with open('data1.txt','r') as f:\n",
    "    print(f.readline())\n",
    "    "
   ]
  },
  {
   "cell_type": "code",
   "execution_count": 23,
   "id": "4c489ef8-7cdf-48bc-8db6-82591ca84c4e",
   "metadata": {},
   "outputs": [
    {
     "name": "stdout",
     "output_type": "stream",
     "text": [
      "['Data Science Masters course is highly curated and uniquely designed according to the latest industry standards. This program instills students the skills essential to knowledge discovery efforts to identify standard, novel, and truly differentiated solutions and decision-making, including skills in managing, querying, analyzing, visualizing, and extracting meaning from extremely large data sets.']\n"
     ]
    }
   ],
   "source": [
    "# readlines() function is used to read the lines of data and return final result inform of list\n",
    "\n",
    "with open('data1.txt','r') as f:\n",
    "    print(f.readlines())\n",
    "    "
   ]
  },
  {
   "cell_type": "markdown",
   "id": "1720a077-fd3f-4cee-b520-346688890ad8",
   "metadata": {},
   "source": [
    "### Q5. Explain why with statement is used with open(). What is the advantage of using with statement and open() together?"
   ]
  },
  {
   "cell_type": "code",
   "execution_count": 24,
   "id": "aab4a28f-5ba4-4c03-b4ea-04561ff6c7c1",
   "metadata": {},
   "outputs": [],
   "source": [
    "# with function when used with open() to perform any file operation and close the file automatically.\n",
    "# Advcantage of using with open(), is we need not write close() again \n",
    "\n",
    "with open('data2.txt','w') as f:\n",
    "    f.write('this is data to be written')"
   ]
  },
  {
   "cell_type": "code",
   "execution_count": 25,
   "id": "98320528-8c74-4bcd-8c75-a3ff349c6693",
   "metadata": {},
   "outputs": [
    {
     "name": "stdout",
     "output_type": "stream",
     "text": [
      "this is data to be written\n"
     ]
    }
   ],
   "source": [
    "with open('data2.txt','r') as f:\n",
    "    print(f.read())"
   ]
  },
  {
   "cell_type": "markdown",
   "id": "3105e8f9-2177-4361-96f9-cb153b5aba74",
   "metadata": {},
   "source": [
    "### Q6. Explain the write() and writelines() functions. Give a suitable example."
   ]
  },
  {
   "cell_type": "code",
   "execution_count": 1,
   "id": "61332a02-1eaf-4c9c-9577-b9f17d9e0e39",
   "metadata": {},
   "outputs": [],
   "source": [
    "# write() is used to write string data to opened file \n",
    "with open('data3.txt','w') as f:\n",
    "    f.write('this is data to be written firstly \\n')\n",
    "    f.write('this is data to be written secondly')"
   ]
  },
  {
   "cell_type": "code",
   "execution_count": 13,
   "id": "f877d45f-5215-4ccd-8ecf-b9ccbc31a6e0",
   "metadata": {},
   "outputs": [],
   "source": [
    "# writelines() is used to write list of data to opened file \n",
    "\n",
    "lst=[]\n",
    "with open('data4.txt','w') as f:\n",
    "    lst.append('this is data to be written thirdly \\n')\n",
    "    lst.append('this is data to be written fourthly')\n",
    "    f.writelines(lst)"
   ]
  },
  {
   "cell_type": "code",
   "execution_count": 4,
   "id": "4dd48ce3-e2eb-4e5e-9263-3564dfa36aff",
   "metadata": {},
   "outputs": [
    {
     "name": "stdout",
     "output_type": "stream",
     "text": [
      "this is data to be written firstly \n",
      "this is data to be written secondly\n"
     ]
    }
   ],
   "source": [
    "with open('data3.txt','r') as f:\n",
    "    print(f.read())"
   ]
  },
  {
   "cell_type": "code",
   "execution_count": 14,
   "id": "967f7602-5e43-43c0-b20d-d52cfd2d92a0",
   "metadata": {},
   "outputs": [
    {
     "name": "stdout",
     "output_type": "stream",
     "text": [
      "this is data to be written thirdly \n",
      "this is data to be written fourthly\n"
     ]
    }
   ],
   "source": [
    "with open('data4.txt','r') as f:\n",
    "    print(f.read())"
   ]
  },
  {
   "cell_type": "code",
   "execution_count": null,
   "id": "21d5f2eb-d3a2-4276-ba74-c00b047ed045",
   "metadata": {},
   "outputs": [],
   "source": []
  }
 ],
 "metadata": {
  "kernelspec": {
   "display_name": "Python 3 (ipykernel)",
   "language": "python",
   "name": "python3"
  },
  "language_info": {
   "codemirror_mode": {
    "name": "ipython",
    "version": 3
   },
   "file_extension": ".py",
   "mimetype": "text/x-python",
   "name": "python",
   "nbconvert_exporter": "python",
   "pygments_lexer": "ipython3",
   "version": "3.10.8"
  }
 },
 "nbformat": 4,
 "nbformat_minor": 5
}
