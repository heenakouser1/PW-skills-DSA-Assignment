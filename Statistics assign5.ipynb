{
 "cells": [
  {
   "cell_type": "markdown",
   "id": "7b719017-c4f1-4804-bbeb-2c00f028e07c",
   "metadata": {},
   "source": [
    "Q1: What is Estimation Statistics? Explain point estimate and interval estimate.\n",
    "        "
   ]
  },
  {
   "cell_type": "code",
   "execution_count": null,
   "id": "fc3088e3-71a8-4a8a-a1cf-d1e06714b239",
   "metadata": {},
   "outputs": [],
   "source": [
    "Estimation statistics is a way of finding the unknown population parameter with sample data\n",
    "An estimator should be consistent. For instance, if it is consistent, the estimator value approaches the parameter value estimated as the sample size increases.\n",
    "Estimators should be unbiased. In other words, the expected value obtained from the sample is equal to the parameter being estimated. Otherwise, the estimator is biased.\n",
    "The estimator should be efficient. In other words, it should have a minimal variance from the actual variance of the estimator.\n",
    "\n",
    "point estimate : singe numerical value from sample data which is used to find the unknown population paramter\n",
    "x̅ = Σx/n\n",
    "\n",
    "interval estimate :A confidence interval estimate is a range of values constructed from sample data so that the population parameter is likely to occur within the range at a specified probability"
   ]
  },
  {
   "cell_type": "markdown",
   "id": "3c2ad855-2966-4b1a-8b98-9f1a580b0704",
   "metadata": {},
   "source": [
    "Q2. Write a Python function to estimate the population mean using a sample mean and standard\n",
    "deviation.\n"
   ]
  },
  {
   "cell_type": "code",
   "execution_count": 1,
   "id": "a0d3b6a2-14a2-4960-ba54-0252a6058ed2",
   "metadata": {},
   "outputs": [
    {
     "data": {
      "text/plain": [
       "20.0"
      ]
     },
     "execution_count": 1,
     "metadata": {},
     "output_type": "execute_result"
    }
   ],
   "source": [
    "def sample (smean, std):\n",
    "    pop_mean = smean/ std\n",
    "    return pop_mean\n",
    "\n",
    "sample(30, 1.5)"
   ]
  },
  {
   "cell_type": "markdown",
   "id": "7d078e7f-d5b0-483f-b8b3-76a9a832af85",
   "metadata": {},
   "source": [
    "Q3: What is Hypothesis testing? Why is it used? State the importance of Hypothesis testing.\n"
   ]
  },
  {
   "cell_type": "code",
   "execution_count": null,
   "id": "aa78b771-d065-4563-b87e-fdbbfb139c53",
   "metadata": {},
   "outputs": [],
   "source": [
    "Hypothesis testing is a statistical method used to determine whether a hypothesis about a population parameter is supported by the evidence provided by a sample of data.\n",
    "The process involves making a statistical inference about a population parameter, such as a mean or a proportion, based on sample data.\n",
    "In hypothesis testing, a null hypothesis is initially assumed to be true, and then evidence is gathered and analyzed to determine whether the null hypothesis can be rejected\n",
    "in favor of an alternative hypothesis. The null hypothesis represents the status quo or the default assumption, while the alternative hypothesis represents the proposed change or difference.\n",
    "Hypothesis testing is used in many fields, including science, engineering, business, and social sciences, to draw conclusions about the population based on sample data. \n",
    "For example, a pharmaceutical company may use hypothesis testing to determine whether a new drug is more effective than an existing drug. A marketing team may\n",
    "use hypothesis testing to determine whether a new advertising campaign is more effective than the current one.\n",
    "The importance of hypothesis testing lies in its ability to make statistical inferences about a population based on sample data, while accounting for the uncertainty\n",
    "and variability of the data. It provides a systematic and objective way to test a hypothesis and draw conclusions based on the evidence. Hypothesis testing allows us to\n",
    "make informed decisions based on data, rather than relying on intuition or guesswork.\n",
    "It is a critical tool in scientific research, where the validity and reliability of the results depend on the appropriate use of hypothesis testing\n",
    "\n",
    "Types of testing\n",
    "\n",
    "Two tail test\n",
    "one tail test (left and right)"
   ]
  },
  {
   "cell_type": "markdown",
   "id": "dbcf5c7b-17ed-4623-aaae-5da26938d697",
   "metadata": {},
   "source": [
    "Q4. Create a hypothesis that states whether the average weight of male college students is greater than\n",
    "the average weight of female college students.\n"
   ]
  },
  {
   "cell_type": "code",
   "execution_count": null,
   "id": "856abce2-3c05-4059-94ed-72f99f970710",
   "metadata": {},
   "outputs": [],
   "source": [
    "Null hypothesis : Average weight of male college students is greater than female college students\n",
    "Alternae hypothesis : Average weight of male college students is not greater than female college students"
   ]
  },
  {
   "cell_type": "markdown",
   "id": "0ff8e724-5118-4dd4-9a61-26b1e1f5d54a",
   "metadata": {},
   "source": [
    "Q5. Write a Python script to conduct a hypothesis test on the difference between two population means,\n",
    "given a sample from each population.\n"
   ]
  },
  {
   "cell_type": "code",
   "execution_count": 20,
   "id": "f6ff4394-22d2-48bb-b59d-294f6f5eeace",
   "metadata": {},
   "outputs": [
    {
     "name": "stdout",
     "output_type": "stream",
     "text": [
      "p-value : 0.32169930642579514\n",
      "t-statistic : 0.48099641639129004\n",
      "t-crit : 2.3060041350333704\n",
      "Fail to reject the null hypothesis: The population means of the two samples are EQUAL\n",
      "Fail to reject the null hypothesis: The population means of the two samples are EQUAL\n"
     ]
    }
   ],
   "source": [
    "import numpy as np\n",
    "from scipy.stats import t\n",
    "\n",
    "# Sample data\n",
    "sample1 = np.array([2, 3, 2, 3.8, 3.5])\n",
    "sample2 = np.array([2, 3.0, 3, 2, 3.2])\n",
    "\n",
    "# Sample statistics\n",
    "n1 = len(sample1)\n",
    "n2 = len(sample2)\n",
    "mean1 = np.mean(sample1)\n",
    "mean2 = np.mean(sample2)\n",
    "std1 = np.std(sample1, ddof=1)\n",
    "std2 = np.std(sample2, ddof=1)\n",
    "\n",
    "# Null and alternative hypotheses\n",
    "null_hypothesis = \"The population means of the two samples are EQUAL\"\n",
    "alt_hypothesis = \"The population mean of sample 1 and sample 2 are NOT Equal\"\n",
    "\n",
    "# Calculate the t-statistic and degrees of freedom\n",
    "sp = np.sqrt(((n1-1)*(std1**2) + (n2-1)*(std2**2)) / (n1+n2-2))\n",
    "t_stat = (mean1 - mean2) / (sp * np.sqrt(1/n1 + 1/n2))\n",
    "df = n1 + n2 - 2\n",
    "\n",
    "# Calculate the p-value and critical value\n",
    "p_value = 1 - t.cdf(t_stat, df=df)\n",
    "alpha = 0.05\n",
    "t_crit = t.ppf(1-alpha/2, df=df)\n",
    "\n",
    "# Print p_value\n",
    "print(f'p-value : {p_value}')\n",
    "\n",
    "# Print t_stat\n",
    "print(f't-statistic : {t_stat}')\n",
    "\n",
    "#print t_crit\n",
    "print(f't-crit : {t_crit}')\n",
    "\n",
    "# Compare the p-value and critical value to the significance level\n",
    "if p_value < alpha:\n",
    "    print(\"Reject the null hypothesis: \" + null_hypothesis)\n",
    "else:\n",
    "    print(\"Fail to reject the null hypothesis: \" + null_hypothesis)\n",
    "    \n",
    "# Compare the t-statistic to the critical value\n",
    "if abs(t_stat) > t_crit:\n",
    "    print(\"Reject the null hypothesis: \" + null_hypothesis)\n",
    "else:\n",
    "    print(\"Fail to reject the null hypothesis: \" + null_hypothesis)"
   ]
  },
  {
   "cell_type": "markdown",
   "id": "d816bb68-386a-475c-ab73-81c667cb06e2",
   "metadata": {},
   "source": [
    "Q6: What is a null and alternative hypothesis? Give some examples.\n"
   ]
  },
  {
   "cell_type": "code",
   "execution_count": null,
   "id": "9134cc4c-2fab-4042-b36b-0d894827cdcd",
   "metadata": {},
   "outputs": [],
   "source": [
    "In statistical hypothesis testing, the null hypothesis (denoted as H0) is a statement that assumes there is no significant difference between two or more variables, or that a proposed relationship does not exist between variables.\n",
    "The alternative hypothesis (denoted as Ha or H1) is a statement that contradicts the null hypothesis and claims that there is a significant difference between variables or a proposed relationship does exist.\n",
    "Examples of null and alternative hypotheses are:\n",
    "Null Hypothesis: The average age of customers who buy product A and product B is the same. Alternative Hypothesis: The average age of customers who buy product A is different from the average age of customers who buy product B.\n",
    "\n",
    "Null Hypothesis: The new drug has no effect on blood pressure. Alternative Hypothesis: The new drug reduces blood pressure.\n",
    "\n",
    "Null Hypothesis: There is no relationship between education level and job satisfaction. Alternative Hypothesis: Higher education levels are associated with higher job satisfaction.\n",
    "\n",
    "Null Hypothesis: The mean weight of male and female students is the same. Alternative Hypothesis: The mean weight of male students is greater than the mean weight of female students."
   ]
  },
  {
   "cell_type": "markdown",
   "id": "a1c9f53c-1b31-47a1-85bb-d79c1567a04b",
   "metadata": {},
   "source": [
    "Q7: Write down the steps involved in hypothesis testing.\n"
   ]
  },
  {
   "cell_type": "code",
   "execution_count": null,
   "id": "18bd4241-aa2c-4466-982d-7774816aa330",
   "metadata": {},
   "outputs": [],
   "source": [
    "The general steps involved in hypothesis testing are:\n",
    "State the null and alternative hypotheses: This involves defining the null hypothesis (H0) and alternative hypothesis (Ha) based on the research question or problem being investigated.\n",
    "\n",
    "Determine the level of significance: This involves selecting a level of significance (alpha) that represents the maximum probability of making a Type I error (rejecting the null hypothesis when it is actually true).\n",
    "\n",
    "Choose the appropriate test statistic: This depends on the type of data being analyzed, the sample size, and the assumptions of the statistical test.\n",
    "\n",
    "Calculate the test statistic: This involves computing the test statistic based on the sample data.\n",
    "\n",
    "Determine the p-value: This is the probability of obtaining a test statistic as extreme or more extreme than the observed value, assuming the null hypothesis is true.\n",
    "\n",
    "Compare the p-value to the level of significance: If the p-value is less than or equal to the level of significance, reject the null hypothesis. If the p-value is greater than the level of significance, fail to reject the null hypothesis.\n",
    "\n",
    "Interpret the results: This involves drawing conclusions based on the statistical analysis and determining the practical significance of the findings.\n",
    "\n",
    "Make a decision and draw conclusions: Based on the results of the hypothesis test, make a decision regarding the research question and draw conclusions based on the findings."
   ]
  },
  {
   "cell_type": "markdown",
   "id": "d7c09dd6-fe18-497a-aa69-29ec051e9197",
   "metadata": {},
   "source": [
    "Q8. Define p-value and explain its significance in hypothesis testing.\n"
   ]
  },
  {
   "cell_type": "code",
   "execution_count": null,
   "id": "95a04a10-3027-44ca-9ba3-f291c57cf46b",
   "metadata": {},
   "outputs": [],
   "source": [
    "In hypothesis testing, the p-value is the probability of obtaining a test statistic as extreme or more extreme than the observed value, \n",
    "assuming the null hypothesis is true. The p-value is a measure of the strength of the evidence against the null hypothesis.\n",
    "If the p-value is less than or equal to the level of significance (alpha), it is considered statistically significant, and the null hypothesis is rejected. \n",
    "This indicates that the observed result is unlikely to have occurred by chance and supports the alternative hypothesis. \n",
    "If the p-value is greater than the level of significance, the null hypothesis cannot be rejected, and the result is not considered statistically significant.\n",
    "The p-value is significant because it provides a quantitative measure of the strength of the evidence against the null hypothesis. A small p-value indicates \n",
    "strong evidence against the null hypothesis, whereas a large p-value indicates weak evidence against the null hypothesis. \n",
    "The p-value also helps researchers make informed decisions about whether to reject or fail to reject the null hypothesis and draw conclusions based on the statistical analysis."
   ]
  },
  {
   "cell_type": "markdown",
   "id": "e6f1f66d-1a2f-4802-b49d-ded9afd25c2e",
   "metadata": {},
   "source": [
    "Q9. Generate a Student's t-distribution plot using Python's matplotlib library, with the degrees of freedom\n",
    "parameter set to 10.\n"
   ]
  },
  {
   "cell_type": "code",
   "execution_count": 18,
   "id": "bdb3bd0c-7c0b-42fa-94a8-792e616e9323",
   "metadata": {},
   "outputs": [
    {
     "data": {
      "image/png": "[encoded data removed]",
      "text/plain": [
       "<Figure size 640x480 with 1 Axes>"
      ]
     },
     "metadata": {},
     "output_type": "display_data"
    }
   ],
   "source": [
    "import matplotlib.pyplot as plt\n",
    "import numpy as np\n",
    "from scipy.stats import t\n",
    "\n",
    "df = 10\n",
    "\n",
    "fig,c = plt.subplots()\n",
    "data = t.rvs(df,size = 1000)\n",
    "\n",
    "c.hist(data,bins='fd',density=True,edgecolor='green',alpha =0.5,label='hist')\n",
    "    \n",
    "    \n",
    "data1 = np.linspace(data.min(),data.max(),1000)\n",
    "pdf = t.pdf(data1, df )\n",
    "\n",
    "c.plot(data1,pdf,label='kde')\n",
    "\n",
    "c.set_xlabel('x')\n",
    "c.set_ylabel('Probability density')\n",
    "c.set_title('Student\\'s t-distribution with 10 degrees of freedom')\n",
    "c.legend(loc='best')\n",
    "plt.show()"
   ]
  },
  {
   "cell_type": "markdown",
   "id": "f9fb8838-4323-4959-bddc-348626ca4217",
   "metadata": {},
   "source": [
    "Q10. Write a Python program to calculate the two-sample t-test for independent samples, given two\n",
    "random samples of equal size and a null hypothesis that the population means are equal.\n"
   ]
  },
  {
   "cell_type": "code",
   "execution_count": 21,
   "id": "71cf6795-619c-40b3-b6a8-0559097d8914",
   "metadata": {},
   "outputs": [
    {
     "name": "stdout",
     "output_type": "stream",
     "text": [
      "t-statistic =  -2.2474879154957526\n",
      "p-value =  0.026850900612546882\n",
      "Confidence Interval = 0.99\n",
      "\n",
      "\n",
      "FAIL to reject the null hypothesis that the population means are equal.\n",
      "Conclusion : Population means for both samples are EQUAL\n"
     ]
    }
   ],
   "source": [
    "import numpy as np\n",
    "from scipy.stats import ttest_ind\n",
    "\n",
    "# Generate two random samples of equal size\n",
    "sample1 = np.random.normal(loc=10, scale=2, size=50)\n",
    "sample2 = np.random.normal(loc=12, scale=2, size=50)\n",
    "\n",
    "# Calculate the t-statistic and p-value using the ttest_ind function\n",
    "t_stat, p_val = ttest_ind(sample1, sample2)\n",
    "\n",
    "# Print the results\n",
    "print(\"t-statistic = \", t_stat)\n",
    "print(\"p-value = \", p_val)\n",
    "\n",
    "alpha = 0.01\n",
    "print(\"Confidence Interval =\",1-alpha)\n",
    "print('\\n')\n",
    "\n",
    "# Test the null hypothesis\n",
    "if p_val < alpha:\n",
    "    print(\"REJECT the null hypothesis that the population means are equal.\")\n",
    "    print(\"Conclusion : Population means for both samples are DIFFERENT\")\n",
    "else:\n",
    "    print(\"FAIL to reject the null hypothesis that the population means are equal.\")\n",
    "    print(\"Conclusion : Population means for both samples are EQUAL\")"
   ]
  },
  {
   "cell_type": "markdown",
   "id": "b3f7b157-ba41-4ea9-b6b7-5def7e394480",
   "metadata": {},
   "source": [
    "Q11: What is Student’s t distribution? When to use the t-Distribution.\n"
   ]
  },
  {
   "cell_type": "code",
   "execution_count": null,
   "id": "ac61d80f-8876-46cf-9156-7e13bc20b69b",
   "metadata": {},
   "outputs": [],
   "source": [
    "Student's t-distribution, also known as the t-distribution, is a probability distribution that is used to estimate \n",
    "the mean of a normally distributed population when the sample size is small and/or the population standard deviation is unknown. \n",
    "It was first introduced by William Sealy Gosset in 1908, who published under the pseudonym \"Student\".\n",
    "The t-distribution looks similar to a normal distribution, but it has heavier tails and is more spread out. The shap\n",
    "e of the t-distribution depends on a parameter known as degrees of freedom (df), which is related to the sample size.\n",
    "In general, the t-distribution is used in hypothesis testing and confidence interval estimation when the sample size is small \n",
    "(less than 30) or the population standard deviation is unknown. It allows us to make inferences about the population mean based on a small sample of data. \n",
    "The t-distribution is commonly used in a variety of fields, including statistics, engineering, and social sciences.\n",
    "Specifically, we use the t-distribution when:\n",
    "The sample size is small (less than 30).\n",
    "\n",
    "The population standard deviation is unknown.\n",
    "\n",
    "The population is normally distributed or approximately normally distributed (the central limit theorem applies).\n",
    "\n",
    "We want to make inferences about the population mean, such as testing whether a sample mean is significantly different from a hypothesized\n",
    "\n",
    "population mean or constructing a confidence interval for the population mean.\n",
    "\n",
    "Overall, the t-distribution is a useful tool for statistical analysis when working with small sample sizes or when the population standard deviation is unknown.\n"
   ]
  },
  {
   "cell_type": "markdown",
   "id": "762f4c8b-2086-4fb3-a2b4-91b8c6aaab49",
   "metadata": {},
   "source": [
    "Q12: What is t-statistic? State the formula for t-statistic.\n"
   ]
  },
  {
   "cell_type": "code",
   "execution_count": null,
   "id": "63c52045-6505-43cf-827c-26ffadf468b1",
   "metadata": {},
   "outputs": [],
   "source": [
    "The t-statistic is a test statistic that is used in hypothesis testing and confidence interval estimation when the population standard deviation is unknown and the sample size is small.\n",
    "It is a standardized measure of the difference between the sample mean and the hypothesized population mean, in units of the sample standard deviation\n",
    " \n",
    "The formula shows that the t-statistic is the difference between the sample mean and hypothesized population mean, standardized by the standard error of the mean, \n",
    "which is the sample standard deviation divided by the square root of the sample size."
   ]
  },
  {
   "cell_type": "markdown",
   "id": "7039c252-fcb8-41f1-83d2-b85a6405f535",
   "metadata": {},
   "source": [
    "Q13. A coffee shop owner wants to estimate the average daily revenue for their shop. They take a random\n",
    "sample of 50 days and find the sample mean revenue to be $500 with a standard deviation of $50.\n",
    "Estimate the population mean revenue with a 95% confidence interval.\n"
   ]
  },
  {
   "cell_type": "code",
   "execution_count": 31,
   "id": "85eb7363-5877-43ed-9efb-810cbfbb1b42",
   "metadata": {},
   "outputs": [
    {
     "name": "stdout",
     "output_type": "stream",
     "text": [
      "population mean revenue with a 95% confidence interval 485.79015724388137 to 514.2098427561186\n"
     ]
    }
   ],
   "source": [
    "import scipy.stats as stat\n",
    "import math\n",
    "\n",
    "sample_mean = 500\n",
    "std = 50\n",
    "alpha=0.05\n",
    "n=50\n",
    "\n",
    "df = n-1\n",
    "\n",
    "#x +/- z (alpha/2) sigma/sqrt(n)\n",
    "\n",
    "t_value = stat.t.ppf(1-alpha/2,df)\n",
    "\n",
    "error = std / math.sqrt(n)\n",
    "margin_error = t_value * error\n",
    "\n",
    "lower = sample_mean - margin_error\n",
    "upper = sample_mean + margin_error\n",
    "\n",
    "\n",
    "print('population mean revenue with a 95% confidence interval',lower,'to',upper)"
   ]
  },
  {
   "cell_type": "markdown",
   "id": "7c4ce0d9-a8ab-4215-ab2d-f26c11d9974b",
   "metadata": {},
   "source": [
    "Q14. A researcher hypothesizes that a new drug will decrease blood pressure by 10 mmHg. They conduct a\n",
    "clinical trial with 100 patients and find that the sample mean decrease in blood pressure is 8 mmHg with a\n",
    "standard deviation of 3 mmHg. Test the hypothesis with a significance level of 0.05.\n"
   ]
  },
  {
   "cell_type": "code",
   "execution_count": 37,
   "id": "786fd00f-e6a2-4954-a2bc-9ecef5ebc3ab",
   "metadata": {},
   "outputs": [
    {
     "name": "stdout",
     "output_type": "stream",
     "text": [
      "reject null hypothesis: new drug will decrease blood pressure by 10 mmHg\n"
     ]
    }
   ],
   "source": [
    "from scipy.stats import t\n",
    "import math\n",
    "\n",
    "n= 100\n",
    "sample_mean = 8\n",
    "u =10\n",
    "std= 3\n",
    "alpha=0.05\n",
    "df = n-1\n",
    "\n",
    "null = 'new drug will decrease blood pressure by 10 mmHg'\n",
    "alternate = 'new drug will not decrease blood pressure by 10 mmHg'\n",
    "t_stat = (sample_mean - u) / (std /math.sqrt(n))\n",
    "\n",
    "p_value = t.cdf(t_stat,df)\n",
    "\n",
    "if p_value < alpha:\n",
    "    print('reject null hypothesis:', null)\n",
    "else:\n",
    "    print('accept null hypothesis :',alternate)"
   ]
  },
  {
   "cell_type": "markdown",
   "id": "1166e778-e67f-4ef1-8635-0d076e0629aa",
   "metadata": {},
   "source": [
    "Q15. An electronics company produces a certain type of product with a mean weight of 5 pounds and a\n",
    "standard deviation of 0.5 pounds. A random sample of 25 products is taken, and the sample mean weight\n",
    "is found to be 4.8 pounds. Test the hypothesis that the true mean weight of the products is less than 5\n",
    "pounds with a significance level of 0.01.\n"
   ]
  },
  {
   "cell_type": "code",
   "execution_count": 39,
   "id": "3b8ab0ca-19b1-4fb0-b81b-b0a39a064908",
   "metadata": {},
   "outputs": [
    {
     "name": "stdout",
     "output_type": "stream",
     "text": [
      "reject null hypothesis: true mean weight of the products is  5 pounds \n"
     ]
    }
   ],
   "source": [
    "pop_mean = 5\n",
    "pop_std = 0.5\n",
    "\n",
    "\n",
    "\n",
    "\n",
    "from scipy.stats import t\n",
    "import math\n",
    "\n",
    "sample_size = 25\n",
    "sample_mean = 4.8\n",
    "alpha=0.01\n",
    "df = sample_size-1\n",
    "\n",
    "null = 'true mean weight of the products is  5 pounds '\n",
    "alternate = 'true mean weight of the products is  less than 5 pounds'\n",
    "\n",
    "t_stat = (sample_mean - pop_mean) / (pop_std /math.sqrt(n))\n",
    "\n",
    "p_value = t.cdf(t_stat,df)\n",
    "\n",
    "if p_value < alpha:\n",
    "    print('reject null hypothesis:', null)\n",
    "else:\n",
    "    print('accept null hypothesis :',alternate)\n"
   ]
  },
  {
   "cell_type": "markdown",
   "id": "a7d36f48-d243-4657-8c58-cdf48cf8c189",
   "metadata": {},
   "source": [
    "Q16. Two groups of students are given different study materials to prepare for a test. The first group (n1 =\n",
    "30) has a mean score of 80 with a standard deviation of 10, and the second group (n2 = 40) has a mean\n",
    "score of 75 with a standard deviation of 8. Test the hypothesis that the population means for the two\n",
    "groups are equal with a significance level of 0.01.\n"
   ]
  },
  {
   "cell_type": "code",
   "execution_count": 43,
   "id": "20d7d2e4-7e81-4fd1-836f-110f182beb99",
   "metadata": {},
   "outputs": [
    {
     "name": "stdout",
     "output_type": "stream",
     "text": [
      "Reject the null hypothesis: population means are equal\n",
      "Reject the null hypothesis: population means are equal\n"
     ]
    }
   ],
   "source": [
    "from scipy.stats import ttest_ind\n",
    "import math\n",
    "\n",
    "n1= 30\n",
    "mean1= 80\n",
    "std1 =10\n",
    "\n",
    "n2 = 40\n",
    "mean2= 75\n",
    "std2 = 8\n",
    "\n",
    "alpha = 0.01\n",
    "\n",
    "null_hypothesis='population means are equal'\n",
    "alternate_hypothesis ='population means are not equal'\n",
    "sp = np.sqrt(((n1-1)*(std1**2) + (n2-1)*(std2**2)) / (n1+n2-2))\n",
    "t_stat = (mean1 - mean2) / (sp * np.sqrt(1/n1 + 1/n2))\n",
    "df = n1 + n2 - 2\n",
    "\n",
    "# Calculate the p-value and critical value\n",
    "p_value = 1 - t.cdf(t_stat, df=df)\n",
    "alpha = 0.05\n",
    "t_crit = t.ppf(1-alpha/2, df=df)\n",
    "\n",
    "\n",
    "# Compare the p-value and critical value to the significance level\n",
    "if p_value < alpha:\n",
    "    print(\"Reject the null hypothesis: \" + null_hypothesis)\n",
    "else:\n",
    "    print(\"Fail to reject the null hypothesis: \" + alternate_hypothesis)\n",
    "    \n",
    "# Compare the t-statistic to the critical value\n",
    "if abs(t_stat) > t_crit:\n",
    "    print(\"Reject the null hypothesis: \" + null_hypothesis)\n",
    "else:\n",
    "    print(\"Fail to reject the null hypothesis: \" + alternate_hypothesis)"
   ]
  },
  {
   "cell_type": "markdown",
   "id": "e0ab07c0-e31d-431d-8b75-b47c63bc8ccd",
   "metadata": {},
   "source": [
    "Q17. A marketing company wants to estimate the average number of ads watched by viewers during a TV\n",
    "program. They take a random sample of 50 viewers and find that the sample mean is 4 with a standard\n",
    "deviation of 1.5. Estimate the population mean with a 99% confidence interval."
   ]
  },
  {
   "cell_type": "code",
   "execution_count": 49,
   "id": "81459251-f030-4df9-9f14-d18c6122c484",
   "metadata": {},
   "outputs": [
    {
     "name": "stdout",
     "output_type": "stream",
     "text": [
      "the population mean with 99% interval is 3.4314963358572577 to 4.568503664142742\n"
     ]
    }
   ],
   "source": [
    "n = 50 \n",
    "mean = 4\n",
    "std =1.5\n",
    "alpha = 0.01\n",
    "df = n-1\n",
    " \n",
    "from scipy.stats import t\n",
    "\n",
    "\n",
    "t_value = t.ppf(1-alpha /2,df)\n",
    "\n",
    "error = std / math.sqrt(n)\n",
    "\n",
    "margin_error = t_value *  error\n",
    "\n",
    "lower = mean - margin_error\n",
    "upper = mean + margin_error\n",
    "print('the population mean with 99% interval is' ,lower, 'to' , upper)"
   ]
  },
  {
   "cell_type": "code",
   "execution_count": null,
   "id": "86207621-c117-43ec-97e5-668e8f607db2",
   "metadata": {},
   "outputs": [],
   "source": []
  }
 ],
 "metadata": {
  "kernelspec": {
   "display_name": "Python 3 (ipykernel)",
   "language": "python",
   "name": "python3"
  },
  "language_info": {
   "codemirror_mode": {
    "name": "ipython",
    "version": 3
   },
   "file_extension": ".py",
   "mimetype": "text/x-python",
   "name": "python",
   "nbconvert_exporter": "python",
   "pygments_lexer": "ipython3",
   "version": "3.10.8"
  }
 },
 "nbformat": 4,
 "nbformat_minor": 5
}
