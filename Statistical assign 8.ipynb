{
 "cells": [
  {
   "cell_type": "code",
   "execution_count": null,
   "id": "349b7ac2-2159-4255-bc6e-ac4312234ab4",
   "metadata": {},
   "outputs": [],
   "source": [
    "Q1. Explain the assumptions required to use ANOVA and provide examples of violations that could impact\n",
    "the validity of the results.\n"
   ]
  },
  {
   "cell_type": "code",
   "execution_count": null,
   "id": "1f1fb4ed-9c53-4c8f-8c9b-a018be3cb7c8",
   "metadata": {},
   "outputs": [],
   "source": [
    "Analysis of Variance (ANOVA) is a statistical method used to compare means between three or more groups. \n",
    "The method makes several assumptions about the data, which are important to consider when interpreting the results.\n",
    "Assumptions of ANOVA:\n",
    "Independence: The observations within each group must be independent of each other. This means that the value\n",
    "of one observation should not influence the value of another observation within the same group.\n",
    "\n",
    "Normality: The distribution of the data within each group should be approximately normal. This means that the data \n",
    "should be symmetrically distributed around the mean and the majority of the data should be located near the mean.\n",
    "\n",
    "Homogeneity of variance: The variance within each group should be approximately equal. This means that the spread of the data should be similar across all groups.\n",
    "\n",
    "Violations of these assumptions can impact the validity of ANOVA results and should be carefully considered when interpreting \n",
    "the results. Examples of violations include:\n",
    "Independence: If there is a relationship between observations within a group, the assumption of independence is violated. For\n",
    "example, if the same individual is measured multiple times in a study, the observations within that individual are not independent.\n",
    "\n",
    "Normality: If the data is not normally distributed within each group, the ANOVA results may not be valid. For example, if the\n",
    "data is highly skewed, the normality assumption may be violated.\n",
    "\n",
    "Homogeneity of variance: If the variance is not approximately equal within each group, the ANOVA results may not be valid. For \n",
    "example, if the variance in one group is much larger than the variance in another group, the homogeneity of variance assumption may be violated.\n",
    "\n",
    "In summary, it is important to carefully consider the assumptions of ANOVA and to check for any violations before interpreting the results. \n",
    "If violations are found, alternative methods may need to be used to analyze the data."
   ]
  },
  {
   "cell_type": "code",
   "execution_count": null,
   "id": "7a1f8109-9b0a-467f-9c60-849e2a609888",
   "metadata": {},
   "outputs": [],
   "source": [
    "Q2. What are the three types of ANOVA, and in what situations would each be used?\n"
   ]
  },
  {
   "cell_type": "code",
   "execution_count": null,
   "id": "1e34d173-d33c-4e07-b355-2a68117cae45",
   "metadata": {},
   "outputs": [],
   "source": [
    "Three types of ANOVA are :\n",
    "One-Way ANOVA: One-way ANOVA is a type of ANOVA that is used to compare the means of three or more groups \n",
    "that are classified by a single factor or independent variable. For example, a researcher might be interested in \n",
    "determining whether there are significant differences in the effectiveness of three different types of pain medication. \n",
    "The factor is the type of pain medication, and the dependent variable is the level of pain relief. One-way ANOVA is used to test whether\n",
    "there is a significant difference in the mean level of pain relief between the three types of pain medication.\n",
    "\n",
    "Repeated Measures ANOVA: Repeated measures ANOVA is a type of ANOVA that is used to compare the means of three or more groups\n",
    "when the same individuals are measured repeatedly over time or under different conditions. For example, a researcher might be \n",
    "interested in determining whether there are significant differences in the reaction time of participants when they are presented \n",
    "with different types of stimuli. The factor is the type of stimulus, and the dependent variable is the reaction time. Repeated measures \n",
    "ANOVA is used to test whether there is a significant difference in the mean reaction time between the different types of stimuli.\n",
    "\n",
    "Factorial ANOVA: Factorial ANOVA is a type of ANOVA that is used to compare the means of three or more groups when there are two or\n",
    "more independent variables or factors. For example, a researcher might be interested in determining whether there are significant differences\n",
    "in the effectiveness of a weight loss program that is targeted towards men and women. The factors are gender and weight loss program, and the\n",
    "dependent variable is the amount of weight lost. Factorial ANOVA is used to test whether there is a significant interaction between the gender \n",
    "and weight loss program factors, as well as the main effects of each factor on weight loss."
   ]
  },
  {
   "cell_type": "code",
   "execution_count": null,
   "id": "6fc4c452-c8cd-47b5-8064-6147b52b298b",
   "metadata": {},
   "outputs": [],
   "source": [
    "Q3. What is the partitioning of variance in ANOVA, and why is it important to understand this concept?\n",
    "    "
   ]
  },
  {
   "cell_type": "code",
   "execution_count": null,
   "id": "92dd5f42-8685-4a49-923f-cd7239342f59",
   "metadata": {},
   "outputs": [],
   "source": [
    "\n",
    "The partitioning of variance in ANOVA refers to the division of the total variation in a \n",
    "dataset into different sources of variation, which are then used to calculate the F-statistic and test\n",
    "for significant differences between groups. In ANOVA, the total variance is partitioned into two components: the variance between groups and the variance within groups.\n",
    "The variance between groups represents the differences between the group means, and is calculated by taking the\n",
    "sum of squares between groups (SSB). The variance within groups represents the variability within each group, and is \n",
    "calculated by taking the sum of squares within groups (SSW). The total variance is calculated by taking the sum of squares total (SST), \n",
    "which is the sum of the squared differences between each data point and the overall mean.\n",
    "By understanding the partitioning of variance in ANOVA, we can determine the proportion of the total variance that can \n",
    "be attributed to the differences between groups (SSB), and the proportion that is due to random error within each group (SSW). \n",
    "This allows us to test whether the differences between groups are statistically significant, and to determine the magnitude of these \n",
    "differences relative to the overall variability in the dataset. It also allows us to identify the sources of variation that are most\n",
    "important in explaining the differences between groups, and to assess the validity of our conclusions based on the assumptions underlying the ANOVA model.\n",
    "In summary, understanding the partitioning of variance in ANOVA is important for interpreting the results of the analysis,\n",
    "identifying sources of variation that contribute to group differences, and evaluating the assumptions underlying the ANOVA model."
   ]
  },
  {
   "cell_type": "code",
   "execution_count": null,
   "id": "31b34aca-84bc-4c71-943a-b099950955ae",
   "metadata": {},
   "outputs": [],
   "source": [
    "Q4. How would you calculate the total sum of squares (SST), explained sum of squares (SSE), and residual\n",
    "sum of squares (SSR) in a one-way ANOVA using Python?\n"
   ]
  },
  {
   "cell_type": "code",
   "execution_count": 5,
   "id": "80faa98b-3cc4-42ab-b801-f0e48034a541",
   "metadata": {},
   "outputs": [
    {
     "name": "stdout",
     "output_type": "stream",
     "text": [
      "             df    sum_sq     mean_sq            F        PR(>F)\n",
      "species     2.0  437.1028  218.551400  1180.161182  2.856777e-91\n",
      "Residual  147.0   27.2226    0.185188          NaN           NaN\n"
     ]
    }
   ],
   "source": [
    "from statsmodels.stats.anova import anova_lm\n",
    "from statsmodels .formula.api import ols\n",
    "import seaborn as sns\n",
    "\n",
    "\n",
    "df = sns.load_dataset('iris')\n",
    "\n",
    "model = ols('petal_length ~ species',data=df).fit()\n",
    "\n",
    "sse = model.ess\n",
    "ssr = model.ssr\n",
    "sst = sse+ssr\n",
    "\n",
    "print(anova_lm(model))"
   ]
  },
  {
   "cell_type": "code",
   "execution_count": null,
   "id": "0aa57056-ffd4-467e-b891-c16a08f6d8c0",
   "metadata": {},
   "outputs": [],
   "source": [
    "Q5. In a two-way ANOVA, how would you calculate the main effects and interaction effects using Python?\n"
   ]
  },
  {
   "cell_type": "code",
   "execution_count": 2,
   "id": "0af3c32a-af07-4832-a29b-b66eaff579d2",
   "metadata": {},
   "outputs": [
    {
     "data": {
      "text/html": [
       "<div>\n",
       "<style scoped>\n",
       "    .dataframe tbody tr th:only-of-type {\n",
       "        vertical-align: middle;\n",
       "    }\n",
       "\n",
       "    .dataframe tbody tr th {\n",
       "        vertical-align: top;\n",
       "    }\n",
       "\n",
       "    .dataframe thead th {\n",
       "        text-align: right;\n",
       "    }\n",
       "</style>\n",
       "<table border=\"1\" class=\"dataframe\">\n",
       "  <thead>\n",
       "    <tr style=\"text-align: right;\">\n",
       "      <th></th>\n",
       "      <th>sepal_length</th>\n",
       "      <th>sepal_width</th>\n",
       "      <th>petal_length</th>\n",
       "      <th>petal_width</th>\n",
       "      <th>species</th>\n",
       "    </tr>\n",
       "  </thead>\n",
       "  <tbody>\n",
       "    <tr>\n",
       "      <th>0</th>\n",
       "      <td>5.1</td>\n",
       "      <td>3.5</td>\n",
       "      <td>1.4</td>\n",
       "      <td>0.2</td>\n",
       "      <td>setosa</td>\n",
       "    </tr>\n",
       "    <tr>\n",
       "      <th>1</th>\n",
       "      <td>4.9</td>\n",
       "      <td>3.0</td>\n",
       "      <td>1.4</td>\n",
       "      <td>0.2</td>\n",
       "      <td>setosa</td>\n",
       "    </tr>\n",
       "    <tr>\n",
       "      <th>2</th>\n",
       "      <td>4.7</td>\n",
       "      <td>3.2</td>\n",
       "      <td>1.3</td>\n",
       "      <td>0.2</td>\n",
       "      <td>setosa</td>\n",
       "    </tr>\n",
       "    <tr>\n",
       "      <th>3</th>\n",
       "      <td>4.6</td>\n",
       "      <td>3.1</td>\n",
       "      <td>1.5</td>\n",
       "      <td>0.2</td>\n",
       "      <td>setosa</td>\n",
       "    </tr>\n",
       "    <tr>\n",
       "      <th>4</th>\n",
       "      <td>5.0</td>\n",
       "      <td>3.6</td>\n",
       "      <td>1.4</td>\n",
       "      <td>0.2</td>\n",
       "      <td>setosa</td>\n",
       "    </tr>\n",
       "  </tbody>\n",
       "</table>\n",
       "</div>"
      ],
      "text/plain": [
       "   sepal_length  sepal_width  petal_length  petal_width species\n",
       "0           5.1          3.5           1.4          0.2  setosa\n",
       "1           4.9          3.0           1.4          0.2  setosa\n",
       "2           4.7          3.2           1.3          0.2  setosa\n",
       "3           4.6          3.1           1.5          0.2  setosa\n",
       "4           5.0          3.6           1.4          0.2  setosa"
      ]
     },
     "execution_count": 2,
     "metadata": {},
     "output_type": "execute_result"
    }
   ],
   "source": [
    "import seaborn as sns\n",
    "\n",
    "df = sns.load_dataset('iris')\n",
    "df.head()"
   ]
  },
  {
   "cell_type": "code",
   "execution_count": 5,
   "id": "c1128858-77c5-40db-9ea9-2e5fc7ce2536",
   "metadata": {},
   "outputs": [
    {
     "name": "stdout",
     "output_type": "stream",
     "text": [
      "main effect C(species)                          NaN\n",
      "C(sepal_width)                48.787995\n",
      "C(species):C(sepal_width)    131.529630\n",
      "Name: sum_sq, dtype: float64\n",
      "interaction effect C(species)   NaN\n",
      "Name: sum_sq, dtype: float64\n",
      "                               sum_sq     df          F        PR(>F)\n",
      "C(species)                        NaN    2.0        NaN           NaN\n",
      "C(sepal_width)              48.787995   22.0  11.711669  4.679696e-10\n",
      "C(species):C(sepal_width)  131.529630   44.0  15.786994  7.024495e-26\n",
      "Residual                    20.260738  107.0        NaN           NaN\n"
     ]
    },
    {
     "name": "stderr",
     "output_type": "stream",
     "text": [
      "/opt/conda/lib/python3.10/site-packages/statsmodels/base/model.py:1871: ValueWarning: covariance of constraints does not have full rank. The number of constraints is 2, but rank is 0\n",
      "  warnings.warn('covariance of constraints does not have full '\n",
      "/opt/conda/lib/python3.10/site-packages/statsmodels/base/model.py:1900: RuntimeWarning: invalid value encountered in divide\n",
      "  F /= J\n",
      "/opt/conda/lib/python3.10/site-packages/statsmodels/base/model.py:1871: ValueWarning: covariance of constraints does not have full rank. The number of constraints is 22, but rank is 6\n",
      "  warnings.warn('covariance of constraints does not have full '\n",
      "/opt/conda/lib/python3.10/site-packages/statsmodels/base/model.py:1871: ValueWarning: covariance of constraints does not have full rank. The number of constraints is 44, but rank is 26\n",
      "  warnings.warn('covariance of constraints does not have full '\n",
      "/opt/conda/lib/python3.10/site-packages/statsmodels/base/model.py:1871: ValueWarning: covariance of constraints does not have full rank. The number of constraints is 2, but rank is 0\n",
      "  warnings.warn('covariance of constraints does not have full '\n",
      "/opt/conda/lib/python3.10/site-packages/statsmodels/base/model.py:1900: RuntimeWarning: invalid value encountered in divide\n",
      "  F /= J\n",
      "/opt/conda/lib/python3.10/site-packages/statsmodels/base/model.py:1871: ValueWarning: covariance of constraints does not have full rank. The number of constraints is 22, but rank is 6\n",
      "  warnings.warn('covariance of constraints does not have full '\n",
      "/opt/conda/lib/python3.10/site-packages/statsmodels/base/model.py:1871: ValueWarning: covariance of constraints does not have full rank. The number of constraints is 44, but rank is 26\n",
      "  warnings.warn('covariance of constraints does not have full '\n",
      "/opt/conda/lib/python3.10/site-packages/statsmodels/base/model.py:1871: ValueWarning: covariance of constraints does not have full rank. The number of constraints is 2, but rank is 0\n",
      "  warnings.warn('covariance of constraints does not have full '\n",
      "/opt/conda/lib/python3.10/site-packages/statsmodels/base/model.py:1900: RuntimeWarning: invalid value encountered in divide\n",
      "  F /= J\n",
      "/opt/conda/lib/python3.10/site-packages/statsmodels/base/model.py:1871: ValueWarning: covariance of constraints does not have full rank. The number of constraints is 22, but rank is 6\n",
      "  warnings.warn('covariance of constraints does not have full '\n",
      "/opt/conda/lib/python3.10/site-packages/statsmodels/base/model.py:1871: ValueWarning: covariance of constraints does not have full rank. The number of constraints is 44, but rank is 26\n",
      "  warnings.warn('covariance of constraints does not have full '\n"
     ]
    }
   ],
   "source": [
    "import statsmodels.api as sm\n",
    "from statsmodels.formula.api import ols\n",
    "from statsmodels.stats.anova import anova_lm\n",
    "\n",
    "model_formula = 'sepal_length ~ C(species) +C(sepal_width)+ C(species):C(sepal_width)'\n",
    "\n",
    "model = ols(model_formula,data=df).fit()\n",
    "\n",
    "main_effect = sm.stats.anova_lm(model,typ=2)['sum_sq'][:3]\n",
    "interaction_effect = sm.stats.anova_lm(model,typ=2)['sum_sq'][0:1]\n",
    "\n",
    "print('main effect', main_effect)\n",
    "print('interaction effect', interaction_effect)\n",
    "\n",
    "print(anova_lm(model,typ=2))"
   ]
  },
  {
   "cell_type": "code",
   "execution_count": null,
   "id": "67fc6345-a315-4d91-af1c-49bfce48ffa7",
   "metadata": {},
   "outputs": [],
   "source": [
    "Q6. Suppose you conducted a one-way ANOVA and obtained an F-statistic of 5.23 and a p-value of 0.02.\n",
    "What can you conclude about the differences between the groups, and how would you interpret these\n",
    "results?\n"
   ]
  },
  {
   "cell_type": "code",
   "execution_count": null,
   "id": "b30b9ffb-1a86-490d-8605-4309c9b024c8",
   "metadata": {},
   "outputs": [],
   "source": [
    "Significance value is not given in above problem I am assuming significance value of alpha = 0.05\n",
    "If the alpha value is 0.05 and the p-value is 0.02, then we can REJECT the null hypothesis at the 0.05 level of significance. \n",
    "This means that there is sufficient evidence to conclude that there is a statistically significant difference between the groups.\n",
    "In this case, we would reject the null hypothesis, indicating that there is a significant difference between the groups. However,\n",
    "we still need to investigate the direction of this difference and which specific groups are different from each other.\n",
    "The F-statistic of 5.23 suggests that there is a difference between the groups, and the magnitude of the F-value indicates that the \n",
    "variability between groups is 5.23 times the variability within groups. However, post-hoc tests or further analyses are necessary to determine which groups are significantly different from each other.\n",
    "Post Hoc methods like Tukey's Honestly Significant Difference (HSD), Bonferroni correction, Scheffe's method can be used for further analysis of means"
   ]
  },
  {
   "cell_type": "code",
   "execution_count": null,
   "id": "160e2fa9-76ac-44ce-becd-caa16186f0eb",
   "metadata": {},
   "outputs": [],
   "source": [
    "Q7. In a repeated measures ANOVA, how would you handle missing data, and what are the potential\n",
    "consequences of using different methods to handle missing data?\n"
   ]
  },
  {
   "cell_type": "code",
   "execution_count": null,
   "id": "9c5beb01-f508-4187-8ac4-e15f144b9016",
   "metadata": {},
   "outputs": [],
   "source": [
    "In repeated measures ANOVA, missing data can occur when one or more measurements are not available for a particular subject at a specific time point. \n",
    "There are several methods to handle missing data in repeated measures ANOVA, each with its own potential consequences:\n",
    "Complete Case Analysis (CCA): This method involves excluding any participant with missing data from the analysis. CCA is easy to implement and can lead \n",
    "to unbiased estimates if data are missing at random. However, it can result in a loss of statistical power,\n",
    "and the assumption of missing completely at random (MCAR) may be violated.\n",
    "\n",
    "Last Observation Carried Forward (LOCF): This method involves using the last observed value of a variable as a substitute for any missing values for that \n",
    "variable at later time points. LOCF can produce biased estimates if the assumption that missing values are missing completely at random (MCAR) is not met.\n",
    "\n",
    "Multiple Imputation (MI): This method involves imputing missing values with plausible values, and then analyzing each of the completed datasets separately.\n",
    "MI can lead to unbiased estimates if data are missing at random (MAR) or missing not at random (MNAR), but it can be computationally intensive and requires making assumptions about the distribution of the missing data.\n",
    "\n",
    "Maximum Likelihood (ML): This method involves estimating model parameters using all available data and allowing for missing values. ML can lead to unbiased\n",
    "estimates if data are missing at random (MAR), but it requires making assumptions about the distribution of the missing data.\n",
    "\n",
    "The choice of method for handling missing data in repeated measures ANOVA should depend on the reason for the missing data and the assumptions that can be \n",
    "made about the missingness mechanism. The potential consequences of using different methods to handle missing data can include biased estimates, loss of statistical power, and reduced generalizability of the findings."
   ]
  },
  {
   "cell_type": "code",
   "execution_count": null,
   "id": "ef6c146e-ac8f-4116-a65c-1ff59f46c9b2",
   "metadata": {},
   "outputs": [],
   "source": [
    "Q8. What are some common post-hoc tests used after ANOVA, and when would you use each one? Provide\n",
    "an example of a situation where a post-hoc test might be necessary.\n"
   ]
  },
  {
   "cell_type": "code",
   "execution_count": null,
   "id": "39b83985-04e9-44d7-85f8-55604ffc7fd2",
   "metadata": {},
   "outputs": [],
   "source": [
    "Post-hoc tests are used in ANOVA to compare specific pairs of groups after a significant main effect or interaction effect has been found. Some common post-hoc tests include:\n",
    "Tukey's Honestly Significant Difference (HSD) test: This test compares all possible pairs of group means and controls for the family-wise \n",
    "error rate. It is often used when the number of groups is equal or large, and when there is no prior knowledge about which groups differ.\n",
    "\n",
    "Bonferroni correction: This test controls the family-wise error rate by dividing the alpha level by the number of comparisons. It is often used when there are few groups or when there is prior knowledge about which groups differ.\n",
    "\n",
    "Scheffe's test: This test also controls the family-wise error rate but is more conservative than Tukey's HSD test. It is often used when the number of groups is large, and when there is no prior knowledge about which groups differ.\n",
    "\n",
    "Dunnett's test: This test compares each group mean to a control group mean and controls for the family-wise error rate. It is often used when\n",
    "there is a control group and when the research question is focused on comparing other groups to the control group.\n",
    "\n",
    "The choice of post-hoc test depends on the research question, the number of groups, and the prior knowledge about which groups are likely to differ.\n",
    "A post-hoc test might be necessary when an ANOVA indicates a significant difference between groups but does not identify which specific groups differ. \n",
    "For example, a researcher might conduct an ANOVA to examine the effect of different instructional methods on student achievement. If the ANOVA shows a significant \n",
    "main effect of instructional method, the researcher might use a post-hoc test to compare the mean scores of each instructional method to identify which methods are significantly different from each other.\n",
    "\n",
    "Question 9"
   ]
  },
  {
   "cell_type": "code",
   "execution_count": null,
   "id": "9956b023-0455-4370-8750-bf0901fdfee9",
   "metadata": {},
   "outputs": [],
   "source": [
    "Q9. A researcher wants to compare the mean weight loss of three diets: A, B, and C. They collect data from\n",
    "50 participants who were randomly assigned to one of the diets. Conduct a one-way ANOVA using Python\n",
    "to determine if there are any significant differences between the mean weight loss of the three diets.\n",
    "Report the F-statistic and p-value, and interpret the results.\n"
   ]
  },
  {
   "cell_type": "code",
   "execution_count": 7,
   "id": "232c5ac2-a704-4e84-8e71-674bb82f0b91",
   "metadata": {},
   "outputs": [
    {
     "name": "stdout",
     "output_type": "stream",
     "text": [
      "reject null: three diets differnet weight loss\n"
     ]
    }
   ],
   "source": [
    "import numpy as np\n",
    "from scipy.stats import f_oneway\n",
    "\n",
    "A = np.random.normal(1,5,50)\n",
    "B = np.random.normal(3,5,50)\n",
    "C = np.random.normal(2,5,50)\n",
    "\n",
    "null = 'three diets have same weight loss'\n",
    "alternate = 'three diets differnet weight loss'\n",
    "\n",
    "f_stat, p = f_oneway(A,B,C)\n",
    "\n",
    "alpha = 0.05\n",
    "\n",
    "if p<alpha:\n",
    "    print('reject null:', alternate)\n",
    "else:\n",
    "    print('accept null:', null)"
   ]
  },
  {
   "cell_type": "code",
   "execution_count": null,
   "id": "a6338097-02b4-48c7-9ac8-61264c25225b",
   "metadata": {},
   "outputs": [],
   "source": [
    "Q10. A company wants to know if there are any significant differences in the average time it takes to\n",
    "complete a task using three different software programs: Program A, Program B, and Program C. They\n",
    "randomly assign 30 employees to one of the programs and record the time it takes each employee to\n",
    "complete the task. Conduct a two-way ANOVA using Python to determine if there are any main effects or\n",
    "interaction effects between the software programs and employee experience level (novice vs.\n",
    "experienced). Report the F-statistics and p-values, and interpret the results.\n"
   ]
  },
  {
   "cell_type": "code",
   "execution_count": 23,
   "id": "b1001405-0275-4987-a713-8f55dbb80e52",
   "metadata": {},
   "outputs": [
    {
     "name": "stdout",
     "output_type": "stream",
     "text": [
      "  software experience       time\n",
      "0        A        Nov   9.893413\n",
      "1        B        exp   8.857808\n",
      "2        C        Nov   9.271280\n",
      "3        C        exp  11.202295\n",
      "4        B        Nov   8.946930\n"
     ]
    }
   ],
   "source": [
    "from statsmodels.formula.api import ols\n",
    "from statsmodels.stats.anova import anova_lm\n",
    "import numpy as np\n",
    "import pandas as pd\n",
    "\n",
    "\n",
    "df = pd.DataFrame({'software': ['A','B','C','C','B','A','B','A','C','C','A','B','C','C','B','A','B','A','C','C','A','B','C','C','B','A','B','A','C','C'],\n",
    "                   'experience':['Nov','exp','Nov','exp','Nov','exp','Nov','exp','Nov','exp','Nov','exp','Nov','exp','Nov','exp','Nov','exp','Nov','exp','Nov','exp','Nov','exp','Nov','exp','Nov','exp','Nov','exp'],\n",
    "                   'time': np.random.normal(loc=10,scale=2, size =30)})\n",
    "\n",
    "print(df.head())"
   ]
  },
  {
   "cell_type": "code",
   "execution_count": 24,
   "id": "2e77f2ff-8a96-4c51-804a-719cd7be7c97",
   "metadata": {},
   "outputs": [
    {
     "name": "stdout",
     "output_type": "stream",
     "text": [
      "anova model is                               sum_sq    df         F    PR(>F)\n",
      "C(software)                 0.486608   2.0  0.101374  0.903980\n",
      "C(experience)               4.783032   1.0  1.992884  0.170874\n",
      "C(software):C(experience)   5.056499   2.0  1.053413  0.364322\n",
      "Residual                   57.601316  24.0       NaN       NaN\n",
      "              \n",
      "There is not a significant main effect of software\n",
      "There is not a significant main effect of experience\n",
      "There is not a significant interaction effect between software and experience\n"
     ]
    }
   ],
   "source": [
    "model_formula = 'time ~ C(software) + C(experience)+C(software):C(experience)'\n",
    "\n",
    "model = ols(model_formula, data = df).fit()\n",
    "\n",
    "value = sm.stats.anova_lm(model, typ=2)\n",
    "\n",
    "print('anova model is', value)\n",
    "print('              ')\n",
    "alpha =0.05\n",
    "\n",
    "if value['PR(>F)'][0] < alpha:\n",
    "    print('There is a significant main effect of software')\n",
    "else:\n",
    "    print('There is not a significant main effect of software')\n",
    "\n",
    "\n",
    "if value['PR(>F)'][1] < alpha:\n",
    "    print('There is a significant main effect of experience')\n",
    "else:\n",
    "    print('There is not a significant main effect of experience')\n",
    "    \n",
    "if value['PR(>F)'][2]< alpha:\n",
    "    print('There is a significant interaction effect between software and experience')\n",
    "else:\n",
    "    print('There is not a significant interaction effect between software and experience')"
   ]
  },
  {
   "cell_type": "code",
   "execution_count": null,
   "id": "8bb2849d-bd88-473d-9847-0d2fb921475d",
   "metadata": {},
   "outputs": [],
   "source": [
    "Q11. An educational researcher is interested in whether a new teaching method improves student test\n",
    "scores. They randomly assign 100 students to either the control group (traditional teaching method) or the\n",
    "experimental group (new teaching method) and administer a test at the end of the semester. Conduct a\n",
    "two-sample t-test using Python to determine if there are any significant differences in test scores\n",
    "between the two groups. If the results are significant, follow up with a post-hoc test to determine which\n",
    "group(s) differ significantly from each other.\n"
   ]
  },
  {
   "cell_type": "code",
   "execution_count": 31,
   "id": "6cc0156a-eb90-425b-9383-772d8e12d6d5",
   "metadata": {},
   "outputs": [
    {
     "name": "stdout",
     "output_type": "stream",
     "text": [
      "       score    group\n",
      "0  13.970920  control\n",
      "1  11.474915  control\n",
      "2  14.161988  control\n",
      "3  11.437428  control\n",
      "4   9.120410  control\n"
     ]
    }
   ],
   "source": [
    "import pandas as pd\n",
    "import numpy as np\n",
    "from scipy.stats import ttest_ind\n",
    "\n",
    "control_group = np.random.normal(loc=10, scale=2, size =50)\n",
    "experiment_group = np.random.normal(loc=10, scale=2, size =50)\n",
    "\n",
    "df =pd.DataFrame({'score':list(control_group) + list(experiment_group),\n",
    "                   'group': ['control']*50 + ['experiment']*50})\n",
    "print(df.head())"
   ]
  },
  {
   "cell_type": "code",
   "execution_count": 29,
   "id": "6649a903-e765-490a-b9fd-2e0cd9c65a6f",
   "metadata": {},
   "outputs": [
    {
     "name": "stdout",
     "output_type": "stream",
     "text": [
      "accept null: There is SIGNIFICANT difference in test scores between the control and experimental groups.\n"
     ]
    }
   ],
   "source": [
    "null_hypothesis = \"There is NO difference in test scores between the control and experimental groups.\"\n",
    "alt_hypothesis = \"There is SIGNIFICANT difference in test scores between the control and experimental groups.\"\n",
    "\n",
    "control_scores = df[df['group']=='control']['score']\n",
    "experiment_scores = df[df['group']=='experiment']['score']\n",
    "\n",
    "t_stat, p = ttest_ind(control_scores,experiment_scores,equal_var=True)\n",
    "alpha = 0.05\n",
    "if p<alpha:\n",
    "    print('reject null:', null_hypothesis)\n",
    "else:\n",
    "    print('accept null:', alt_hypothesis)"
   ]
  },
  {
   "cell_type": "code",
   "execution_count": 33,
   "id": "e488295e-e0e7-47b9-9125-36c81ff1df6f",
   "metadata": {},
   "outputs": [
    {
     "name": "stdout",
     "output_type": "stream",
     "text": [
      "  Multiple Comparison of Means - Tukey HSD, FWER=0.05  \n",
      "=======================================================\n",
      " group1   group2   meandiff p-adj  lower  upper  reject\n",
      "-------------------------------------------------------\n",
      "control experiment   0.4736 0.215 -0.2794 1.2265  False\n",
      "-------------------------------------------------------\n"
     ]
    }
   ],
   "source": [
    "# HSD test -------------\n",
    "\n",
    "from statsmodels.stats.multicomp import pairwise_tukeyhsd\n",
    "\n",
    "\n",
    "tukey_results = pairwise_tukeyhsd(df['score'], df['group'], 0.05)\n",
    "print(tukey_results)"
   ]
  },
  {
   "cell_type": "code",
   "execution_count": null,
   "id": "a1a8089e-f855-404b-b689-0f783ed24a9b",
   "metadata": {},
   "outputs": [],
   "source": [
    "Q12. A researcher wants to know if there are any significant differences in the average daily sales of three\n",
    "retail stores: Store A, Store B, and Store C. They randomly select 30 days and record the sales for each store\n",
    "on those days. Conduct a repeated measures ANOVA using Python to determine if there are any\n",
    "\n",
    "significant differences in sales between the three stores. If the results are significant, follow up with a post-\n",
    "hoc test to determine which store(s) differ significantly from each other."
   ]
  },
  {
   "cell_type": "code",
   "execution_count": 65,
   "id": "0c6f7b9e-03dd-4302-afe4-94a2b7d9448f",
   "metadata": {},
   "outputs": [
    {
     "name": "stdout",
     "output_type": "stream",
     "text": [
      "     Store A    Store B    Store C\n",
      "5  10.607586  11.520770  13.233781\n",
      "6   6.548075   9.428709  12.851020\n",
      "7  13.170191  11.076735   8.670490\n",
      "8  10.268593   5.832207  11.970036\n",
      "9   7.786289  11.875563   6.599069\n"
     ]
    }
   ],
   "source": [
    "import pandas as pd\n",
    "import numpy as np\n",
    "\n",
    "np.random.seed(30)\n",
    "Sales_A = np.random.normal(loc=10,scale=2,size=10)\n",
    "Sales_B = np.random.normal(loc=10,scale=2,size=10)\n",
    "Sales_C = np.random.normal(loc=10,scale=2,size=10)\n",
    "\n",
    "### df = pd.DataFrame({'Group':['A']*10 + ['B']*10 + ['C']*10,\n",
    "####                  'sales': list(Sales_A) + list(Sales_B) + list(Sales_C)})\n",
    "\n",
    "\n",
    "df = pd.DataFrame({'Store A': Sales_A, 'Store B': Sales_B, 'Store C': Sales_C})\n",
    "\n",
    "print(df.tail())"
   ]
  },
  {
   "cell_type": "code",
   "execution_count": 69,
   "id": "611d94e4-ab87-4359-ad50-ee55669f6ed1",
   "metadata": {},
   "outputs": [
    {
     "name": "stdout",
     "output_type": "stream",
     "text": [
      "               Anova\n",
      "===================================\n",
      "      F Value Num DF  Den DF Pr > F\n",
      "-----------------------------------\n",
      "Store  0.1097 2.0000 18.0000 0.8967\n",
      "===================================\n",
      "\n"
     ]
    }
   ],
   "source": [
    "from statsmodels.stats.anova import AnovaRM\n",
    "from statsmodels.stats.multicomp import pairwise_tukeyhsd\n",
    "\n",
    "res = pd.melt(df.reset_index(), id_vars=['index'], value_vars=['Store A', 'Store B', 'Store C'])\n",
    "res.columns =['Day', 'Store', 'Sales']\n",
    "\n",
    "\n",
    "rm_anova = AnovaRM(res,'Sales', 'Day', within=['Store'])\n",
    "rm_results = rm_anova.fit()\n",
    "print(rm_results)\n",
    "\n"
   ]
  },
  {
   "cell_type": "code",
   "execution_count": 70,
   "id": "4a196bac-983e-4839-ba86-44342a41b66d",
   "metadata": {},
   "outputs": [
    {
     "name": "stdout",
     "output_type": "stream",
     "text": [
      "NO significant difference between groups.\n"
     ]
    }
   ],
   "source": [
    "if rm_results.anova_table['Pr > F'][0] < 0.05:\n",
    "    # perform post-hoc Tukey test\n",
    "    print('Reject the Null Hypothesis : Atleast one of the group has different mean.\\n')\n",
    "    print('Tukey HSD posthoc test:')\n",
    "    tukey_results = pairwise_tukeyhsd(sales_melted['Sales'], sales_melted['Store'])\n",
    "    print(tukey_results)\n",
    "else:\n",
    "    print('NO significant difference between groups.')"
   ]
  },
  {
   "cell_type": "code",
   "execution_count": null,
   "id": "fc685a28-4bd4-492d-a1df-02de6e40bda6",
   "metadata": {},
   "outputs": [],
   "source": []
  }
 ],
 "metadata": {
  "kernelspec": {
   "display_name": "Python 3 (ipykernel)",
   "language": "python",
   "name": "python3"
  },
  "language_info": {
   "codemirror_mode": {
    "name": "ipython",
    "version": 3
   },
   "file_extension": ".py",
   "mimetype": "text/x-python",
   "name": "python",
   "nbconvert_exporter": "python",
   "pygments_lexer": "ipython3",
   "version": "3.10.8"
  }
 },
 "nbformat": 4,
 "nbformat_minor": 5
}
