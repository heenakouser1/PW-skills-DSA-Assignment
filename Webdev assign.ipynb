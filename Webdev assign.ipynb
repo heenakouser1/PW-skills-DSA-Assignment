{
 "cells": [
  {
   "cell_type": "markdown",
   "id": "94cd7064-a16a-438f-8366-2690a65a1a99",
   "metadata": {},
   "source": [
    "### Q1. What is an API? Give an example, where an API is used in real life.\n"
   ]
  },
  {
   "cell_type": "code",
   "execution_count": 1,
   "id": "2680c4a8-fcb5-4529-9187-f1a37153cf18",
   "metadata": {},
   "outputs": [],
   "source": [
    "# API is application programming interface, it used as communiccation between the two different programmig language\n",
    "# API uses TCP, SMTP, HTTP protocols\n",
    "# In real life we use in googlepay, where googlepay act as an client interface and bank is an server \n",
    "# from client side when an request of amount is made, this request goes to bank and fetches the data and transfer the amount to other bank\n",
    "# display the result of successful or faliure in googlepay screen"
   ]
  },
  {
   "cell_type": "markdown",
   "id": "52769901-f479-4ef6-a6c3-d9f7879a4bb8",
   "metadata": {},
   "source": [
    "### Q2. Give advantages and disadvantages of using API.\n"
   ]
  },
  {
   "cell_type": "code",
   "execution_count": 2,
   "id": "a9e0b6bd-f4d7-4749-bf96-b3a0049a3486",
   "metadata": {},
   "outputs": [],
   "source": [
    "#Advantage\n",
    "    #Automation: with APIs, computers rather than people can manage the work. Through APIs, agencies can update work flows to make them quicker and more productive.\n",
    "    #Application: because APIs can access the app components, the delivery of services and information is more flexible.\n",
    "    #More scope: with an API an application layer can be created which can be used to distribute information and services to new audiences which can be personalized to create custom user experiences.\n",
    "    #New data available: an API allows all of the information generated at the government level to be available to every citizen, not just a select few.   \n",
    "    #Efficiency: when access is provided to an API, the content generated can be published automatically and is available for every channel. It allows it to be shared and distributed more easily.\n",
    "    #Integration: APIs allow content to be embedded from any site or application more easily. This guarantees more fluid information delivery and an integrated user experience. \n",
    "    #Personalization: through APIs any user or company can customize the content and services that they use the most.\n",
    "    #Adaptation: needs change over time and APIs help to anticipate changes. When working with this technology, data migration is supported better, and the information is reviewed more closely. In short, APIs make service provision more flexible.\n",
    "#Disadvantage:\n",
    "    #an API is a gateway and can become a hacker's primary target. \n",
    "    #Once the API is compromised, all other applications and systems become vulnerable.\n",
    "    #APIs are vulnerable to man-in-the-middle attacks, CSRF attacks, XSS attacks, SQL injection, and DDoS attacks."
   ]
  },
  {
   "cell_type": "markdown",
   "id": "2f8e7949-3322-4771-8a38-ee683a30702f",
   "metadata": {},
   "source": [
    "### Q3. What is a Web API? Differentiate between API and Web API.\n"
   ]
  },
  {
   "cell_type": "code",
   "execution_count": null,
   "id": "a4cf6844-78da-4550-8d6d-a4a4304783ad",
   "metadata": {},
   "outputs": [],
   "source": [
    "#API:\n",
    "    #Application programming interface, used to create communication between two programming language\n",
    "    #API create on tcp,smptp,http protocols\n",
    "    \n",
    "#Web API: \n",
    "    #create with HTTP protocols\n",
    "    #subset of api"
   ]
  },
  {
   "cell_type": "markdown",
   "id": "181e29a3-cdaa-4e5c-a2a1-f3e918acdce6",
   "metadata": {},
   "source": [
    "### Q4. Explain REST and SOAP Architecture. Mention shortcomings of SOAP.\n"
   ]
  },
  {
   "cell_type": "code",
   "execution_count": null,
   "id": "c1702695-175d-4234-85d8-8068a0e86dda",
   "metadata": {},
   "outputs": [],
   "source": [
    "#rest : \n",
    "    # representational state transfer\n",
    "    # It follows architectural style, no restrict on communication but follow 6 standards\n",
    "        # uniform interface -- http (put, get, post, delete) protocol\n",
    "        # client-server architecture - both are evolved independently\n",
    "        # stateless: every request contain all information, so server does not maintain client context between request\n",
    "        # layered structure - simplicity, scalibility, flexibility\n",
    "        # cacheable:  client will store responses from server to improve performance\n",
    "        # code on demands\n",
    "    #Transfer msgs - can use (xml, json,palin-text)anything no restriction \n",
    "    # Rest can use soap protocal\n",
    "#soap: \n",
    "    #simple object access protocol\n",
    "    # interface---tcp, smtp protocol\n",
    "    # transfer msgs ---- xml (internal data is writte in wsdl-web service description language) only \n",
    "    # soap cannot use rest protocol\n",
    "    \n",
    "#shortcomings of soap:\n",
    "    #SOAP is difficult to implement and it requires more bandwidth whereas \n",
    "    #REST is easy to implement and requires less bandwidth such as smartphones\n",
    "    #SOAP cannot make use of REST since SOAP is a protocol without any architectural pattern.\n",
    "    #REST can make use of SOAP because it is an architectural pattern having protocol\n",
    "    #Extremely Complicated SOAP is substantially more sophisticated than REST\n",
    "    #No Choice of Data Formats SOAP's support for data formats is likewise severely constrained"
   ]
  },
  {
   "cell_type": "markdown",
   "id": "301042a5-550e-40ae-a4a1-5853f12d2551",
   "metadata": {},
   "source": [
    "### Q5. Differentiate between REST and SOAP."
   ]
  },
  {
   "cell_type": "code",
   "execution_count": null,
   "id": "5a7768b5-f561-41c6-a166-fd242094f14f",
   "metadata": {},
   "outputs": [],
   "source": [
    "#REST:\n",
    "    #Representational state transfer\n",
    "    #Uses http and TLS encrption\n",
    "    #dont store or repackage data\n",
    "    #uses json format for transferring data\n",
    "    #Rest does not use interface instead use URI like @Path\n",
    "#Soap:\n",
    "    #uses built in protocols\n",
    "    #supports oasis and w3c standards\n",
    "    #use combo of xml encryption, xml signatures, saml tokens for authentication\n",
    "    #better for handling sensitive data\n",
    "    #soap use interface like @Webservice"
   ]
  },
  {
   "cell_type": "code",
   "execution_count": null,
   "id": "2d9c4ff7-f4aa-4e01-bfcb-da1be5d3b521",
   "metadata": {},
   "outputs": [],
   "source": []
  }
 ],
 "metadata": {
  "kernelspec": {
   "display_name": "Python 3 (ipykernel)",
   "language": "python",
   "name": "python3"
  },
  "language_info": {
   "codemirror_mode": {
    "name": "ipython",
    "version": 3
   },
   "file_extension": ".py",
   "mimetype": "text/x-python",
   "name": "python",
   "nbconvert_exporter": "python",
   "pygments_lexer": "ipython3",
   "version": "3.10.8"
  }
 },
 "nbformat": 4,
 "nbformat_minor": 5
}
