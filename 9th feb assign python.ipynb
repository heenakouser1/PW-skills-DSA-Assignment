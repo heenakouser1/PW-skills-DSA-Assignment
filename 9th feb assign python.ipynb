{
 "cells": [
  {
   "cell_type": "markdown",
   "id": "d13528d7-7e00-4317-8f5b-8f5d96581431",
   "metadata": {},
   "source": [
    "### Q1, Create a vehicle class with an init method having instance variables as name_of_vehicle, max_speed\n",
    "###  and average_of_vehicle."
   ]
  },
  {
   "cell_type": "code",
   "execution_count": 3,
   "id": "8790d060-feae-4174-b49e-c8f893958a7c",
   "metadata": {},
   "outputs": [
    {
     "name": "stdout",
     "output_type": "stream",
     "text": [
      "The details of vehicle is name: Innova, speed: 60, average 9779\n"
     ]
    }
   ],
   "source": [
    "class Vehicle_class:\n",
    "    def __init__(self,name_of_vehicle, max_speed, average_of_vehicle):\n",
    "        self.name_of_vehicle=name_of_vehicle\n",
    "        self.max_speed=max_speed\n",
    "        self.average_of_vehicle=average_of_vehicle\n",
    "    def details(self):\n",
    "        print(f'The details of vehicle is name: {self.name_of_vehicle}, speed: {self.max_speed}, average {self.average_of_vehicle}')\n",
    "\n",
    "Vehicle=Vehicle_class('Innova','60','9779')\n",
    "Vehicle.details()"
   ]
  },
  {
   "cell_type": "markdown",
   "id": "a68b712c-4073-48b5-8c34-bb0af80846c2",
   "metadata": {},
   "source": [
    "### Q2. Create a child class car from the vehicle class created in Que 1, which will inherit the vehicle class.\n",
    "### Create a method named seating_capacity which takes capacity as an argument and returns the name of\n",
    "### the vehicle and its seating capacity."
   ]
  },
  {
   "cell_type": "code",
   "execution_count": 12,
   "id": "c7e0f9cd-c522-4675-a5a2-a8f9281fff95",
   "metadata": {},
   "outputs": [],
   "source": [
    "class Vehicle_class:\n",
    "    def __init__(self,name_of_vehicle, max_speed, average_of_vehicle):\n",
    "        self.name_of_vehicle=name_of_vehicle\n",
    "        self.max_speed=max_speed\n",
    "        self.average_of_vehicle=average_of_vehicle\n",
    "    def details(self):\n",
    "        print(f'The details of vehicle is name: {self.name_of_vehicle}, speed: {self.max_speed}, average {self.average_of_vehicle}')"
   ]
  },
  {
   "cell_type": "code",
   "execution_count": 13,
   "id": "ae1e8ac4-0a76-4e16-8f2e-c29a107e08cd",
   "metadata": {},
   "outputs": [
    {
     "name": "stdout",
     "output_type": "stream",
     "text": [
      "Name  of vehicle is  Innova\n",
      "The seating capacity is  7\n"
     ]
    }
   ],
   "source": [
    "class Child_car(Vehicle_class):\n",
    "    def details_child(self,seating_capacity):\n",
    "        self.seating_capacity=seating_capacity\n",
    "        print('Name  of vehicle is ',self.name_of_vehicle)\n",
    "        print('The seating capacity is ',self.seating_capacity)\n",
    "        \n",
    "        \n",
    "\n",
    "child_obj=Child_car('Innova','60','9779')\n",
    "child_obj.details_child(7)"
   ]
  },
  {
   "cell_type": "markdown",
   "id": "af8cd984-13bf-4b0c-8b51-afbf18d48701",
   "metadata": {},
   "source": [
    "### Q3. What is multiple inheritance? Write a python code to demonstrate multiple inheritance."
   ]
  },
  {
   "cell_type": "code",
   "execution_count": 3,
   "id": "44811d57-34aa-4efa-9a70-13b16f951aae",
   "metadata": {},
   "outputs": [
    {
     "name": "stdout",
     "output_type": "stream",
     "text": [
      "This is class1\n",
      "This is class1\n",
      "This is class3\n"
     ]
    }
   ],
   "source": [
    "# Multiple inheritance is to inherit properties from different class into one class.\n",
    "# Below is that code for mutiple inheritance\n",
    "\n",
    "class Class1:\n",
    "    def test1(self):\n",
    "        print('This is class1')\n",
    "        \n",
    "class Class2:\n",
    "    def test2(self):\n",
    "        print('This is class1')\n",
    "\n",
    "class Class3(Class1,Class2):\n",
    "    def test3(self):\n",
    "        print('This is class3')\n",
    "        \n",
    "obj3=Class3()\n",
    "obj3.test1()\n",
    "obj3.test2()\n",
    "obj3.test3()"
   ]
  },
  {
   "cell_type": "markdown",
   "id": "67d8a2a9-3603-4b1c-9162-af32162d0650",
   "metadata": {},
   "source": [
    "### Q4. What are getter and setter in python? Create a class and create a getter and a setter method in this\n",
    "### class."
   ]
  },
  {
   "cell_type": "code",
   "execution_count": 32,
   "id": "9dd84a07-186d-4798-a493-d46686fc5324",
   "metadata": {},
   "outputs": [
    {
     "name": "stdout",
     "output_type": "stream",
     "text": [
      "Speed using setter is 56\n",
      "Speed using getter is 56\n"
     ]
    }
   ],
   "source": [
    "# Main purpose of using getters and setters in object-oriented programs is to ensure data encapsulation\n",
    "\n",
    "class Vehicle:\n",
    "    def __init__(self,name,make,model,speed):\n",
    "        self.__name=name\n",
    "        self.__make=make\n",
    "        self.__model=model\n",
    "        self.__speed=0\n",
    "    def set_speed(self,speed):\n",
    "        self.__speed = speed if speed >30 else speed\n",
    "        print('Speed using setter is',self.__speed)\n",
    "    def get_speed(self):\n",
    "        print( 'Speed using getter is',self.__speed)\n",
    "        \n",
    "        \n",
    "obj=Vehicle('Innova','toyota','2019',20)\n",
    "\n",
    "\n",
    "obj.set_speed(56)\n",
    "\n",
    "obj.get_speed()"
   ]
  },
  {
   "cell_type": "markdown",
   "id": "9f9e4f91-f840-45c7-926f-648418afb2c9",
   "metadata": {},
   "source": [
    "### Q5.What is method overriding in python? Write a python code to demonstrate method overriding."
   ]
  },
  {
   "cell_type": "code",
   "execution_count": 2,
   "id": "23f99bad-7836-4383-bcf0-378bf245c025",
   "metadata": {},
   "outputs": [
    {
     "name": "stdout",
     "output_type": "stream",
     "text": [
      "This is child class\n",
      "This is parent2 class\n"
     ]
    }
   ],
   "source": [
    "# When a method in a subclass has the same name, same parameters or signature and same return type(or sub-type) \n",
    "# as a method in its super-class, then the method in the subclass is said to override the method in the super-class.\n",
    "\n",
    "# Method overriding with multiple inheritence\n",
    "\n",
    "class Parent1:\n",
    "    def display(self):\n",
    "        print('This is parent1 class')\n",
    "\n",
    "class Parent2:\n",
    "    def show(self):\n",
    "        print('This is parent2 class')\n",
    "        \n",
    "class Child(Parent1,Parent2):\n",
    "    def display(self):\n",
    "        print('This is child class')\n",
    "        \n",
    "\n",
    "obj_child=Child()\n",
    "\n",
    "#calling parent1 methods, which will override the parent1 method and give the details which is in child class\n",
    "\n",
    "obj_child.display()\n",
    "\n",
    "#calling parent2 methods\n",
    "\n",
    "obj_child.show()\n",
    "\n",
    "    "
   ]
  },
  {
   "cell_type": "code",
   "execution_count": null,
   "id": "3e0593bc-08aa-4473-afd2-1cbc29e3ce35",
   "metadata": {},
   "outputs": [],
   "source": []
  }
 ],
 "metadata": {
  "kernelspec": {
   "display_name": "Python 3 (ipykernel)",
   "language": "python",
   "name": "python3"
  },
  "language_info": {
   "codemirror_mode": {
    "name": "ipython",
    "version": 3
   },
   "file_extension": ".py",
   "mimetype": "text/x-python",
   "name": "python",
   "nbconvert_exporter": "python",
   "pygments_lexer": "ipython3",
   "version": "3.10.8"
  }
 },
 "nbformat": 4,
 "nbformat_minor": 5
}
