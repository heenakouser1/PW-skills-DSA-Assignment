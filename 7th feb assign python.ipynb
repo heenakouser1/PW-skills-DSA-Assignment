{
 "cells": [
  {
   "cell_type": "markdown",
   "id": "48ce535c-aa5a-45a3-a9e2-702bda7d80c4",
   "metadata": {},
   "source": [
    "### Q1. You are writing code for a company. The requirement of the company is that you create a python\n",
    "### function that will check whether the password entered by the user is correct or not. The function should\n",
    "### take the password as input and return the string “Valid Password” if the entered password follows the\n",
    "### below-given password guidelines else it should return “Invalid Password”.\n",
    "### Note: 1. The Password should contain at least two uppercase letters and at least two lowercase letters.\n",
    "### 2. The Password should contain at least a number and three special characters.\n",
    "### 3. The length of the password should be 10 characters long."
   ]
  },
  {
   "cell_type": "code",
   "execution_count": 15,
   "id": "4a5bb4fb-3368-41a1-8acf-3bec0d2ef8db",
   "metadata": {},
   "outputs": [
    {
     "name": "stdout",
     "output_type": "stream",
     "text": [
      "valid password\n"
     ]
    }
   ],
   "source": [
    "def pwd(p):\n",
    "    u=0\n",
    "    l=0\n",
    "    n=0\n",
    "    s=0\n",
    "    for i in p:\n",
    "        if i.isalpha()==True:\n",
    "            if i.isupper()==True:\n",
    "                u=u+1\n",
    "            else:\n",
    "                l=l+1\n",
    "        elif i.isnumeric()==True:\n",
    "                n=n+1\n",
    "        else:\n",
    "            s=s+1\n",
    "            \n",
    "    check=(u>=2) and (l>=2) and (n>=1) and (s>=3) and ((len(p))==10)\n",
    "        \n",
    "    if check==True:\n",
    "        print(\"valid password\")\n",
    "    else:\n",
    "        print(\"invalid password\")        \n",
    "    \n",
    "pwd('P$W@skil!1')     "
   ]
  },
  {
   "cell_type": "markdown",
   "id": "61e79352-6659-42e3-9f75-f1102b28323d",
   "metadata": {},
   "source": [
    "### Q2. Solve the below-given questions using at least one of the following:\n",
    "### 1. Lambda functioJ\n",
    "### 2. Filter functioJ\n",
    "### 3. Zap functioJ\n",
    "### 4. List ComprehensioI\n",
    "### B Check if the string starts with a particular letterY\n",
    "### B Check if the string is numericY\n",
    "### B Sort a list of tuples having fruit names and their quantity. [(\"mango\",99),(\"orange\",80), (\"grapes\", 1000)-\n",
    "### B Find the squares of numbers from 1 to 10Y\n",
    "### B Find the cube root of numbers from 1 to 10Y\n",
    "### B Check if a given number is evenY\n",
    "### B Filter odd numbers from the given list.\n",
    "### [1,2,3,4,5,6,7,8,9,10-\n",
    "### B Sort a list of integers into positive and negative integers lists.\n",
    "### [1,2,3,4,5,6,-1,-2,-3,-4,-5,0]\n"
   ]
  },
  {
   "cell_type": "code",
   "execution_count": 51,
   "id": "5d29d799-fcf4-49b5-8d72-4353fe8520e7",
   "metadata": {},
   "outputs": [
    {
     "name": "stdout",
     "output_type": "stream",
     "text": [
      "False\n",
      "True\n"
     ]
    }
   ],
   "source": [
    "# Check if the string starts with a particular letterY\n",
    "x=(lambda x: x.startswith('t'))\n",
    "print(x('pwskills'))\n",
    "print(x('tea'))"
   ]
  },
  {
   "cell_type": "code",
   "execution_count": 52,
   "id": "a948f51e-f85f-44a7-86bf-1fc78a60664a",
   "metadata": {},
   "outputs": [
    {
     "name": "stdout",
     "output_type": "stream",
     "text": [
      "True\n",
      "False\n"
     ]
    }
   ],
   "source": [
    "# Check if the string is numericY\n",
    "x=(lambda x: x.isnumeric())\n",
    "print(x('123446'))\n",
    "print(x('123pw'))"
   ]
  },
  {
   "cell_type": "code",
   "execution_count": 59,
   "id": "56e321a3-cff8-4570-a14e-d12d185ec863",
   "metadata": {},
   "outputs": [],
   "source": [
    "from functools import reduce"
   ]
  },
  {
   "cell_type": "code",
   "execution_count": 12,
   "id": "299a6443-0d6c-4e8d-88de-3eb833491f74",
   "metadata": {},
   "outputs": [
    {
     "data": {
      "text/plain": [
       "[('orange', 80), ('mango', 99), ('grapes', 1000)]"
      ]
     },
     "execution_count": 12,
     "metadata": {},
     "output_type": "execute_result"
    }
   ],
   "source": [
    "# Sort a list of tuples having fruit names and their quantity. [(\"mango\",99),(\"orange\",80), (\"grapes\", 1000)]\n",
    "l=[(\"mango\",99),(\"orange\",80), (\"grapes\", 1000)]\n",
    "\n",
    "sorted(l,key=lambda l:l,reverse=True)"
   ]
  },
  {
   "cell_type": "code",
   "execution_count": 33,
   "id": "16f96c87-4164-47c7-bb65-449d87276910",
   "metadata": {},
   "outputs": [
    {
     "data": {
      "text/plain": [
       "[1, 4, 9, 16, 25, 36, 49, 64, 81]"
      ]
     },
     "execution_count": 33,
     "metadata": {},
     "output_type": "execute_result"
    }
   ],
   "source": [
    "# Find the squares of numbers from 1 to 10Y\n",
    "l=range(1,10)\n",
    "list(map((lambda x: x**2),l))"
   ]
  },
  {
   "cell_type": "code",
   "execution_count": 34,
   "id": "0555e2b5-973c-4c89-becd-f8aa891c6afc",
   "metadata": {},
   "outputs": [
    {
     "data": {
      "text/plain": [
       "[1, 8, 27, 64, 125, 216, 343, 512, 729]"
      ]
     },
     "execution_count": 34,
     "metadata": {},
     "output_type": "execute_result"
    }
   ],
   "source": [
    "# Find the cube root of numbers from 1 to 10Y\n",
    "l=range(1,10)\n",
    "list(map((lambda x: x**3),l))"
   ]
  },
  {
   "cell_type": "code",
   "execution_count": 37,
   "id": "b3bed957-6393-4ac4-aecf-3e2bdffff99b",
   "metadata": {},
   "outputs": [
    {
     "name": "stdout",
     "output_type": "stream",
     "text": [
      "even\n",
      "odd\n"
     ]
    }
   ],
   "source": [
    "# Check if a given number is evenY\n",
    "x=(lambda x: 'even' if x%2==0 else 'odd')\n",
    "print(x(4))\n",
    "print(x(5))"
   ]
  },
  {
   "cell_type": "code",
   "execution_count": 40,
   "id": "26952526-c2c3-4da0-9a51-5b27009f2114",
   "metadata": {},
   "outputs": [
    {
     "data": {
      "text/plain": [
       "[1, 3, 5, 7, 9]"
      ]
     },
     "execution_count": 40,
     "metadata": {},
     "output_type": "execute_result"
    }
   ],
   "source": [
    "# Filter odd numbers from the given list.\n",
    "l=[1,2,3,4,5,6,7,8,9,10]\n",
    "list(filter(lambda x:x%2!=0,l))"
   ]
  },
  {
   "cell_type": "code",
   "execution_count": 51,
   "id": "c61839d4-2136-4fed-9c65-e686aa12ec46",
   "metadata": {},
   "outputs": [
    {
     "name": "stdout",
     "output_type": "stream",
     "text": [
      " Positive [1, 2, 3, 4, 5, 6]\n",
      " Negative [-1, -2, -3, -4, -5]\n"
     ]
    }
   ],
   "source": [
    "# Sort a list of integers into positive and negative integers lists.\n",
    "l=[1,2,3,4,5,6,-1,-2,-3,-4,-5,0]\n",
    "x1=list(filter(lambda x:x>0,l))\n",
    "x2=list(filter(lambda x:x<0,l))\n",
    "print(f' Positive {x1}')\n",
    "print(f' Negative {x2}')"
   ]
  },
  {
   "cell_type": "code",
   "execution_count": null,
   "id": "3edbb452-82ed-4b26-a054-ff6ab84493fd",
   "metadata": {},
   "outputs": [],
   "source": []
  }
 ],
 "metadata": {
  "kernelspec": {
   "display_name": "Python 3 (ipykernel)",
   "language": "python",
   "name": "python3"
  },
  "language_info": {
   "codemirror_mode": {
    "name": "ipython",
    "version": 3
   },
   "file_extension": ".py",
   "mimetype": "text/x-python",
   "name": "python",
   "nbconvert_exporter": "python",
   "pygments_lexer": "ipython3",
   "version": "3.10.8"
  }
 },
 "nbformat": 4,
 "nbformat_minor": 5
}
