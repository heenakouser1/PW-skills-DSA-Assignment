{
 "cells": [
  {
   "cell_type": "code",
   "execution_count": null,
   "id": "6b164e98-a031-4537-b13f-3b4fb47596eb",
   "metadata": {},
   "outputs": [],
   "source": [
    "Q1. Calculate the 95% confidence interval for a sample of data with a mean of 50 and a standard deviation\n",
    "of 5 using Python. Interpret the results.\n"
   ]
  },
  {
   "cell_type": "code",
   "execution_count": 5,
   "id": "fde551d1-1fcb-4918-b679-fd62d73111e7",
   "metadata": {},
   "outputs": [
    {
     "name": "stdout",
     "output_type": "stream",
     "text": [
      "lower and upper bound:  48.1329693162095 and 51.8670306837905\n"
     ]
    }
   ],
   "source": [
    "from scipy.stats import t\n",
    "from math import sqrt\n",
    "\n",
    "m = 50\n",
    "sd = 5\n",
    "alpha = 0.05\n",
    "n=30\n",
    "df=n-1\n",
    "\n",
    "t_crit = t.ppf(1-alpha/2, df)\n",
    "\n",
    "SEM = sd /sqrt(n)\n",
    "\n",
    "lower = m-t_crit * SEM\n",
    "upper = m+t_crit * SEM\n",
    "\n",
    "print('lower and upper bound: ', lower,'and', upper)\n"
   ]
  },
  {
   "cell_type": "code",
   "execution_count": null,
   "id": "cee7fb41-b60d-4b68-a5ae-8bc5003a9a95",
   "metadata": {},
   "outputs": [],
   "source": [
    "Q2. Conduct a chi-square goodness of fit test to determine if the distribution of colors of M&Ms in a bag\n",
    "matches the expected distribution of 20% blue, 20% orange, 20% green, 10% yellow, 10% red, and 20%\n",
    "brown. Use Python to perform the test with a significance level of 0.05.\n"
   ]
  },
  {
   "cell_type": "code",
   "execution_count": 2,
   "id": "c1f41fa3-9a72-46a5-b7c3-7d5bda46f643",
   "metadata": {},
   "outputs": [
    {
     "name": "stdout",
     "output_type": "stream",
     "text": [
      "p value 1.0\n",
      "accept null: distribution of colors of M&Ms in a bag matches the expected distribution\n"
     ]
    }
   ],
   "source": [
    "import numpy as np\n",
    "from scipy.stats import chisquare\n",
    "from scipy.stats import chi2\n",
    "\n",
    "null = 'distribution of colors of M&Ms in a bag matches the expected distribution'\n",
    "alternate = 'distribution of colors of M&Ms in a bag does not matches the expected distribution'\n",
    "\n",
    "alpha= 0.05\n",
    "ob = np.array([10,10,10,5,5,10])\n",
    "\n",
    "ex = np.array([0.2,0.2,0.2,0.1,0.1,0.2]) * np.sum(ob)\n",
    "\n",
    "chi_stats, p = chisquare(ob,ex)\n",
    "print('p value', p)\n",
    "\n",
    "df = len(ob)-1\n",
    "chi_crit = chi2.ppf(1-alpha,df)\n",
    "\n",
    "if p < alpha:\n",
    "    print('reject null:', alternate)\n",
    "else:\n",
    "    print('accept null:',null)"
   ]
  },
  {
   "cell_type": "code",
   "execution_count": null,
   "id": "a3d87778-9a99-46b6-8360-3edfdb82418b",
   "metadata": {},
   "outputs": [],
   "source": [
    "Q3. Use Python to calculate the chi-square statistic and p-value for a contingency table with the following\n",
    "data:\n",
    "Outcome 1\t20\t15\n",
    "Outcome 2\t10\t25\n",
    "Outcome 3\t15\t20\n",
    "\n",
    "Interpret the results of the test.\n",
    "\n"
   ]
  },
  {
   "cell_type": "code",
   "execution_count": 9,
   "id": "077243fc-67a6-4e25-a6af-aec19c71f0c0",
   "metadata": {},
   "outputs": [
    {
     "name": "stdout",
     "output_type": "stream",
     "text": [
      "     Group A  Group B\n",
      "ot1       20       15\n",
      "ot2       10       25\n",
      "ot3       15       20\n",
      "     Group A  Group B\n",
      "ot1     15.0     20.0\n",
      "ot2     15.0     20.0\n",
      "ot3     15.0     20.0\n"
     ]
    }
   ],
   "source": [
    "from scipy.stats import chi2_contingency\n",
    "import pandas as pd\n",
    "\n",
    "ob = pd.DataFrame({'Group A': [20,10,15], 'Group B' :[15,25,20]})\n",
    "ob.index = ['ot1','ot2','ot3']\n",
    "print(ob)\n",
    "\n",
    "\n",
    "chi_stat, p, dof, ex = chi2_contingency(ob)\n",
    "\n",
    "ex = pd.DataFrame(ex)\n",
    "ex.columns= ['Group A','Group B']\n",
    "ex.index = ['ot1','ot2','ot3']\n",
    "print(ex)"
   ]
  },
  {
   "cell_type": "code",
   "execution_count": null,
   "id": "f512364e-5c71-4ce0-a98a-1b2e0261b535",
   "metadata": {},
   "outputs": [],
   "source": [
    "Q4. A study of the prevalence of smoking in a population of 500 individuals found that 60 individuals\n",
    "smoked. Use Python to calculate the 95% confidence interval for the true proportion of individuals in the\n",
    "population who smoke.\n"
   ]
  },
  {
   "cell_type": "code",
   "execution_count": 18,
   "id": "5ca898e1-eafb-432b-937e-0c233ea7a7c7",
   "metadata": {},
   "outputs": [
    {
     "name": "stdout",
     "output_type": "stream",
     "text": [
      "upper and lower bound is: 14.848361112869291 and 9.151638887130707\n"
     ]
    }
   ],
   "source": [
    "import scipy.stats as stats\n",
    "import math\n",
    "\n",
    "n = 500\n",
    "x = 60\n",
    "\n",
    "p= x/n\n",
    "\n",
    "ct = 0.95\n",
    "alpha = 1-ct\n",
    "\n",
    "z = stats.norm.ppf(1-alpha/2)\n",
    "\n",
    "SEM = z * math.sqrt(((p* (1-p))/ n))\n",
    "\n",
    "lower = p - SEM\n",
    "upper = p + SEM\n",
    "\n",
    "print('upper and lower bound is:', upper*100,'and', lower*100)"
   ]
  },
  {
   "cell_type": "code",
   "execution_count": null,
   "id": "6d50a80c-ad0f-4758-af65-4af890792f5b",
   "metadata": {},
   "outputs": [],
   "source": [
    "Q5. Calculate the 90% confidence interval for a sample of data with a mean of 75 and a standard deviation\n",
    "of 12 using Python. Interpret the results.\n"
   ]
  },
  {
   "cell_type": "code",
   "execution_count": 12,
   "id": "9650f75a-4c8b-46c3-8dab-0025d9d52896",
   "metadata": {},
   "outputs": [
    {
     "name": "stdout",
     "output_type": "stream",
     "text": [
      "lower and upper bound is: 71.27739919800369 and 78.72260080199631\n"
     ]
    }
   ],
   "source": [
    "from scipy.stats import t\n",
    "from math import sqrt\n",
    "\n",
    "ci = 0.90\n",
    "alpha = 1-ci\n",
    "\n",
    "x = 75\n",
    "sd = 12\n",
    "n= 30\n",
    "df = n-1\n",
    "\n",
    "t_crit = t.ppf(1-alpha/2, df)\n",
    "\n",
    "SEM = t_crit * (sd/sqrt(n))\n",
    "\n",
    "lower = x - SEM\n",
    "upper = x +SEM\n",
    "print('lower and upper bound is:', lower, 'and', upper)"
   ]
  },
  {
   "cell_type": "code",
   "execution_count": null,
   "id": "a2217231-99e8-4265-9c12-99d7a19559ea",
   "metadata": {},
   "outputs": [],
   "source": [
    "Q6. Use Python to plot the chi-square distribution with 10 degrees of freedom. Label the axes and shade the\n",
    "area corresponding to a chi-square statistic of 15.\n"
   ]
  },
  {
   "cell_type": "code",
   "execution_count": 37,
   "id": "6ea0160a-69bb-45a6-893a-69e54dad6309",
   "metadata": {},
   "outputs": [
    {
     "data": {
      "image/png": "[encoded data removed]",
      "text/plain": [
       "<Figure size 800x500 with 1 Axes>"
      ]
     },
     "metadata": {},
     "output_type": "display_data"
    }
   ],
   "source": [
    "import numpy as np\n",
    "import scipy.stats as stats\n",
    "import matplotlib.pyplot as plt\n",
    "\n",
    "# Set degrees of freedom\n",
    "df = 10\n",
    "\n",
    "# Define range of x-values for plotting\n",
    "x = np.linspace(stats.chi2.ppf(0.0001, df), stats.chi2.ppf(0.999, df), 100)\n",
    "\n",
    "# Create plot\n",
    "fig, ax = plt.subplots(figsize=(8, 5))\n",
    "\n",
    "# Plot chi-square distribution\n",
    "ax.plot(x, stats.chi2.pdf(x, df), lw=3, label='Chi-square PDF')\n",
    "\n",
    "# Calculating area under curve \n",
    "area = stats.chi2.cdf(15,df)\n",
    "\n",
    "# Shade area under the curve\n",
    "x_fill = np.linspace(stats.chi2.ppf(0.0001, df), 15, 100)\n",
    "ax.fill_between(x_fill, stats.chi2.pdf(x_fill, df), color='orange', alpha=0.5,label = f'Area under shaded region = {area:.4f}')\n",
    "\n",
    "# Add legend and labels\n",
    "ax.legend(loc='best', frameon=False)\n",
    "ax.set_xlabel('X')\n",
    "ax.set_ylabel('PDF(X)')\n",
    "ax.set_title('Chi-square Distribution with 10 Degrees of Freedom')\n",
    "\n",
    "plt.show()"
   ]
  },
  {
   "cell_type": "code",
   "execution_count": null,
   "id": "dae4d540-4435-46c2-97ab-3ec428758f20",
   "metadata": {},
   "outputs": [],
   "source": [
    "Q7. A random sample of 1000 people was asked if they preferred Coke or Pepsi. Of the sample, 520\n",
    "preferred Coke. Calculate a 99% confidence interval for the true proportion of people in the population who\n",
    "prefer Coke.\n"
   ]
  },
  {
   "cell_type": "code",
   "execution_count": 18,
   "id": "1ce9becd-86f9-4939-80df-49a462316160",
   "metadata": {},
   "outputs": [
    {
     "name": "stdout",
     "output_type": "stream",
     "text": [
      "lower and upper : 47.93051576779699 and 56.06948423220302\n"
     ]
    }
   ],
   "source": [
    "import scipy.stats as stats\n",
    "import math \n",
    "n = 1000\n",
    "x = 520\n",
    "\n",
    "alpha = 0.01\n",
    "p = x/n\n",
    "\n",
    "z_stat = stats.norm.ppf(1-alpha/2)\n",
    "\n",
    "SEM = z_stat * math.sqrt(((p * (1-p) / n)))\n",
    "\n",
    "lower = p - SEM\n",
    "upper = p + SEM\n",
    "\n",
    "print('lower and upper :', lower*100 , 'and', upper*100)"
   ]
  },
  {
   "cell_type": "code",
   "execution_count": null,
   "id": "ee99a8de-dd38-49a1-bf80-012e94ca488e",
   "metadata": {},
   "outputs": [],
   "source": [
    "Q8. A researcher hypothesizes that a coin is biased towards tails. They flip the coin 100 times and observe\n",
    "45 tails. Conduct a chi-square goodness of fit test to determine if the observed frequencies match the\n",
    "expected frequencies of a fair coin. Use a significance level of 0.05.\n"
   ]
  },
  {
   "cell_type": "code",
   "execution_count": 20,
   "id": "0956da95-4edf-40a3-8335-2372f0eda574",
   "metadata": {},
   "outputs": [
    {
     "name": "stdout",
     "output_type": "stream",
     "text": [
      "reject null the observed frequencies does not match the expected frequencies of a fair coin\n"
     ]
    }
   ],
   "source": [
    "from scipy.stats import chisquare\n",
    "from scipy.stats import chi2\n",
    "\n",
    "\n",
    "null = 'the observed frequencies match the expected frequencies of a fair coin'\n",
    "alternate = 'the observed frequencies does not match the expected frequencies of a fair coin'\n",
    "\n",
    "n=100\n",
    "alpha = 0.05\n",
    "ob = [45,55]\n",
    "\n",
    "ex = [60,40]\n",
    "\n",
    "chi_stat, p = chisquare(ob,ex)\n",
    "\n",
    "df = n-1\n",
    "chi_crit = chi2.ppf(1-alpha,df)\n",
    "\n",
    "if p<alpha:\n",
    "    print('reject null', alternate)\n",
    "else:\n",
    "    print('accept mull', null)"
   ]
  },
  {
   "cell_type": "code",
   "execution_count": null,
   "id": "37fda203-fcd3-47b9-8839-1a48caedcfe3",
   "metadata": {},
   "outputs": [],
   "source": [
    "Q9. A study was conducted to determine if there is an association between smoking status (smoker or\n",
    "non-smoker) and lung cancer diagnosis (yes or no). The results are shown in the contingency table below.\n",
    "Conduct a chi-square test for independence to determine if there is a significant association between\n",
    "smoking status and lung cancer diagnosis.\n",
    "\n",
    "Use a significance level of 0.05.\n",
    "\n",
    "              lung Cancer: yes          Lung Cancer: No\n",
    "\n",
    "Smoker               60                      140            \n",
    "Non-smoker           30                      170"
   ]
  },
  {
   "cell_type": "code",
   "execution_count": 26,
   "id": "7ce4a4de-9500-4351-a2e4-031b6adb5fa8",
   "metadata": {},
   "outputs": [
    {
     "name": "stdout",
     "output_type": "stream",
     "text": [
      "            lung Cancer: yes  lung Cancer: No\n",
      "smoker                    60              140\n",
      "non-smoker                30              170\n",
      "            lung Cancer: yes  lung Cancer: No\n",
      "smoker                  45.0            155.0\n",
      "non-smoker              45.0            155.0\n",
      "reject null: no significant association between smoking status and lung cancer diagnosis\n"
     ]
    }
   ],
   "source": [
    "import pandas as pd\n",
    "from scipy.stats import chi2_contingency\n",
    "\n",
    "\n",
    "ob = pd.DataFrame({'lung Cancer: yes':[60,30], 'lung Cancer: No':[140,170]})\n",
    "ob.index = ['smoker','non-smoker']\n",
    "print(ob)\n",
    "\n",
    "chi_stat, p, dof, ex = chi2_contingency(ob)\n",
    "\n",
    "ex = pd.DataFrame(ex)\n",
    "ex.columns = ['lung Cancer: yes','lung Cancer: No']\n",
    "ex.index = ['smoker','non-smoker']\n",
    "print(ex)\n",
    "\n",
    "null = 'significant association between smoking status and lung cancer diagnosis'\n",
    "alternate = 'no significant association between smoking status and lung cancer diagnosis'\n",
    "\n",
    "if p<alpha:\n",
    "    print('reject null:', alternate)\n",
    "else:\n",
    "    print('accept null:', null)"
   ]
  },
  {
   "cell_type": "code",
   "execution_count": null,
   "id": "469964a7-871e-40f1-b1a2-0e9d38b7614f",
   "metadata": {},
   "outputs": [],
   "source": [
    "Q10. A study was conducted to determine if the proportion of people who prefer milk chocolate, dark\n",
    "chocolate, or white chocolate is different in the U.S. versus the U.K. A random sample of 500 people from\n",
    "the U.S. and a random sample of 500 people from the U.K. were surveyed. The results are shown in the\n",
    "contingency table below. Conduct a chi-square test for independence to determine if there is a significant\n",
    "association between chocolate preference and country of origin.\n",
    "\n",
    "Use a significance level of 0.01.\n",
    "Milk            chocolate\tDark Chocolate\tWhite Chocolate\n",
    "U.S. (n=500)\t   200\t    150           \t150\n",
    "U.K. (n=500)\t   225  \t175         \t100"
   ]
  },
  {
   "cell_type": "code",
   "execution_count": 27,
   "id": "216918ba-3e13-4e0b-b454-887482db1316",
   "metadata": {},
   "outputs": [
    {
     "name": "stdout",
     "output_type": "stream",
     "text": [
      "Observed Data :\n",
      "              Milk Chocolate  Dark Chocolate  White Chocolate\n",
      "U.S. (n=500)             200             150              150\n",
      "U.K. (n=500)             225             175              100\n",
      "Expected Data :\n",
      "              Milk Chocolate  Dark Chocolate  White Chocolate\n",
      "U.S. (n=500)           212.5           162.5            125.0\n",
      "U.K. (n=500)           212.5           162.5            125.0\n",
      "Reject the null hypothesis.\n",
      "Conclusion : There is a no SIGNIFICANT association between Country and Chocolate type preffered.\n"
     ]
    }
   ],
   "source": [
    "import pandas as pd\n",
    "import scipy.stats as stats\n",
    "\n",
    "# Set up the contingency table\n",
    "observed_df = pd.DataFrame({'Milk Chocolate':[200,225], 'Dark Chocolate':[150,175], 'White Chocolate':[150,100]})\n",
    "observed_df.index = ['U.S. (n=500)','U.K. (n=500)']\n",
    "print('Observed Data :')\n",
    "print(observed_df)\n",
    "null_hypothesis = \"There is significant association between Country and Chocolate type preffered.\"\n",
    "alternate_hypothesis = \"There is a no SIGNIFICANT association between Country and Chocolate type preffered.\"\n",
    "\n",
    "test_statistic, p_value, dof, expected = stats.chi2_contingency(observed_df)\n",
    "expected_df = pd.DataFrame(expected)\n",
    "expected_df.columns = observed_df.columns\n",
    "expected_df.index = observed_df.index\n",
    "print('Expected Data :')\n",
    "print(expected_df)\n",
    "alpha = 0.01\n",
    "if p_value < alpha:\n",
    "    print(f\"Reject the null hypothesis.\\nConclusion : {alternate_hypothesis}\")\n",
    "else:\n",
    "    print(f\"Fail to reject the null hypothesis.\\nConculsion : {null_hypothesis}\")"
   ]
  },
  {
   "cell_type": "code",
   "execution_count": null,
   "id": "ddd9274d-bd0a-4d5d-b9f7-6a36b9bffb09",
   "metadata": {},
   "outputs": [],
   "source": [
    "Q11. A random sample of 30 people was selected from a population with an unknown mean and standard\n",
    "deviation. The sample mean was found to be 72 and the sample standard deviation was found to be 10.\n",
    "Conduct a hypothesis test to determine if the population mean is significantly different from 70. Use a\n",
    "significance level of 0.05."
   ]
  },
  {
   "cell_type": "code",
   "execution_count": 28,
   "id": "ea97b234-c1e7-4fb8-bbbe-f10868a6975d",
   "metadata": {},
   "outputs": [
    {
     "name": "stdout",
     "output_type": "stream",
     "text": [
      "Fail to reject the null hypothesis. The population mean is equal to 70. (p-value=0.2823362372860698)\n"
     ]
    }
   ],
   "source": [
    "u = 70\n",
    "\n",
    "import math\n",
    "from scipy.stats import t\n",
    "\n",
    "# Sample data\n",
    "sample_mean = 72\n",
    "sample_std = 10\n",
    "sample_size = 30\n",
    "\n",
    "# Hypotheses\n",
    "null_hypothesis = \"The population mean is equal to 70.\"\n",
    "alternative_hypothesis = \"The population mean is significantly different from 70.\"\n",
    "\n",
    "# Significance level\n",
    "alpha = 0.05\n",
    "\n",
    "# Degrees of freedom\n",
    "df = sample_size - 1\n",
    "\n",
    "# Calculate the t-statistic\n",
    "t_stat = (sample_mean - u) / (sample_std / math.sqrt(sample_size))\n",
    "\n",
    "# Calculate the p-value\n",
    "p_value = 2 * (1 - t.cdf(abs(t_stat), df))\n",
    "\n",
    "# Compare the p-value to the significance level\n",
    "if p_value < alpha:\n",
    "    print(f\"Reject the null hypothesis. {alternative_hypothesis} (p-value={p_value})\")\n",
    "else:\n",
    "    print(f\"Fail to reject the null hypothesis. {null_hypothesis} (p-value={p_value})\")"
   ]
  },
  {
   "cell_type": "code",
   "execution_count": null,
   "id": "c957175f-980b-4988-ba8b-44abecc026a7",
   "metadata": {},
   "outputs": [],
   "source": []
  },
  {
   "cell_type": "code",
   "execution_count": null,
   "id": "a033439f-e5b7-4b5f-a5a6-3b817afd4320",
   "metadata": {},
   "outputs": [],
   "source": []
  },
  {
   "cell_type": "code",
   "execution_count": null,
   "id": "47529310-ade3-4548-a5ee-e1fd913754e8",
   "metadata": {},
   "outputs": [],
   "source": []
  }
 ],
 "metadata": {
  "kernelspec": {
   "display_name": "Python 3 (ipykernel)",
   "language": "python",
   "name": "python3"
  },
  "language_info": {
   "codemirror_mode": {
    "name": "ipython",
    "version": 3
   },
   "file_extension": ".py",
   "mimetype": "text/x-python",
   "name": "python",
   "nbconvert_exporter": "python",
   "pygments_lexer": "ipython3",
   "version": "3.10.8"
  }
 },
 "nbformat": 4,
 "nbformat_minor": 5
}
