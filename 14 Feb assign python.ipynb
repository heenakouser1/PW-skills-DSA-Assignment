{
 "cells": [
  {
   "cell_type": "markdown",
   "id": "41a54a62-172c-400e-a466-752577ab2037",
   "metadata": {},
   "source": [
    "### Q1). what is multithreading in python? hy is it used? Name the module used to handle threads in python"
   ]
  },
  {
   "cell_type": "code",
   "execution_count": 1,
   "id": "fac37a93-a728-4150-aa36-03da8381902b",
   "metadata": {},
   "outputs": [],
   "source": [
    "# Multithreading is a process running multiple threads in a single process. Its main purpose used to run process using multiple cpu's\n",
    "# Module used to handle threads is threading"
   ]
  },
  {
   "cell_type": "markdown",
   "id": "46afe27c-ec6a-406b-8b65-5e32a33ea1ca",
   "metadata": {},
   "source": [
    "### Q2). Why threading module used? rite the use of the following functions\n",
    "### ( activeCount\n",
    "### currentThread\n",
    "###  enumerate)"
   ]
  },
  {
   "cell_type": "code",
   "execution_count": null,
   "id": "0d4d4bd7-48b3-4acc-8860-5c74ffe54c61",
   "metadata": {},
   "outputs": [],
   "source": [
    "# Threading module is used to run multiple programs with single process."
   ]
  },
  {
   "cell_type": "code",
   "execution_count": 7,
   "id": "8b800c7f-c5b9-43d9-a8d0-28bb68c5989f",
   "metadata": {},
   "outputs": [
    {
     "name": "stdout",
     "output_type": "stream",
     "text": [
      "count1 11\n",
      "count2 10\n",
      "count3 9\n"
     ]
    }
   ],
   "source": [
    "# Activecount- Threading module is used to count the number of active or running threads\n",
    "\n",
    "import time\n",
    "import threading\n",
    "\n",
    "def subroutine1(i):\n",
    "    time.sleep(1)\n",
    "    print('count1',threading.active_count())\n",
    "\n",
    "def subroutine2(i):\n",
    "    time.sleep(1)\n",
    "    print('count2',threading.active_count())\n",
    "\n",
    "def subroutine3(i):\n",
    "    time.sleep(1)\n",
    "    print('count3',threading.active_count())\n",
    "    \n",
    "thread1=threading.Thread(target=subroutine1,args=(100,))\n",
    "thread2=threading.Thread(target=subroutine2,args=(200,))\n",
    "thread3=threading.Thread(target=subroutine3,args=(300,))\n",
    "thread1.start()\n",
    "thread2.start()\n",
    "thread3.start()\n",
    "thread3.join()\n",
    "thread2.join()\n",
    "thread1.join()"
   ]
  },
  {
   "cell_type": "code",
   "execution_count": 8,
   "id": "7c8f5662-d4bc-4824-9f9d-18f3439047fa",
   "metadata": {},
   "outputs": [
    {
     "name": "stdout",
     "output_type": "stream",
     "text": [
      "count1 <Thread(Thread-24 (subroutine1), started 140528444241472)>\n",
      "count2 <Thread(Thread-25 (subroutine2), started 140528435848768)>\n",
      "count3 <Thread(Thread-26 (subroutine3), started 140528427456064)>\n"
     ]
    }
   ],
   "source": [
    "# CurrentThread - current_thread() is an inbuilt method of the threading module in Python.\n",
    "# It is used to return the current Thread object, which corresponds to the caller's thread of control.\n",
    "import time\n",
    "import threading\n",
    "\n",
    "def subroutine1(i):\n",
    "    time.sleep(1)\n",
    "    print('count1',threading.current_thread())\n",
    "\n",
    "def subroutine2(i):\n",
    "    time.sleep(1)\n",
    "    print('count2',threading.current_thread())\n",
    "\n",
    "def subroutine3(i):\n",
    "    time.sleep(1)\n",
    "    print('count3',threading.current_thread())\n",
    "    \n",
    "thread1=threading.Thread(target=subroutine1,args=(100,))\n",
    "thread2=threading.Thread(target=subroutine2,args=(200,))\n",
    "thread3=threading.Thread(target=subroutine3,args=(300,))\n",
    "thread1.start()\n",
    "thread2.start()\n",
    "thread3.start()\n",
    "thread3.join()\n",
    "thread2.join()\n",
    "thread1.join()"
   ]
  },
  {
   "cell_type": "code",
   "execution_count": 2,
   "id": "e9c59539-61ad-4379-84ee-63bdb4d52859",
   "metadata": {},
   "outputs": [
    {
     "name": "stdout",
     "output_type": "stream",
     "text": [
      "count1 [<_MainThread(MainThread, started 139649959511872)>, <Thread(IOPub, started daemon 139649888982592)>, <Heartbeat(Heartbeat, started daemon 139649880589888)>, <Thread(Thread-3 (_watch_pipe_fd), started daemon 139649653667392)>, <Thread(Thread-4 (_watch_pipe_fd), started daemon 139649645274688)>, <ControlThread(Control, started daemon 139649636881984)>, <HistorySavingThread(IPythonHistorySavingThread, started 139649628489280)>, <ParentPollerUnix(Thread-2, started daemon 139649619048000)>, <Thread(Thread-8 (subroutine1), started 139649049687616)>, <Thread(Thread-9 (subroutine2), started 139649602262592)>, <Thread(Thread-10 (subroutine3), started 139649610655296)>]\n",
      "count2 [<_MainThread(MainThread, started 139649959511872)>, <Thread(IOPub, started daemon 139649888982592)>, <Heartbeat(Heartbeat, started daemon 139649880589888)>, <Thread(Thread-3 (_watch_pipe_fd), started daemon 139649653667392)>, <Thread(Thread-4 (_watch_pipe_fd), started daemon 139649645274688)>, <ControlThread(Control, started daemon 139649636881984)>, <HistorySavingThread(IPythonHistorySavingThread, started 139649628489280)>, <ParentPollerUnix(Thread-2, started daemon 139649619048000)>, <Thread(Thread-9 (subroutine2), started 139649602262592)>, <Thread(Thread-10 (subroutine3), started 139649610655296)>]\n",
      "count3 [<_MainThread(MainThread, started 139649959511872)>, <Thread(IOPub, started daemon 139649888982592)>, <Heartbeat(Heartbeat, started daemon 139649880589888)>, <Thread(Thread-3 (_watch_pipe_fd), started daemon 139649653667392)>, <Thread(Thread-4 (_watch_pipe_fd), started daemon 139649645274688)>, <ControlThread(Control, started daemon 139649636881984)>, <HistorySavingThread(IPythonHistorySavingThread, started 139649628489280)>, <ParentPollerUnix(Thread-2, started daemon 139649619048000)>, <Thread(Thread-10 (subroutine3), started 139649610655296)>]\n"
     ]
    }
   ],
   "source": [
    "# enumerate() is an inbuilt method of the threading module in Python. \n",
    "#It is used to return the list of all the Thread class objects which are currently alive. \n",
    "#It also includes daemonic threads, the main thread, and dummy thread objects created by current_thread().\n",
    "# It does not count the threads that have terminated or which have not started yet.\n",
    "import time\n",
    "import threading\n",
    "\n",
    "def subroutine1(i):\n",
    "    time.sleep(1)\n",
    "    print('count1',threading.enumerate())\n",
    "\n",
    "def subroutine2(i):\n",
    "    time.sleep(1)\n",
    "    print('count2',threading.enumerate())\n",
    "\n",
    "def subroutine3(i):\n",
    "    time.sleep(1)\n",
    "    print('count3',threading.enumerate())\n",
    "    \n",
    "thread1=threading.Thread(target=subroutine1,args=(100,))\n",
    "thread2=threading.Thread(target=subroutine2,args=(200,))\n",
    "thread3=threading.Thread(target=subroutine3,args=(300,))\n",
    "\n",
    "thread1.start()\n",
    "thread2.start()\n",
    "thread3.start()\n",
    "thread3.join()\n",
    "thread2.join()\n",
    "thread1.join()"
   ]
  },
  {
   "cell_type": "markdown",
   "id": "a9cf7f82-3821-44a8-b154-8179b3340976",
   "metadata": {},
   "source": [
    "### 3. Explain the following functions\n",
    "### ( run\n",
    "###  start\n",
    "###  join\n",
    "### ' isAlive)"
   ]
  },
  {
   "cell_type": "code",
   "execution_count": 3,
   "id": "3c4156c1-d781-4b61-a71e-2b0e916d731e",
   "metadata": {},
   "outputs": [
    {
     "name": "stdout",
     "output_type": "stream",
     "text": [
      "thread1 100\n",
      "thread2 200\n",
      "thread3 300\n"
     ]
    }
   ],
   "source": [
    "# run() method is used inorder give thread activity\n",
    "\n",
    "import time\n",
    "import threading\n",
    "\n",
    "def subroutine1(i):\n",
    "    time.sleep(1)\n",
    "    print('thread1',i)\n",
    "\n",
    "def subroutine2(i):\n",
    "    time.sleep(1)\n",
    "    print('thread2',i)\n",
    "\n",
    "def subroutine3(i):\n",
    "    time.sleep(1)\n",
    "    print('thread3',i)\n",
    "    \n",
    "thread1=threading.Thread(target=subroutine1,args=(100,))\n",
    "thread2=threading.Thread(target=subroutine2,args=(200,))\n",
    "thread3=threading.Thread(target=subroutine3,args=(300,))\n",
    "\n",
    "thread1.run()\n",
    "thread2.run()\n",
    "thread3.run()"
   ]
  },
  {
   "cell_type": "code",
   "execution_count": 4,
   "id": "702e2e54-b415-47b9-b957-809c3a1cfd57",
   "metadata": {},
   "outputs": [
    {
     "name": "stdout",
     "output_type": "stream",
     "text": [
      "thread1 100\n",
      "thread2 200\n",
      "thread3 300\n"
     ]
    }
   ],
   "source": [
    "# Start() method is used inorder to start a particular thread\n",
    "\n",
    "import time\n",
    "import threading\n",
    "\n",
    "def subroutine1(i):\n",
    "    time.sleep(1)\n",
    "    print('thread1',i)\n",
    "\n",
    "def subroutine2(i):\n",
    "    time.sleep(1)\n",
    "    print('thread2',i)\n",
    "\n",
    "def subroutine3(i):\n",
    "    time.sleep(1)\n",
    "    print('thread3',i)\n",
    "    \n",
    "thread1=threading.Thread(target=subroutine1,args=(100,))\n",
    "thread2=threading.Thread(target=subroutine2,args=(200,))\n",
    "thread3=threading.Thread(target=subroutine3,args=(300,))\n",
    "\n",
    "thread1.start()\n",
    "thread2.start()\n",
    "thread3.start()"
   ]
  },
  {
   "cell_type": "code",
   "execution_count": 6,
   "id": "2f1b0899-a7cd-40e3-95b7-a2b610e36139",
   "metadata": {},
   "outputs": [
    {
     "name": "stdout",
     "output_type": "stream",
     "text": [
      "thread1 100\n",
      "thread2 200\n",
      "thread3 300\n"
     ]
    }
   ],
   "source": [
    "# Join()-- the current thread will block until that thread finished. So you are waiting for the thread to finish, \n",
    "# preventing you from starting any other thread. The idea behind join is to wait for other threads before continuing.\n",
    "import time\n",
    "import threading\n",
    "\n",
    "def subroutine1(i):\n",
    "    time.sleep(1)\n",
    "    print('thread1',i)\n",
    "\n",
    "def subroutine2(i):\n",
    "    time.sleep(1)\n",
    "    print('thread2',i)\n",
    "\n",
    "def subroutine3(i):\n",
    "    time.sleep(1)\n",
    "    print('thread3',i)\n",
    "    \n",
    "thread1=threading.Thread(target=subroutine1,args=(100,))\n",
    "thread2=threading.Thread(target=subroutine2,args=(200,))\n",
    "thread3=threading.Thread(target=subroutine3,args=(300,))\n",
    "\n",
    "thread1.start()\n",
    "thread2.start()\n",
    "thread3.start()\n",
    "thread3.join()\n",
    "thread2.join()\n",
    "thread1.join()\n"
   ]
  },
  {
   "cell_type": "code",
   "execution_count": 11,
   "id": "a5f296d0-4f3d-4b80-ad20-f952ae0b695c",
   "metadata": {},
   "outputs": [
    {
     "name": "stdout",
     "output_type": "stream",
     "text": [
      "is thread active True\n",
      "thread1 100\n",
      "is thread active False\n"
     ]
    }
   ],
   "source": [
    "# isalive() method is used to return whether an thread is currently active or not\n",
    "\n",
    "import time\n",
    "import threading\n",
    "\n",
    "def subroutine1(i):\n",
    "    print('is thread active',thread.is_alive())\n",
    "    time.sleep(1)\n",
    "    print('thread1',i)\n",
    " \n",
    "thread=threading.Thread(target=subroutine1,args=(100,))\n",
    "\n",
    "\n",
    "thread.start()\n",
    "thread.join()\n",
    "print('is thread active',thread.is_alive())\n"
   ]
  },
  {
   "cell_type": "markdown",
   "id": "1c7d7758-7612-4aa7-b6d9-7c4125334a49",
   "metadata": {},
   "source": [
    "### 4. Write a python program to create two threads. Thread one must print the list of squares and thread\n",
    "### two must print the list of cubes"
   ]
  },
  {
   "cell_type": "code",
   "execution_count": 52,
   "id": "a64abc2d-3d79-4923-bc84-87e15eb2e374",
   "metadata": {},
   "outputs": [
    {
     "name": "stdout",
     "output_type": "stream",
     "text": [
      "squares of list for 1 value is 1\n",
      "squares of list for 2 value is 4\n",
      "squares of list for 3 value is 9\n",
      "squares of list for 4 value is 16\n",
      "squares of list for 5 value is 25\n",
      "squares of list for 6 value is 36\n",
      "squares of list for 7 value is 49\n",
      "squares of list for 8 value is 64\n",
      "squares of list for 9 value is 81\n",
      "squares of list for 10 value is 100\n",
      "cube of list for 1 value is 1\n",
      "cube of list for 2 value is 8\n",
      "cube of list for 3 value is 27\n",
      "cube of list for 4 value is 64\n",
      "cube of list for 5 value is 125\n",
      "cube of list for 6 value is 216\n",
      "cube of list for 7 value is 343\n",
      "cube of list for 8 value is 512\n",
      "cube of list for 9 value is 729\n",
      "cube of list for 10 value is 1000\n"
     ]
    }
   ],
   "source": [
    "import threading\n",
    "\n",
    "\n",
    "def square(s,e):\n",
    "    for i in range(s,e+1):\n",
    "        print(f'squares of list for {i} value is {i*i}')\n",
    "\n",
    "def cubes(s,e):\n",
    "    for i in range(s,e+1):\n",
    "        print(f'cube of list for {i} value is {i**3}')\n",
    "        \n",
    "    \n",
    "m1=threading.Thread(target=square,args=(1,10))\n",
    "m2=threading.Thread(target=cubes,args=(1,10))\n",
    "\n",
    "m1.start()\n",
    "m2.start()\n",
    "m2.join()\n",
    "m1.join()"
   ]
  },
  {
   "cell_type": "markdown",
   "id": "097a3fec-076a-46b4-afc6-708f0ffa2a54",
   "metadata": {},
   "source": [
    "### 5. State advantages and disadvantages of multithreading"
   ]
  },
  {
   "cell_type": "code",
   "execution_count": 53,
   "id": "5f576b33-40fd-4591-bfe1-9ca10a761077",
   "metadata": {},
   "outputs": [],
   "source": [
    "# Advantages of multithreading:\n",
    "# Improved performance: Multithreading can improve the performance of a program by allowing different parts of the program to run simultaneously. This can make the program more efficient and reduce the overall execution time.\n",
    "#Better resource utilization: Multithreading can make better use of available resources such as CPU and memory by distributing the workload across multiple threads.\n",
    "#Enhanced user experience: Multithreading can improve the user experience by making the program more responsive and interactive.\n",
    "#Simplified coding: Multithreading can simplify coding by allowing the programmer to break down complex tasks into smaller, more manageable threads.\n",
    "#Scalability: Multithreading allows the program to scale well as the number of threads can be increased based on the available resources.\n",
    "#Disadvantage of Multithreading\n",
    "#Increased complexity: Multithreading can make the program more complex and harder to debug. It can be challenging to ensure that multiple threads access shared resources in a thread-safe manner, which can lead to synchronization issues.\n",
    "#Overhead: Multithreading adds overhead to the program as there is additional management overhead for creating, synchronizing, and managing threads.\n",
    "#Race conditions: Multithreading can lead to race conditions, where multiple threads try to access the same shared resource simultaneously, resulting in unpredictable and incorrect behavior.\n",
    "#Resource contention: Multithreading can result in resource contention when multiple threads try to access the same resource, such as memory or I/O devices, which can lead to performance degradation.\n",
    "#Deadlocks: Multithreading can lead to deadlocks, where two or more threads are blocked waiting for each other to release resources, resulting in a program that hangs or crashes."
   ]
  },
  {
   "cell_type": "markdown",
   "id": "08686d72-2e2e-47a4-94e7-fc1295c44b2f",
   "metadata": {},
   "source": [
    "### 6. Explain deadlocks and race conditions."
   ]
  },
  {
   "cell_type": "code",
   "execution_count": null,
   "id": "27f473a3-bb4e-4940-858e-843586fe1f81",
   "metadata": {},
   "outputs": [],
   "source": [
    "#Deadlocks : A deadlock is a situation where two or more threads are blocked, waiting for each other to release a resource. \n",
    "#In other words, each thread is holding a resource that the other thread needs to proceed,\n",
    "#but neither thread can release its resource until it acquires the resource it is waiting for.\n",
    "#This results in a situation where both threads are stuck, waiting indefinitely for the other thread to release the resource. \n",
    "#Deadlocks can cause a program to hang or crash and are notoriously difficult to debug.\n",
    "\n",
    "\n",
    "#Race Condition : A race condition occurs when two or more threads access a shared resource simultaneously, \n",
    "#and the final outcome depends on the order in which the threads are executed. In other words, the execution \n",
    "#of the program depends on the timing of the threads, and if the order of execution is not controlled, \n",
    "#it can result in unpredictable behavior. For example, if two threads try to update the same variable simultaneously,\n",
    "#the final value of the variable will depend on which thread executed first. This can result in incorrect program behavior,\n",
    "#such as data corruption or inconsistency."
   ]
  }
 ],
 "metadata": {
  "kernelspec": {
   "display_name": "Python 3 (ipykernel)",
   "language": "python",
   "name": "python3"
  },
  "language_info": {
   "codemirror_mode": {
    "name": "ipython",
    "version": 3
   },
   "file_extension": ".py",
   "mimetype": "text/x-python",
   "name": "python",
   "nbconvert_exporter": "python",
   "pygments_lexer": "ipython3",
   "version": "3.10.8"
  }
 },
 "nbformat": 4,
 "nbformat_minor": 5
}
