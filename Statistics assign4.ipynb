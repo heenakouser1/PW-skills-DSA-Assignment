{
 "cells": [
  {
   "cell_type": "markdown",
   "id": "90c1a919-4c73-4dc7-ad26-e829b89dbab0",
   "metadata": {},
   "source": [
    "Q1: What are the Probability Mass Function (PMF) and Probability Density Function (PDF)? Explain with\n",
    "an example.\n"
   ]
  },
  {
   "cell_type": "code",
   "execution_count": null,
   "id": "641e9303-a66c-4a72-a13c-f46a173960f9",
   "metadata": {},
   "outputs": [],
   "source": [
    "1. Probability Mass Function (PMF)\n",
    "The Probability Mass Function (PMF) and Probability Density Function (PDF) are both mathematical functions used to describe the probability distribution of a random variable.\n",
    "The PMF is used for discrete random variables and gives the probability of each possible outcome. It is defined as follows:\n",
    "PMF(x) = P(X = x)\n",
    "where X is the random variable and x is a possible outcome. The PMF returns the probability of X being equal to x.\n",
    "For example, suppose we have a fair six-sided die. The PMF for this die would be\n",
    "PMF(1) = 1/6\n",
    "PMF(2) = 1/6\n",
    "PMF(3) = 1/6\n",
    "PMF(4) = 1/6\n",
    "PMF(5) = 1/6\n",
    "PMF(6) = 1/6\n",
    "This means that the probability of rolling a 1 is 1/6, the probability of rolling a 2 is 1/6, and so on. The PMF is a discrete function because the possible outcomes (1, 2, 3, 4, 5, and 6) are all distinct and countable.\n",
    "2. Probability Density Function (PDF)\n",
    "The PDF, on the other hand, is used for continuous random variables and gives the density of probability at each possible value of the variable. It is defined as follows:\n",
    "PDF(x) = dF(x) / dx\n",
    "where F(x) is the cumulative distribution function (CDF) of the variable. The PDF returns the density of probability at a particular value of X."
   ]
  },
  {
   "cell_type": "markdown",
   "id": "71973010-6da3-4d6b-9cd6-c2b3fb9d8028",
   "metadata": {
    "tags": []
   },
   "source": [
    "Q2: What is Cumulative Density Function (CDF)? Explain with an example. Why CDF is used?\n"
   ]
  },
  {
   "cell_type": "code",
   "execution_count": null,
   "id": "488f63ac-88d9-47e2-86b3-a30035c8b461",
   "metadata": {},
   "outputs": [],
   "source": [
    "The Cumulative Distribution Function (CDF) is a mathematical function used to describe the probability distribution of a random variable. \n",
    "The CDF is defined as the probability that the variable takes on a value less than or equal to a given value. In other words, it gives the cumulative probability of the random variable up to a certain point.\n",
    "\n",
    "F(x) = P(X<=x)\n",
    "X is the random variable and \n",
    "x  is a possible value.\n",
    "eg: throwing a single dice\n",
    "This is uniform distribution with  p = 1/6\n",
    " so probability of dice showing number less than or equal to 4 then\n",
    "    F(4) = p(X<=4) = 1/6 +1/6+1/6+1/6 = 2/3\n"
   ]
  },
  {
   "cell_type": "markdown",
   "id": "539c2bb3-4279-4456-9183-fbde578edc2e",
   "metadata": {},
   "source": [
    "Q3: What are some examples of situations where the normal distribution might be used as a model?\n",
    "Explain how the parameters of the normal distribution relate to the shape of the distribution.\n"
   ]
  },
  {
   "cell_type": "code",
   "execution_count": null,
   "id": "f15ac644-1c61-4dd8-8207-4f1fbfc857a6",
   "metadata": {},
   "outputs": [],
   "source": [
    "The normal distribution, also known as the Gaussian distribution, is a commonly used probability distribution\n",
    "eg: IQ scores: IQ scores are often modeled using the normal distribution. In this case, the mean and standard deviation would reflect the average IQ score and the degree of variation in IQ scores, respectively.\n",
    "\n",
    "The normal distribution is characterized by two parameters: the mean (μ) and the standard deviation (σ). \n",
    "The mean determines the location of the peak of the distribution, and the standard deviation determines the width of the distribution. Specifically, the greater the standard deviation, the wider the distribution will be.\n",
    "The normal distribution is a bell-shaped curve that is symmetrical around the mean. About 68% of the data falls within one standard deviation of the mean, a\n",
    "bout 95% falls within two standard deviations of the mean, and about 99.7% falls within three standard deviations of the mean. These properties make the normal distribution a convenient model for a wide variety of real-world phenomena."
   ]
  },
  {
   "cell_type": "markdown",
   "id": "0aeead5b-8b51-4d84-92b0-318ea36ae478",
   "metadata": {},
   "source": [
    "Q4: Explain the importance of Normal Distribution. Give a few real-life examples of Normal\n",
    "Distribution.\n"
   ]
  },
  {
   "cell_type": "code",
   "execution_count": null,
   "id": "bd0e80dd-d706-44b7-a2fd-8bc0a67d095f",
   "metadata": {},
   "outputs": [],
   "source": [
    "Normal distribution, also known as Gaussian distribution, is a probability distribution that is widely used in statistics, data analysis, and modeling. \n",
    "It is an important concept in statistics because many natural phenomena can be modeled using normal distributions.\n",
    "The importance of normal distribution lies in its usefulness in approximating many real-world processes, allowing us to make predictions, estimate probabilities,\n",
    "and analyze data. The following are a few examples of real-life phenomena that can be modeled using normal distribution:\n",
    "\n",
    "eg:\n",
    "Annual rainfall: The amount of rainfall in a particular area over a year can be modeled using normal distribution, with most years having average rainfall and fewer years experiencing extreme droughts or floods.\n",
    "Hospital stays: The length of time a patient stays in a hospital can be modeled using normal distribution, with most patients staying for an average length of time and fewer patients having very short or very long stays."
   ]
  },
  {
   "cell_type": "markdown",
   "id": "e1a8bbed-c084-42a7-8277-1f5520d2a1b0",
   "metadata": {},
   "source": [
    "Q5: What is Bernaulli Distribution? Give an Example. What is the difference between Bernoulli\n",
    "Distribution and Binomial Distribution?\n"
   ]
  },
  {
   "cell_type": "code",
   "execution_count": null,
   "id": "4e1e669c-7f8d-4b5a-b9d5-e48937292812",
   "metadata": {},
   "outputs": [],
   "source": [
    "Bernoulli distribution is a probability distribution that represents the outcome of a binary experiment,\n",
    "where the outcome can be either a success or a failure. It is named after Swiss mathematician Jacob Bernoulli, who developed the concept in the 17th century.\n",
    "The Bernoulli distribution is characterized by a single parameter p, which represents the probability of success in a single trial. \n",
    "The probability of failure is given by q = 1-p.\n",
    "\n",
    "Bernoulli deals with the outcome of the single trial of the event\n",
    "Binomial deals with the outcome of the multiple trials of the single event.\n",
    "\n",
    "Bernoulli is used when the outcome of an event is required for only one time\n",
    "Binomial is used when the outcome of an event is required multiple times."
   ]
  },
  {
   "cell_type": "markdown",
   "id": "43ba9d39-1cbf-4e7f-930f-0f0378c59226",
   "metadata": {},
   "source": [
    "Q6. Consider a dataset with a mean of 50 and a standard deviation of 10. If we assume that the dataset\n",
    "is normally distributed, what is the probability that a randomly selected observation will be greater\n",
    "than 60? Use the appropriate formula and show your calculations.\n"
   ]
  },
  {
   "cell_type": "code",
   "execution_count": null,
   "id": "97baa952-8841-4223-8492-77ca41f4be49",
   "metadata": {},
   "outputs": [],
   "source": [
    "mu = 50\n",
    "std = 10\n",
    "\n",
    "xi=60\n",
    "\n",
    "z = xi-u / std\n",
    "\n",
    "z = 60-50 / 10 = 1\n",
    "\n",
    "so for z = 1 the value from z table is 0.84134\n",
    "\n",
    "1-0.84134 = 0.15866\n",
    "\n",
    "so with mean 50 and std 10, probability of selected random variable will ne 0.155866"
   ]
  },
  {
   "cell_type": "markdown",
   "id": "41acbaf4-a073-4913-85f7-37bf92e36eba",
   "metadata": {},
   "source": [
    "Q7: Explain uniform Distribution with an example.\n"
   ]
  },
  {
   "cell_type": "code",
   "execution_count": null,
   "id": "9f3cc8c1-8998-432a-ae95-42ca04a6b998",
   "metadata": {},
   "outputs": [],
   "source": [
    "Uniform distribution is a probability distribution where every possible outcome has an equal chance of occurring. This means that the values of a random variable are spread evenly over a given interval or range.\n",
    "A classic example of a uniform distribution is the roll of a fair die. The die has six faces, each labeled with a number from 1 to 6, and all the faces are equally likely to come up when the die is rolled.\n",
    "Therefore, the probability of each outcome is 1/6, and this distribution is called a discrete uniform distribution."
   ]
  },
  {
   "cell_type": "markdown",
   "id": "2bf7d4ce-fa89-45c5-8aa0-87dca00187f2",
   "metadata": {},
   "source": [
    "Q8: What is the z score? State the importance of the z score.\n"
   ]
  },
  {
   "cell_type": "code",
   "execution_count": null,
   "id": "41d0e209-e82a-48c2-b61d-b735d24db8f1",
   "metadata": {},
   "outputs": [],
   "source": [
    "A Z score (or standard score) is a measure of how many standard deviations an observation or data point is away from the mean of a population.\n",
    "\n",
    "The importance of Z scores lies in their ability to standardize different data sets so they can be compared on a common scale, this is called standarization\n",
    "Z scores allow us to compare values from different populations or samples and see how much they differ from their respective means in standard deviation units.\n",
    "This makes it easier to interpret the significance of the differences between the data sets.\n",
    "In addition, Z scores can be used to calculate probabilities for a normal distribution using the standard normal distribution table. \n",
    "This table provides the probability of finding a value within a certain number of standard deviations from the mean.\n",
    "Z scores are commonly used in various fields such as statistics, finance, social sciences, and engineering for data analysis, hypothesis testing, \n",
    "and quality control. They are a powerful tool for analyzing and comparing data across different populations or samples."
   ]
  },
  {
   "cell_type": "markdown",
   "id": "ccf739db-9099-4a4e-a40c-d98fb64fa76c",
   "metadata": {},
   "source": [
    "Q9: What is Central Limit Theorem? State the significance of the Central Limit Theorem.\n"
   ]
  },
  {
   "cell_type": "code",
   "execution_count": null,
   "id": "aa0b0d56-4426-486c-bbb6-e86cacaa38f4",
   "metadata": {},
   "outputs": [],
   "source": [
    "The Central Limit Theorem (CLT) is a fundamental concept in statistics that describes the behavior of the means of a large number of independent and\n",
    "identically distributed random variables, regardless of the distribution of the underlying variables.\n",
    "The Central Limit Theorem states that if we take a large number of random samples from any distribution with a finite mean and variance, \n",
    "the sampling distribution of the means will be approximately normally distributed, regardless of the shape of the original distribution. \n",
    "This means that the means of the samples will tend to cluster around the true population mean, and the spread of the distribution of means will be reduced as the sample size increases.\n",
    "The significance of the Central Limit Theorem lies in its wide applicability in statistics and its practical implications. Some of the important applications of the Central Limit Theorem are:\n",
    "Hypothesis testing - The Central Limit Theorem is used to test hypotheses about the means of populations, where the distribution of the population is unknown or non-normal.\n",
    "\n",
    "Confidence intervals - The Central Limit Theorem is used to construct confidence intervals for the population mean, which helps in estimating the true mean of a population based on a sample mean.\n",
    "\n",
    "Sample size determination - The Central Limit Theorem is used to determine the sample size required for a given level of precision in estimating the population mean.\n",
    "\n",
    "Quality control - The Central Limit Theorem is used to monitor the quality of production processes by measuring the means of samples and comparing them to the population mean.\n",
    "\n",
    "In summary, the Central Limit Theorem is an essential concept in statistics that enables us to make inferences about populations based on samples,\n",
    "regardless of the underlying distribution of the data. It has important applications in various fields, making it a crucial tool for data analysis and decision-making."
   ]
  },
  {
   "cell_type": "markdown",
   "id": "97be0ce6-05f1-46e9-9a3f-18ea286514af",
   "metadata": {},
   "source": [
    "Q10: State the assumptions of the Central Limit Theorem."
   ]
  },
  {
   "cell_type": "code",
   "execution_count": null,
   "id": "c303a53c-72b7-4780-970e-e12293f9cde4",
   "metadata": {},
   "outputs": [],
   "source": [
    "The Central Limit Theorem (CLT) has some assumptions that need to be satisfied for it to hold. The assumptions of the Central Limit Theorem are as follows:\n",
    "Independence - The samples must be independent of each other. In other words, the value of one sample should not depend on the value of another sample.\n",
    "\n",
    "Sample size - The sample size should be large enough. Generally, a sample size of at least 30 is considered to be large enough for the Central Limit Theorem to hold.\n",
    "\n",
    "Random sampling - The samples should be selected randomly from the population.\n",
    "\n",
    "Finite population or replacement - The population should be finite or the sampling should be done with replacement. If the population is infinite and the sampling is done without replacement, then the Central Limit Theorem may not hold.\n",
    "\n",
    "Finite mean and variance - The population should have a finite mean and variance. If the mean or variance is infinite, then the Central Limit Theorem may not hold.\n",
    "\n",
    "If these assumptions are satisfied, then the Central Limit Theorem can be applied to the data to make inferences about the population mean or other parameters.\n",
    "It is important to note that violating any of these assumptions can lead to incorrect results, so it is essential to check the validity of the assumptions before applying the Central Limit Theorem."
   ]
  }
 ],
 "metadata": {
  "kernelspec": {
   "display_name": "Python 3 (ipykernel)",
   "language": "python",
   "name": "python3"
  },
  "language_info": {
   "codemirror_mode": {
    "name": "ipython",
    "version": 3
   },
   "file_extension": ".py",
   "mimetype": "text/x-python",
   "name": "python",
   "nbconvert_exporter": "python",
   "pygments_lexer": "ipython3",
   "version": "3.10.8"
  }
 },
 "nbformat": 4,
 "nbformat_minor": 5
}
