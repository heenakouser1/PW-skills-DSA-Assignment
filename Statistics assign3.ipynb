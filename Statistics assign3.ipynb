{
 "cells": [
  {
   "cell_type": "markdown",
   "id": "2d05222f-6eb6-4ddc-91e3-1cfa3baaca96",
   "metadata": {},
   "source": [
    "Q1. What is the Probability density function?\n"
   ]
  },
  {
   "cell_type": "code",
   "execution_count": null,
   "id": "22d21acb-4a69-4d3a-84a7-fe159428867f",
   "metadata": {},
   "outputs": [],
   "source": [
    "The Probability Density Function(PDF) defines the probability function representing the density of a continuous random variable lying between a specific range of values.\n",
    "In other words, the probability density function produces the likelihood of values of the continuous random variable.\n",
    "Sometimes it is also called a probability distribution function or just a probability function."
   ]
  },
  {
   "cell_type": "markdown",
   "id": "6c299608-cdbf-4c50-8617-ee2d0cdbdb67",
   "metadata": {},
   "source": [
    "Q2. What are the types of Probability distribution?\n"
   ]
  },
  {
   "cell_type": "code",
   "execution_count": null,
   "id": "efc5ae8a-d1aa-4b64-811f-8f0c86d2bf14",
   "metadata": {},
   "outputs": [],
   "source": [
    "1. Normal distribution /Gaussian (PDF)\n",
    "2. Bernoulli distribution (PMF) ---- success/failure\n",
    "3. uniform distribution\n",
    "4. log uniform distribution -(PDF)\n",
    "5. POission distribution ----(PMF)\n",
    "6. Power law distribution (80-20% rule ) ---- (PDF)\n",
    "7. Binomial distribution --(PMF)"
   ]
  },
  {
   "cell_type": "markdown",
   "id": "e9302418-41f3-4c7d-adc6-1ec8a00c17dc",
   "metadata": {},
   "source": [
    "Q3. Write a Python function to calculate the probability density function of a normal distribution with\n",
    "given mean and standard deviation at a given point.\n"
   ]
  },
  {
   "cell_type": "code",
   "execution_count": 11,
   "id": "ca2da209-04d9-4331-a99b-88d2234232cf",
   "metadata": {},
   "outputs": [
    {
     "data": {
      "text/plain": [
       "12.763468454266414"
      ]
     },
     "execution_count": 11,
     "metadata": {},
     "output_type": "execute_result"
    }
   ],
   "source": [
    "import numpy as np\n",
    "#x= np.linspace(1,50,200)\n",
    "\n",
    "def normal(x,mean,std):\n",
    "    prob = (np.pi*std) * np.exp(-0.5* ((x-mean)/std)**2)\n",
    "    return prob\n",
    "\n",
    "mean = np.mean(x)\n",
    "std= np.std(x)\n",
    "\n",
    "\n",
    "normal(3,mean,std)\n",
    "    "
   ]
  },
  {
   "cell_type": "markdown",
   "id": "385a362c-d1a5-4bc0-815f-e833f4fac2da",
   "metadata": {},
   "source": [
    "Q4. What are the properties of Binomial distribution? Give two examples of events where binomial\n",
    "distribution can be applied.\n"
   ]
  },
  {
   "cell_type": "code",
   "execution_count": null,
   "id": "bbfd914c-d95e-4c2c-a344-38c850d00338",
   "metadata": {},
   "outputs": [],
   "source": [
    "The Binomial distribution is a discrete probability distribution that describes the number of successes in a fixed number of independent trials, \n",
    "where each trial has the same probability of success. The key properties of the Binomial distribution are:\n",
    "The number of trials n is fixed and known in advance.\n",
    "Each trial is independent of the others.\n",
    "There are only two possible outcomes for each trial: success or failure.\n",
    "The probability of success p is the same for each trial.\n",
    "\n",
    "eg: Tossing a coin for 10 times, here the n parameter is known and what ever the event it is, its independent and probability for each trial is is fixed either head or tail\n",
    "eg: 5 student appearing for test which has chance of passing with 3 attempts, here the n parameter is known and what ever the event it is, its independent and probability for each trial is is fixed either pass or fail"
   ]
  },
  {
   "cell_type": "markdown",
   "id": "b5acd696-8b51-49f5-9ca2-dcd59d6ebca3",
   "metadata": {},
   "source": [
    "Q5. Generate a random sample of size 1000 from a binomial distribution with probability of success 0.4\n",
    "and plot a histogram of the results using matplotlib.\n"
   ]
  },
  {
   "cell_type": "code",
   "execution_count": 17,
   "id": "95afcf3b-b0f6-4a04-b993-ef5b18858fd7",
   "metadata": {},
   "outputs": [
    {
     "data": {
      "text/plain": [
       "<Figure size 600x200 with 0 Axes>"
      ]
     },
     "execution_count": 17,
     "metadata": {},
     "output_type": "execute_result"
    },
    {
     "data": {
      "image/png": "[encoded data removed]",
      "text/plain": [
       "<Figure size 640x480 with 1 Axes>"
      ]
     },
     "metadata": {},
     "output_type": "display_data"
    },
    {
     "data": {
      "text/plain": [
       "<Figure size 600x200 with 0 Axes>"
      ]
     },
     "metadata": {},
     "output_type": "display_data"
    }
   ],
   "source": [
    "import matplotlib.pyplot as plt\n",
    "import numpy as np\n",
    "\n",
    "n=1000\n",
    "p=0.4\n",
    "bino = np.random.binomial(n,p,size=1000)\n",
    "\n",
    "plt.hist(bino,bins='scott',density=True,edgecolor='red')\n",
    "plt.xlabel('success')\n",
    "plt.ylabel('probability')\n",
    "plt.title('binomial distribution ')\n",
    "plt.figure(figsize=(6,2))\n"
   ]
  },
  {
   "cell_type": "markdown",
   "id": "c70a538c-1f59-4ed6-b86b-45c4590f6d93",
   "metadata": {},
   "source": [
    "Q6. Write a Python function to calculate the cumulative distribution function of a Poisson distribution\n",
    "with given mean at a given point.\n"
   ]
  },
  {
   "cell_type": "code",
   "execution_count": 18,
   "id": "914d266f-e253-4699-803c-48f9637f3ccf",
   "metadata": {},
   "outputs": [
    {
     "data": {
      "text/plain": [
       "2.62406689946238e-08"
      ]
     },
     "execution_count": 18,
     "metadata": {},
     "output_type": "execute_result"
    }
   ],
   "source": [
    "import numpy as np\n",
    "import math\n",
    "#x= np.linspace(1,50,200)\n",
    "\n",
    "def poisson(mean,p):\n",
    "    cdf = 0\n",
    "    \n",
    "    for k in range(p+1):\n",
    "        cdf = cdf + math.exp(-mean) * pow(mean,k) / math.factorial(k)\n",
    "    return cdf\n",
    "\n",
    "poisson(mean,3)\n",
    "    "
   ]
  },
  {
   "cell_type": "markdown",
   "id": "fc070e44-601d-4733-9768-02dde9850283",
   "metadata": {},
   "source": [
    "Q7. How Binomial distribution different from Poisson distribution?\n"
   ]
  },
  {
   "cell_type": "code",
   "execution_count": null,
   "id": "22f0533a-6f9a-4431-9dad-40dab9971edb",
   "metadata": {},
   "outputs": [],
   "source": [
    "BINOMIAL DISTRIBUTION\t                                       \n",
    "Binomial distribution is one in which the probability of repeated number of trials are studied.\t\n",
    "Biparametric\t\n",
    "Number of trials Fixed\t\n",
    "constant probability\t\n",
    "Only two possible outcomes, i.e. success or failure.\tU\n",
    "Mean > Variance\t\n",
    "Example\tCoin tossing experiment.\t\n",
    "\n",
    "\n",
    "\n",
    "POISSON DISTRIBUTION\n",
    "Poisson Distribution gives the count of independent events occur randomly with a given period of time.\n",
    "Uniparametric\n",
    "Number of trialsInfinite\n",
    "Infinitesimal chance of success\n",
    "unlimited number of possible outcomes.\n",
    "Mean = Variance\n",
    "Printing mistakes/page of a large book."
   ]
  },
  {
   "cell_type": "markdown",
   "id": "0e88beba-814b-48df-8c6b-79c1f14bf27a",
   "metadata": {},
   "source": [
    "Q8. Generate a random sample of size 1000 from a Poisson distribution with mean 5 and calculate the\n",
    "sample mean and variance.\n"
   ]
  },
  {
   "cell_type": "code",
   "execution_count": 23,
   "id": "6d86f124-018d-47a5-9b3e-16f548e55179",
   "metadata": {},
   "outputs": [
    {
     "name": "stdout",
     "output_type": "stream",
     "text": [
      "mean of sample is  5.049\n",
      "var of sample is  5.366599\n"
     ]
    }
   ],
   "source": [
    "import numpy as np\n",
    "\n",
    "n=1000\n",
    "mean= 5\n",
    "\n",
    "s = np.random.poisson(mean,size=1000)\n",
    "\n",
    "mean = np.mean(s)\n",
    "var = np.var(s)\n",
    "\n",
    "print('mean of sample is ',mean)\n",
    "print('var of sample is ',var)"
   ]
  },
  {
   "cell_type": "markdown",
   "id": "1fd9bfa6-3b56-4a56-b13f-e229a658ed8b",
   "metadata": {},
   "source": [
    "Q9. How mean and variance are related in Binomial distribution and Poisson distribution?\n"
   ]
  },
  {
   "cell_type": "code",
   "execution_count": null,
   "id": "c5126524-86d4-423e-a42b-a490749ed6d9",
   "metadata": {},
   "outputs": [],
   "source": [
    "Binomial distribution:\n",
    "Mean > Variance\t\n",
    "\n",
    "\n",
    "Poisson distribution: \n",
    "Mean = Variance"
   ]
  },
  {
   "cell_type": "markdown",
   "id": "2e032711-1f3c-44d8-84a6-2136feaf659c",
   "metadata": {},
   "source": [
    "Q10. In normal distribution with respect to mean position, where does the least frequent data appear?"
   ]
  },
  {
   "cell_type": "code",
   "execution_count": null,
   "id": "47f686fc-e3d4-4937-8c16-8c78823a4195",
   "metadata": {},
   "outputs": [],
   "source": [
    "In a normal distribution, the least frequent data appear in the tails of the distribution, which are the \n",
    "regions that are farthest from the mean. The tails of a normal distribution represent\n",
    "the extreme values of the variable being measured, which are less common than the values closer to the mean."
   ]
  }
 ],
 "metadata": {
  "kernelspec": {
   "display_name": "Python 3 (ipykernel)",
   "language": "python",
   "name": "python3"
  },
  "language_info": {
   "codemirror_mode": {
    "name": "ipython",
    "version": 3
   },
   "file_extension": ".py",
   "mimetype": "text/x-python",
   "name": "python",
   "nbconvert_exporter": "python",
   "pygments_lexer": "ipython3",
   "version": "3.10.8"
  }
 },
 "nbformat": 4,
 "nbformat_minor": 5
}
