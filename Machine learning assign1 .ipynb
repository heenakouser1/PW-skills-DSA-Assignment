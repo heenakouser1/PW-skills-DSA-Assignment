{
 "cells": [
  {
   "cell_type": "markdown",
   "id": "ad83453d-f4c8-4536-9950-4305c0f77906",
   "metadata": {},
   "source": [
    "Q1 Explain the following with example \n",
    "1. Artififial Intelligence\n",
    "2. Machine Learning\n",
    "3. Deep Learning\n"
   ]
  },
  {
   "cell_type": "code",
   "execution_count": null,
   "id": "c032a233-2103-49b6-beb1-0e586095c803",
   "metadata": {},
   "outputs": [],
   "source": [
    "1. Artificial Intelligence (AI): It is the branch of computer science that aims to create intelligent machines that can perform tasks that\n",
    "typically require human intelligence, such as visual perception, speech recognition, decision making, and language translation.\n",
    "AI can be classified into two types: weak AI and strong AI. Weak AI is designed to perform specific tasks, whereas strong AI is designed to have general intelligence like a human being. \n",
    "Examples of AI include virtual personal assistants like Siri, Alexa, and Google Assistant, self-driving cars, and facial recognition technology.\n",
    "2. Machine Learning (ML): It is a subset of AI that focuses on enabling machines to learn and improve from experience without being explicitly programmed. \n",
    "In other words, ML algorithms can automatically learn patterns and insights from data and make predictions or decisions based on that learning. There are\n",
    "three types of ML: supervised learning, unsupervised learning, and reinforcement learning. Supervised learning involves training the algorithm with labeled data, \n",
    "unsupervised learning involves finding patterns in unlabeled data, and reinforcement learning involves training the algorithm to make decisions based on rewards and punishments. \n",
    "Examples of ML include spam filters, recommendation systems, and fraud detection systems.\n",
    "3. Deep Learning (DL): It is a subset of ML that focuses on training artificial neural networks with many layers, which can learn and represent complex\n",
    "relationships between inputs and outputs. DL algorithms can be used for tasks such as image recognition, speech recognition, natural language processing, and autonomous driving. \n",
    "Deep neural networks are composed of multiple layers of interconnected nodes that transform input data and extract features at each layer. Examples of DL include Google's AlphaGo,\n",
    "which defeated the world champion at the board game Go, and self-driving cars developed by companies like Tesla and Waymo."
   ]
  },
  {
   "cell_type": "markdown",
   "id": "245a3f1d-8e11-4cd3-bcc2-53cb32bd248b",
   "metadata": {},
   "source": [
    "Q2- What is supervised learning? List some example of it.\n"
   ]
  },
  {
   "cell_type": "code",
   "execution_count": null,
   "id": "796f784d-69ec-4452-a530-3f5227312ea4",
   "metadata": {},
   "outputs": [],
   "source": [
    "Supervised machine learning is a type of machine learning where an algorithm learns from labeled data that is already \n",
    "categorized or classified. The algorithm learns to identify patterns and relationships between the input features (also known as independent \n",
    "variables or predictors) and the corresponding output (also known as dependent variable or response). The algorithm can then use this learning to predict the output for new input data that it has not seen before.\n",
    "Examples of supervised machine learning include:\n",
    "Predicting house prices based on factors such as size, location, number of bedrooms, and bathrooms.\n",
    "\n",
    "Forecasting the demand for a particular product based on historical sales data, time of year, and marketing campaigns.\n",
    "\n",
    "Estimating the time it will take to complete a task based on historical data of similar tasks and factors such as complexity and available resources.\n",
    "\n",
    "Predicting whether a loan applicant will default or not based on their credit score, income, and other factors.\n",
    "\n",
    "Diagnosing a medical condition based on symptoms, test results, and other patient information.\n",
    "\n",
    "Identifying whether an email is spam or not based on its content and other features."
   ]
  },
  {
   "cell_type": "markdown",
   "id": "93f60a45-096d-4523-84e8-0e29da30edfb",
   "metadata": {},
   "source": [
    "Question 3 : What is unsupervised learning? List some examples of unsupervised learning."
   ]
  },
  {
   "cell_type": "code",
   "execution_count": null,
   "id": "26da1d2b-1071-49c4-bd00-d9df5f08c161",
   "metadata": {},
   "outputs": [],
   "source": [
    "Unsupervised machine learning is a type of machine learning where an algorithm learns from unlabeled data, without any specific guidance or labels from the user. \n",
    "The algorithm learns to identify patterns and relationships between the input data, and can then group or cluster the data based on these patterns.\n",
    "This can be useful for identifying hidden patterns or structures in the data, or for finding outliers or anomalies that may require further investigation.\n",
    "Examples of unsupervised machine learning include:\n",
    "Clustering: In this application, the algorithm groups similar data points together based on their similarity in terms of features or attributes. \n",
    "This can be used to identify patterns or clusters in data that may not be immediately apparent, such as customer segmentation based on purchasing behavior or fraud detection based on unusual behavior.\n",
    "\n",
    "Dimensionality Reduction: In this application, the algorithm reduces the dimensionality of the input data by identifying the most important features or variables. \n",
    "This can be useful for visualizing high-dimensional data or for speeding up the training of machine learning models.\n",
    "\n",
    "Anomaly detection: In this application, the algorithm identifies data points that are significantly different from the rest of the data, such as fraudulent transactions or manufacturing defects.\n",
    "\n",
    "Association rule mining: In this application, the algorithm identifies patterns and relationships between different variables or features, such as items frequently\n",
    "purchased together in a retail store or words frequently used together in a document.\n",
    "\n",
    "Neural Network Unsupervised Learning: In this application, the algorithm uses neural networks to learn from the unlabeled data by training the network to find patterns in the data. \n",
    "Examples of this include autoencoders, which are neural networks designed to compress data into a lower-dimensional representation and then reconstruct it, and generative adversarial networks (GANs),\n",
    "which are neural networks that learn to generate new data that is similar to the training data."
   ]
  },
  {
   "cell_type": "markdown",
   "id": "b5f6e62e-64f7-4e89-b697-d461a766369f",
   "metadata": {},
   "source": [
    "q4. What is difference between AI , ML, DL and DS?"
   ]
  },
  {
   "cell_type": "code",
   "execution_count": null,
   "id": "1d71ea71-4222-4afb-ba4d-8ef6dda19b9e",
   "metadata": {},
   "outputs": [],
   "source": [
    "Artificial Intelligence:\n",
    "Machines that mimic human intelligence to perform tasks.\n",
    "Robotics, Natural Language Processing, Computer Vision, Expert Systems.\n",
    "Rule-based systems, Symbolic reasoning, Bayesian networks, Fuzzy logic.\n",
    "Explicit programming to perform tasks.\n",
    "Siri, Alexa, Robotics.\n",
    "TensorFlow, Keras, PyTorch, OpenCV.\n",
    "Programming, Statistics, Logic, Mathematics, Knowledge representation.\n",
    "\n",
    "\n",
    "Machine Learning\n",
    "Algorithms that learn from data and improve their performance over time.\n",
    "Image recognition, Speech recognition, Recommender systems, Fraud detection.\n",
    "Supervised, unsupervised, and reinforcement learning.\n",
    "Learning from labeled or unlabeled data to make predictions or decisions.\n",
    "Spam filtering, Image recognition, Predictive analytics.\n",
    "Scikit-learn, TensorFlow, Keras, PyTorch.\n",
    "Programming, Statistics, Mathematics, Data wrangling, Visualization.\n",
    "\n",
    "Deep Learning\n",
    "Subset of machine learning that uses neural networks with multiple hidden layers.\n",
    "Image and speech recognition, Natural Language Processing, Robotics, Game AI.\n",
    "Neural networks with multiple hidden layers.\n",
    "Learning from large amounts of labeled data to recognize patterns.\n",
    "Speech recognition, Computer vision, Natural Language Processing.\n",
    "TensorFlow, Keras, PyTorch.\n",
    "Programming, Mathematics, Neural networks, GPU programming.\n",
    "\n",
    "Data Science\n",
    "Interdisciplinary field that uses various techniques to extract insights from data.\n",
    "Business intelligence, Predictive analytics, Data mining, Machine learning.\n",
    "Exploratory data analysis, Data visualization, Hypothesis testing, Machine learning.\n",
    "Learning from data to understand and communicate insights.\n",
    "Netflix recommendation engine, Facebook Insights, Google Analytics.\n",
    "R, Python, SQL, Tableau, Excel.\n",
    "Programming, Statistics, Machine learning, Data wrangling, Communication.\n"
   ]
  },
  {
   "cell_type": "markdown",
   "id": "dbf3e4bd-2b5c-4d8b-9380-080b1d7a1e40",
   "metadata": {},
   "source": [
    "Question 5 : What are main differences between supervised, unsupervised and semi-supervised learning?"
   ]
  },
  {
   "cell_type": "code",
   "execution_count": null,
   "id": "bed98dd4-fd26-4503-951c-0333a8e3c94b",
   "metadata": {},
   "outputs": [],
   "source": [
    "Supervised, unsupervised, and semi-supervised learning are three main types of machine learning. Here are the key differences between them:\n",
    "    \n",
    "Supervised learning: Supervised learning is a type of machine learning in which an algorithm learns from labeled data.\n",
    "The input data is labeled with the correct output, and the algorithm learns to map the input to the output. The goal of supervised learning is to build a model that can accurately predict the output for new, unseen data.\n",
    "Examples of supervised learning include classification and regression problems.\n",
    "\n",
    "Unsupervised learning: Unsupervised learning is a type of machine learning in which the algorithm learns from unlabeled data. \n",
    "The goal of unsupervised learning is to identify patterns in the data without any prior knowledge of what those patterns might be.\n",
    "The algorithm tries to find the underlying structure or distribution of the data. Examples of unsupervised learning include clustering, dimensionality reduction, and anomaly detection.\n",
    "\n",
    "Semi-supervised learning: Semi-supervised learning is a type of machine learning that combines both labeled and unlabeled data. \n",
    "The algorithm learns from the labeled data and tries to generalize to the unlabeled data. The goal of semi-supervised learning is to improve the accuracy of the model by using the unlabeled data.\n",
    "Semi-supervised learning can be useful when there is a large amount of unlabeled data available, but labeling the data is expensive or time-consuming."
   ]
  },
  {
   "cell_type": "markdown",
   "id": "66541010-8c57-4b1a-b958-88019497e3dc",
   "metadata": {},
   "source": [
    "question 6 : What is train, test and validation split? Explain Importance of each term."
   ]
  },
  {
   "cell_type": "code",
   "execution_count": null,
   "id": "4e9ee53d-2866-473f-b37a-f7b128710dec",
   "metadata": {},
   "outputs": [],
   "source": [
    "Answer :\n",
    "1. Training Set : The training set is the dataset that we employ to train our model. It is this dataset that our model uses to learn any \n",
    "underlying patterns or relationships that will enable making predictions later on.\n",
    "The training set should be as representative as possible of the population that we are trying to model. Additionally, we need \n",
    "to be careful and ensure that it is as unbiased as possible, as any bias at this stage may be propagated downstream during inference.\n",
    "2. Validation Set : it acts as an independent, unbiased dataset for comparing the performance of different algorithms trained on our training set.\n",
    "\n",
    "3.Test Set: Once we have used the validation set to determine the algorithm and parameter choices that we would like to use in production, the test set is \n",
    "used to approximate the models's true performance in the wild. It is the final step in evaluating our model's performance on unseen data."
   ]
  },
  {
   "cell_type": "markdown",
   "id": "7fb67d78-6a79-48cd-b1a7-2fe40dece4aa",
   "metadata": {},
   "source": [
    "Question 7 : How can unsupervised machine learning be used in anomaly detection ?"
   ]
  },
  {
   "cell_type": "code",
   "execution_count": null,
   "id": "b1aa793b-3eb5-46db-aa6e-03b8d79e439c",
   "metadata": {},
   "outputs": [],
   "source": [
    "Unsupervised machine learning can be used in anomaly detection by leveraging the fact that anomalies are rare and unusual events that deviate\n",
    "significantly from the normal behavior of a system. Here are some common techniques used for anomaly detection using unsupervised machine learning:\n",
    "    \n",
    "Clustering: Clustering algorithms such as k-means, DBSCAN, and hierarchical clustering can be used to group similar data points together. \n",
    "Anomalies can then be identified as data points that do not belong to any of the clusters or are in small, isolated clusters.\n",
    "\n",
    "Density-Based Outlier Detection: Density-based techniques such as Local Outlier Factor (LOF) and Isolation Forest can be used to identify outliers that have a low density compared to their neighbors.\n",
    "\n",
    "Dimensionality Reduction: Dimensionality reduction techniques such as Principal Component Analysis (PCA) and t-SNE can be used to reduce the\n",
    "high-dimensional data into a lower-dimensional space. Anomalies can then be identified as data points that are far from the bulk of the data in the reduced space.\n",
    "\n",
    "Autoencoders: Autoencoders are a type of neural network that can be used for unsupervised anomaly detection. The autoencoder learns to reconstruct the input data,\n",
    "and anomalies can be identified as data points that are poorly reconstructed.\n",
    "\n",
    "Overall, unsupervised machine learning is a useful tool for anomaly detection because it can identify anomalies without requiring a labeled dataset. However,\n",
    "it's important to note that the success of the unsupervised approach depends heavily on the quality of the data and the choice of the algorithm."
   ]
  },
  {
   "cell_type": "markdown",
   "id": "11c02840-7f50-486e-a056-cb438a87dd5e",
   "metadata": {},
   "source": [
    "Question 8 : List down some commonly used supervised learning algorithms and unsupervised learning algorithms."
   ]
  },
  {
   "cell_type": "code",
   "execution_count": null,
   "id": "2150181c-affb-419b-867b-8e446d61bc8a",
   "metadata": {},
   "outputs": [],
   "source": [
    "Supervised Learning Algorithms:\n",
    "    \n",
    "Linear Regression\n",
    "Logistic Regression\n",
    "Decision Tree\n",
    "Random Forest\n",
    "Support Vector Machines (SVM)\n",
    "Naive Bayes\n",
    "K-Nearest Neighbors (KNN)\n",
    "Neural Networks\n",
    "\n",
    "\n",
    "Unsupervised Learning Algorithms:\n",
    "    \n",
    "K-Means Clustering\n",
    "Hierarchical Clustering\n",
    "DBSCAN Clustering\n",
    "Principal Component Analysis (PCA)\n",
    "Independent Component Analysis (ICA)\n",
    "t-SNE (t-Distributed Stochastic Neighbor Embedding)\n",
    "Isolation Forest\n",
    "Autoencoders\n"
   ]
  }
 ],
 "metadata": {
  "kernelspec": {
   "display_name": "Python 3 (ipykernel)",
   "language": "python",
   "name": "python3"
  },
  "language_info": {
   "codemirror_mode": {
    "name": "ipython",
    "version": 3
   },
   "file_extension": ".py",
   "mimetype": "text/x-python",
   "name": "python",
   "nbconvert_exporter": "python",
   "pygments_lexer": "ipython3",
   "version": "3.10.8"
  }
 },
 "nbformat": 4,
 "nbformat_minor": 5
}
