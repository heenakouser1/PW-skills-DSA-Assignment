{
 "cells": [
  {
   "cell_type": "markdown",
   "id": "d66ef3be-4d22-4254-81f9-77e58c2aa208",
   "metadata": {},
   "source": [
    "### Q1. Create a function which will take a list as an argument and return the product of all the numbers\n",
    "### after creating a flat list.\n",
    "### Use the below-given list as an argument for your function.\n",
    "### list1 = [1,2,3,4, [44,55,66, True], False, (34,56,78,89,34), {1,2,3,3,2,1}, {1:34, \"key2\": [55, 67, 78, 89], 4: (45,\n",
    "### 22, 61, 34)}, [56, 'data science'], 'Machine Learning']\n",
    "### Note: you must extract numeric keys and values of the dictionary also.\n"
   ]
  },
  {
   "cell_type": "code",
   "execution_count": 3,
   "id": "177ecaf0-b27a-44ba-a19a-5a3a804c538b",
   "metadata": {},
   "outputs": [],
   "source": [
    "from functools import reduce"
   ]
  },
  {
   "cell_type": "code",
   "execution_count": 7,
   "id": "182edd65-7b78-4ab8-a39d-584bc8607ce4",
   "metadata": {},
   "outputs": [
    {
     "name": "stdout",
     "output_type": "stream",
     "text": [
      "The flattened data is [1, 2, 3, 4, 44, 55, 66, True, False, 34, 56, 78, 89, 34, 1, 2, 3, 1, 34, 'key2', 55, 67, 78, 89, 4, 45, 22, 61, 34, 56, 'data science', 'Machine Learning'] \n",
      "\n",
      "the flattened numeric data is [1, 2, 3, 4, 44, 55, 66, 34, 56, 78, 89, 34, 1, 2, 3, 1, 34, 55, 67, 78, 89, 4, 45, 22, 61, 34, 56] \n",
      "\n"
     ]
    },
    {
     "data": {
      "text/plain": [
       "4134711838987085478833841242112000"
      ]
     },
     "execution_count": 7,
     "metadata": {},
     "output_type": "execute_result"
    }
   ],
   "source": [
    "list1 = [1,2,3,4, [44,55,66, True], False, (34,56,78,89,34), {1,2,3,3,2,1}, {1:34, \"key2\": [55, 67, 78, 89], 4: (45,\n",
    "22, 61, 34)}, [56, 'data science'], 'Machine Learning']\n",
    "\n",
    "\n",
    "def flat(x):\n",
    "    flat=[]\n",
    "    for i in x:\n",
    "        if type(i)==int or type(i)==str or type(i)==float or type(i)==bool:\n",
    "            flat.append(i)  \n",
    "        elif type(i)==list or type(i)==tuple or type(i)==set:\n",
    "            for j in i:\n",
    "                flat.append(j)\n",
    "        elif type(i)==dict:\n",
    "            for key,value in i.items():\n",
    "                flat.append(key)\n",
    "                if type(value)==int or type(value)==float:\n",
    "                    flat.append(value)\n",
    "                elif type(value)==list or type(value)==tuple or type(value)==set:\n",
    "                    for k in value:\n",
    "                        flat.append(k)\n",
    "    print(f'The flattened data is {flat} \\n')\n",
    "    get=list(filter(lambda x: type(x)==int or type(x)==float,flat))\n",
    "    print(f'the flattened numeric data is {get} \\n')\n",
    "    product1=reduce(lambda y,z:y*z,get)\n",
    "    return product1\n",
    "flat(list1)                     \n",
    "            "
   ]
  },
  {
   "cell_type": "markdown",
   "id": "3a1b5862-0099-45a7-847a-25dc27058fe2",
   "metadata": {},
   "source": [
    "### Q2. Write a python program for encrypting a message sent to you by your friend. The logic of encryption\n",
    "### should be such that, for a the output should be z. For b, the output should be y. For c, the output should\n",
    "### be x respectively. Also, the whitespace should be replaced with a dollar sign. Keep the punctuation\n",
    "### marks unchanged.\n",
    "### Input Sentence: I want to become a Data Scientist.\n",
    "### Encrypt the above input sentence using the program you just created.\n",
    "### Note: Convert the given input sentence into lowercase before encrypting. The final output should be\n",
    "### lowercase.\n"
   ]
  },
  {
   "cell_type": "code",
   "execution_count": 18,
   "id": "9528cda2-aea4-4d20-9d1f-e2438b48a2d2",
   "metadata": {},
   "outputs": [
    {
     "name": "stdout",
     "output_type": "stream",
     "text": [
      " the input message in lower case as below: \n",
      "     i want to become a data scientist \n",
      "\n",
      " encrypted message is as below: \n",
      "     tsitneixs$ztzd$z$emoxey$ot$tnzw$i\n"
     ]
    }
   ],
   "source": [
    "encrypt = \"I want to become a Data Scientist\"\n",
    "\n",
    "e=encrypt.lower()\n",
    "print(f' the input message in lower case as below: \\n     {e} \\n')\n",
    "# Create a dictionary to store keys\n",
    "# and values\n",
    "dict = {\"a\": \"z\", \"b\": \"y\",\n",
    "        \"c\": \"x\", \" \": \"$\"}\n",
    " \n",
    "# Reverse the string\n",
    "num = e[::-1]\n",
    " \n",
    "# Replace vowels using loops\n",
    "for i in dict:\n",
    "    num = num.replace(i, dict[i])\n",
    " \n",
    "# f- strings which improves readability\n",
    "print(f\" encrypted message is as below: \\n     {num}\")"
   ]
  },
  {
   "cell_type": "code",
   "execution_count": null,
   "id": "f42f4e1f-d1d4-4d13-98ff-0e1bce1bda12",
   "metadata": {},
   "outputs": [],
   "source": []
  }
 ],
 "metadata": {
  "kernelspec": {
   "display_name": "Python 3 (ipykernel)",
   "language": "python",
   "name": "python3"
  },
  "language_info": {
   "codemirror_mode": {
    "name": "ipython",
    "version": 3
   },
   "file_extension": ".py",
   "mimetype": "text/x-python",
   "name": "python",
   "nbconvert_exporter": "python",
   "pygments_lexer": "ipython3",
   "version": "3.10.8"
  }
 },
 "nbformat": 4,
 "nbformat_minor": 5
}
