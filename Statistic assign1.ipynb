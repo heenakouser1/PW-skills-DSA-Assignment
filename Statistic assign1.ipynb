{
 "cells": [
  {
   "cell_type": "markdown",
   "id": "c9110d13-3a29-40bc-b9f5-ffcf921009ae",
   "metadata": {},
   "source": [
    "Q1. What is Statistics?"
   ]
  },
  {
   "cell_type": "code",
   "execution_count": null,
   "id": "e98db98d-9109-4ec2-8c76-ef4d11b3074f",
   "metadata": {},
   "outputs": [],
   "source": [
    "Statistics is process of collecting, analysing and organizing of data"
   ]
  },
  {
   "cell_type": "markdown",
   "id": "37ea53ef-d4fb-4774-84ed-ded3612c5422",
   "metadata": {},
   "source": [
    "Q2. Define the different types of statistics and give an example of when each type might be used."
   ]
  },
  {
   "cell_type": "code",
   "execution_count": null,
   "id": "97c8eb2f-dbfe-4b11-a3e3-5033c519930c",
   "metadata": {},
   "outputs": [],
   "source": [
    "1. Descriptive statistics : Summing and organzing of data\n",
    "    eg: watch movie in theater\n",
    "2. Inferential statistics : Making conclusion about data\n",
    "    eg: concluding whether sales is increasing or decreasing "
   ]
  },
  {
   "cell_type": "markdown",
   "id": "56522c4e-34a8-4c79-83d4-d6f28b0b907a",
   "metadata": {},
   "source": [
    "Q3. What are the different types of data and how do they differ from each other? Provide an example of\n",
    "each type of data."
   ]
  },
  {
   "cell_type": "code",
   "execution_count": null,
   "id": "627ccd7b-4a57-4476-9bec-6f8abbc22fc7",
   "metadata": {},
   "outputs": [],
   "source": [
    "Data is piece of information\n",
    "\n",
    "1. Quantative data - Numerical data which might be continuous and discrete\n",
    "    Continuous data - numerica value with defined class interval \n",
    "                      eg: weight of people, height of people\n",
    "    Discrete data   - Numerical data without defined class interval\n",
    "                      eg: no of family members\n",
    "\n",
    "2. Qualitative data - Categorical data \n",
    "    Ordinal data  - Categorical data with fixed category\n",
    "                    eg: Married / unmarried\n",
    "    Nomial data   - Categorical data with range of values\n",
    "                    eg: Good, better, satisfactory"
   ]
  },
  {
   "cell_type": "markdown",
   "id": "9f337fa6-930a-44b0-95c9-47ff44d1ca72",
   "metadata": {},
   "source": [
    "Q4. Categorise the following datasets with respect to quantitative and qualitative data types:\n",
    "(i) Grading in exam: A+, A, B+, B, C+, C, D, E\n",
    "(ii) Colour of mangoes: yellow, green, orange, red\n",
    "(iii) Height data of a class: [178.9, 179, 179.5, 176, 177.2, 178.3, 175.8,...]\n",
    "(iv) Number of mangoes exported by a farm: [500, 600, 478, 672, ...]"
   ]
  },
  {
   "cell_type": "code",
   "execution_count": null,
   "id": "a67310e4-ae14-4e14-82f8-0a4d15958d40",
   "metadata": {},
   "outputs": [],
   "source": [
    "(i) Grading in exam: A+, A, B+, B, C+, C, D, E                                             ----------  Nominal categorical data\n",
    "(ii) Colour of mangoes: yellow, green, orange, red                                         ----------  ordinal Categorical data\n",
    "(iii) Height data of a class: [178.9, 179, 179.5, 176, 177.2, 178.3, 175.8,...]            ----------  Continuous quantitive data\n",
    "(iv) Number of mangoes exported by a farm: [500, 600, 478, 672, ...]                       ----------  discrete Quantitive data"
   ]
  },
  {
   "cell_type": "markdown",
   "id": "117b9676-a869-4266-bc41-778456582f8c",
   "metadata": {},
   "source": [
    "Q5. Explain the concept of levels of measurement and give an example of a variable for each level."
   ]
  },
  {
   "cell_type": "code",
   "execution_count": null,
   "id": "330e7e74-82e2-45e5-ab38-dea0449c77a0",
   "metadata": {},
   "outputs": [],
   "source": [
    "1. Nominal level : Categorical data measured without range of values, qualitative /categprical data, order does not matter\n",
    "                    eg- gender, colors\n",
    "2. Ordinal level : Categorical data measured with range of values, qualitative/ categorical , rank matter, order matter, dfifference cannot be measured\n",
    "                     eg- ph--> masters---> be---->bsc-----> bcom       (cannpt be maesured between phd to masters to be...) but can be ranked as ph--1, masters as 2,.....\n",
    "3. Interval level : rank and order matters, differnece can be measured ( exculding ratio), does not have zero starting value)\n",
    "                     eg- temperature  (30, 40, 50 ,60 )   heres 40/30 is 4/3 ratio does not mean temp hot or cold of 30 is 4/3 of hot / cold of 40 temp\n",
    "                     eg- we can have any temp amy be 0 or start with -ve (so it mean zero is only not starting point ------does not have starting value)\n",
    "4. Ratio level :   order and rank matters, does have 0 startong point \n",
    "                     eg- grdes of students (grades can start with zero but not -ve)"
   ]
  },
  {
   "cell_type": "markdown",
   "id": "8a9df7d0-9806-4e2a-aa5d-d64b9b3acf7e",
   "metadata": {},
   "source": [
    "Q6. Why is it important to understand the level of measurement when analyzing data? Provide an\n",
    "example to illustrate your answer."
   ]
  },
  {
   "cell_type": "code",
   "execution_count": null,
   "id": "5f3192fb-905d-4eae-a7f2-7be2ba73073c",
   "metadata": {},
   "outputs": [],
   "source": [
    "Understanding the level of measurement of a variable is important because it determines the types of statistical analyses that can be performed and the appropriate interpretation of the results.\n",
    "In other words, the level of measurement helps researchers to identify the appropriate \n",
    "statistical procedures and tests to use when analyzing data. Using the wrong statistical procedure for a given level of measurement can result in misleading or inaccurate conclusions.\n",
    "\n",
    "eg: When we go for shopping, we see different range of products categorized based on oridanl category (cotton, jhute,.....), \n",
    "    prices of dress is arranged (interval level), customer satisfaction of shopping (ratio level), category of dress between male/female (nominal level)"
   ]
  },
  {
   "cell_type": "markdown",
   "id": "8af4a32e-43da-4cbb-ad2a-e8d788e642b3",
   "metadata": {},
   "source": [
    "Q7. How nominal data type is different from ordinal data type."
   ]
  },
  {
   "cell_type": "code",
   "execution_count": null,
   "id": "3d4d8c53-49f2-4d95-83a1-c6f1f8a06e36",
   "metadata": {},
   "outputs": [],
   "source": [
    "1. Nominal level : Categorical data measured without range of values, qualitative /categprical data, order does not matter\n",
    "                    eg- gender, colors\n",
    "2. Ordinal level : Categorical data measured with range of values, qualitative/ categorical , rank matter, order matter, dfifference cannot be measured\n",
    "                     eg- ph--> masters---> be---->bsc-----> bcom       (cannpt be maesured between phd to masters to be...) but can be ranked as ph--1, masters as 2,....."
   ]
  },
  {
   "cell_type": "markdown",
   "id": "1eff1e2b-dac5-44da-a19d-815fa994d18f",
   "metadata": {},
   "source": [
    "Q8. Which type of plot can be used to display data in terms of range?"
   ]
  },
  {
   "cell_type": "code",
   "execution_count": null,
   "id": "662c5ecd-ceec-42d5-ac36-65003dccf292",
   "metadata": {},
   "outputs": [],
   "source": [
    "QQ PLOT -Quantile Quantile plot"
   ]
  },
  {
   "cell_type": "markdown",
   "id": "f50ee008-214c-4c47-84c3-0b0fdfb2c3fe",
   "metadata": {},
   "source": [
    "Q9. Describe the difference between descriptive and inferential statistics. Give an example of each\n",
    "type of statistics and explain how they are used."
   ]
  },
  {
   "cell_type": "code",
   "execution_count": null,
   "id": "b9eb7e01-5862-4702-bfaa-2e12599a9d42",
   "metadata": {},
   "outputs": [],
   "source": [
    "1. Descriptive statistics : Summing and organzing of data\n",
    "    eg: watch movie in theater \n",
    "2. Inferential statistics : Making conclusion about data\n",
    "    eg: concluding whether sales is increasing or decreasing "
   ]
  },
  {
   "cell_type": "markdown",
   "id": "e4405736-af26-4dfb-8a4a-ce5dae308283",
   "metadata": {},
   "source": [
    "Q10. What are some common measures of central tendency and variability used in statistics? Explain\n",
    "how each measure can be used to describe a dataset."
   ]
  },
  {
   "cell_type": "code",
   "execution_count": null,
   "id": "41d395c8-6cb0-4784-9424-1dfb7229de5f",
   "metadata": {},
   "outputs": [],
   "source": [
    "# Measure of central tendency---------------------used in EDA and feature enginering\n",
    "\n",
    "# mean\n",
    "---------------------------------------------------------------------\n",
    "x={1,1,2,2,3,3,4,5,5,6}                      no of elemnets =  10\n",
    "\n",
    "population (mu)=summation of x /N  = 32/10 = 3.2\n",
    "\n",
    "sample mean (s) = summation of sample x / n  \n",
    "\n",
    "#median\n",
    "----------------------------------------------------------------------\n",
    "x1 = {1,2,3,4,4,5,6}\n",
    "x2 = {1,2,3,4,4,5}\n",
    "\n",
    "#  median is middle value \n",
    "# sort the elements value\n",
    "#  no of elements are even  ==== 3+4 /2  = 3.5\n",
    "# no of elements are odd   ====  4\n",
    "\n",
    "--------------------------------------------\n",
    "When we add outlier to \n",
    "x = {1,2,3,4,5}\n",
    "\n",
    "mean = 15/5 = 5\n",
    "median = 3\n",
    "\n",
    "\n",
    "but when we add outlier to x ={1,2,3,4,5,100}\n",
    "mean = 115/6 = 18.2\n",
    "median = 3+4/2 = 3.5\n",
    "\n",
    "Hence median is needed even if we calcualte the mean for a dataset, as when outlier is added the mean largly effects, median does not\n",
    "-------------------------------------------\n",
    "\n",
    "# mode ---- frequency maximum\n",
    "x = [1,2,2,2,2,3,4,5]\n",
    "mode is 2"
   ]
  },
  {
   "cell_type": "code",
   "execution_count": null,
   "id": "f37543e9-7a7f-4010-80fd-78ff09c0f2ad",
   "metadata": {},
   "outputs": [],
   "source": [
    "# variance ---- spread of data \n",
    "\n",
    "# population                                           # sample \n",
    "\n",
    "σ2 = ∑ (xi- u)2 / N                                s2 = ∑ (xi− x̄)2 / n - 1\n",
    "                                                  # n - 1 is used because sample will be unbiased estimator of population  variance = bessels correction \n",
    "    \n",
    "                                                   x = {1,2,3,4,5}\n",
    "                                                    x̄ = 1+2+3+4+5 / 5 = 3\n",
    "                                                    xi = 1 , 2 ,3 , 4, 5\n",
    "                                                    (xi-x̄)2 = 4,1,0,1,4\n",
    "                                                    s2 =  4+1+0+1+4 / 5-1 =  2.5\n",
    "                        \n",
    "# standard deviation\n",
    "\n",
    "#population                                                # sample\n",
    "σ2 = sqrt(variance)                                  σ2 = sqrt(sample variance) \n",
    "                                                        = sqrt (2.5)\n",
    "                                                        = 1.58"
   ]
  }
 ],
 "metadata": {
  "kernelspec": {
   "display_name": "Python 3 (ipykernel)",
   "language": "python",
   "name": "python3"
  },
  "language_info": {
   "codemirror_mode": {
    "name": "ipython",
    "version": 3
   },
   "file_extension": ".py",
   "mimetype": "text/x-python",
   "name": "python",
   "nbconvert_exporter": "python",
   "pygments_lexer": "ipython3",
   "version": "3.10.8"
  }
 },
 "nbformat": 4,
 "nbformat_minor": 5
}
