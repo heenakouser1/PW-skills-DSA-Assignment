{
 "cells": [
  {
   "cell_type": "markdown",
   "id": "2702ac0c-fcd6-4e84-a313-bf3aedc06ed9",
   "metadata": {},
   "source": [
    "### Q1. What are the characteristics of the tuples? Is tuple immutable?"
   ]
  },
  {
   "cell_type": "code",
   "execution_count": null,
   "id": "44ddda50-104e-4fde-8fe1-03fb401c5110",
   "metadata": {},
   "outputs": [],
   "source": [
    "#The values stored in a tuple can be any type, and they are indexed by integers.\n",
    "#They are enclosed within parenthesis and not within square braces.\n",
    "#The important difference is that tuples are immutable. \n",
    "#Tuples are also comparable and hashable so we can sort lists of them and \n",
    "#use tuples as key values in Python dictionaries"
   ]
  },
  {
   "cell_type": "markdown",
   "id": "7a519b67-b580-43b2-80f5-f17f697b0cc6",
   "metadata": {},
   "source": [
    "### Q2. What are the two tuple methods in python? Give an example of each method. Give a reason why\n",
    "### tuples have only two in-built methods as compared to Lists.\n"
   ]
  },
  {
   "cell_type": "code",
   "execution_count": 7,
   "id": "59a5c8af-8dae-40ac-be97-0d2466025c28",
   "metadata": {},
   "outputs": [
    {
     "name": "stdout",
     "output_type": "stream",
     "text": [
      "1\n",
      "0\n"
     ]
    }
   ],
   "source": [
    "# Tuples have count and index methods. Reason is that tuples cannot be modified once decalred, unlike lists can be mutated.\n",
    "# count()  returns the number of times a specified value occurs in a tuple. \n",
    "# index () Searches the tuple for a specified value and returns the position of where it was found\n",
    "# index method and count method\n",
    "t=(1,2,3,4)\n",
    "print(t.count(1))\n",
    "print(t.index(1))"
   ]
  },
  {
   "cell_type": "markdown",
   "id": "9ff84620-b7d8-4311-8bf0-0354b60271e6",
   "metadata": {},
   "source": [
    "### Q3. Which collection datatypes in python do not allow duplicate items? Write a code using a set to remove\n",
    "### duplicates from the given list.\n",
    "### List = [1, 1, 1, 2, 1, 3, 1, 4, 2, 1, 2, 2, 2, 3, 2, 4, 3, 1, 3, 2, 3, 3, 3, 4, 4, 1, 4, 2, 4, 3, 4, 4]\n"
   ]
  },
  {
   "cell_type": "code",
   "execution_count": 6,
   "id": "785ede46-8e42-4537-b3f9-914756db9300",
   "metadata": {},
   "outputs": [
    {
     "data": {
      "text/plain": [
       "{1, 2, 3, 4}"
      ]
     },
     "execution_count": 6,
     "metadata": {},
     "output_type": "execute_result"
    }
   ],
   "source": [
    "# Set does not allow the duplicate items. \n",
    "# Below is code to remove duplicate fromgiven list\n",
    "\n",
    "List = [1, 1, 1, 2, 1, 3, 1, 4, 2, 1, 2, 2, 2, 3, 2, 4, 3, 1, 3, 2, 3, 3, 3, 4, 4, 1, 4, 2, 4, 3, 4, 4]\n",
    "s=set(List)\n",
    "s"
   ]
  },
  {
   "cell_type": "markdown",
   "id": "f5b8f71d-657f-4601-9e62-5aac5ccd260d",
   "metadata": {},
   "source": [
    "### Q4. Explain the difference between the union() and update() methods for a set. Give an example of\n",
    "### each method.\n"
   ]
  },
  {
   "cell_type": "code",
   "execution_count": 9,
   "id": "ad325e74-b8e7-4b2f-927e-10b2a9afeb8a",
   "metadata": {},
   "outputs": [
    {
     "name": "stdout",
     "output_type": "stream",
     "text": [
      "{1, 2, 3, 4, 5}\n"
     ]
    }
   ],
   "source": [
    "# Union() is used to join to sets to form set with unique elements\n",
    "#Union example\n",
    "s1={1,2,3,4}\n",
    "s2={1,2,3,5}\n",
    "print(s1.union(s2))"
   ]
  },
  {
   "cell_type": "code",
   "execution_count": 13,
   "id": "03a4c167-cdfe-4e82-b953-8ff85a327003",
   "metadata": {},
   "outputs": [
    {
     "name": "stdout",
     "output_type": "stream",
     "text": [
      "{1, 2, 3, 4, 'a', 'b'}\n"
     ]
    }
   ],
   "source": [
    "# update() is used update a one set with unique values of others set\n",
    "\n",
    "#Update example\n",
    "s1={1,2,3,4}\n",
    "s2={1,2,'a','b'}\n",
    "s1.update(s2)\n",
    "print(s1)"
   ]
  },
  {
   "cell_type": "markdown",
   "id": "b794bcf2-3c5f-4599-9072-86871ec891b8",
   "metadata": {},
   "source": [
    "### Q5. What is a dictionary? Give an example. Also, state whether a dictionary is ordered or unordered."
   ]
  },
  {
   "cell_type": "code",
   "execution_count": 17,
   "id": "1998f942-1a1b-4d33-9298-5f5eea553f47",
   "metadata": {},
   "outputs": [
    {
     "name": "stdout",
     "output_type": "stream",
     "text": [
      "{'name': 'Pwskills', 'Course': 'Data science'}\n",
      "dict_keys(['name', 'Course'])\n",
      "dict_values(['Pwskills', 'Data science'])\n"
     ]
    }
   ],
   "source": [
    "# Dictionary is collection of data values in key, value pairs. It does not support if key is special \n",
    "# character,list, set, dict. \n",
    "# Dictionary in python is unordered\n",
    "\n",
    "# Below is example of dict\n",
    "d={\"name\":\"Pwskills\",\n",
    "   \"Course\" :\"Data science\"}\n",
    "print(d)\n",
    "\n",
    "print(d.keys())\n",
    "\n",
    "print(d.values())\n"
   ]
  },
  {
   "cell_type": "markdown",
   "id": "8fdbddc1-ac1d-4c12-a561-c69d2e915852",
   "metadata": {},
   "source": [
    "### Q6. Can we create a nested dictionary? If so, please give an example by creating a simple one-level"
   ]
  },
  {
   "cell_type": "code",
   "execution_count": 20,
   "id": "60b4e342-9f42-4a6e-824c-9b5e768e646f",
   "metadata": {},
   "outputs": [
    {
     "data": {
      "text/plain": [
       "{'name': {'first name': 'Heena', 'Second name': 'Kouser'}, 'id': 12345}"
      ]
     },
     "execution_count": 20,
     "metadata": {},
     "output_type": "execute_result"
    }
   ],
   "source": [
    "# Yes we can create a nested dictionary\n",
    "\n",
    "d={\"name\":{\"first name\":\"Heena\", \"Second name\":\"Kouser\"},\n",
    "   \"id\":12345}\n",
    "d"
   ]
  },
  {
   "cell_type": "markdown",
   "id": "ce69f14b-484d-4295-98ff-77a1d4da2754",
   "metadata": {},
   "source": [
    "### Q7. Using setdefault() method, create key named topics in the given dictionary and also add the value of\n",
    "### the key as this list ['Python', 'Machine Learning’, 'Deep Learning']\n",
    "### dict1 = {'language' : 'Python', 'course': 'Data Science Masters'}\n"
   ]
  },
  {
   "cell_type": "code",
   "execution_count": 24,
   "id": "19fb431d-1be1-4e95-8b5d-2326640d0ca0",
   "metadata": {},
   "outputs": [
    {
     "name": "stdout",
     "output_type": "stream",
     "text": [
      "{'language': 'Python', 'course': 'Data Science Masters', 'topics': ['Python', 'Machine Learning', 'Deep Learning']}\n"
     ]
    }
   ],
   "source": [
    "dict1 = {'language' : 'Python', 'course': 'Data Science Masters'}\n",
    "dict1.setdefault('topics' , ['Python', 'Machine Learning', 'Deep Learning'])\n",
    "print(dict1)\n"
   ]
  },
  {
   "cell_type": "markdown",
   "id": "360bf4e4-e0e6-4702-bd8b-07e63b2ab1f4",
   "metadata": {},
   "source": [
    "### Q8. What are the three view objects in dictionaries? Use the three in-built methods in python to display\n",
    "### these three view objects for the given dictionary.\n",
    "### dict1 = {'Sport': 'Cricket' , 'Teams': ['India', 'Australia', 'England', 'South Africa', 'Sri Lanka', 'New Zealand']}\n"
   ]
  },
  {
   "cell_type": "code",
   "execution_count": 25,
   "id": "8ec2dd6d-81de-4dbc-9814-2c4ef072f786",
   "metadata": {},
   "outputs": [
    {
     "name": "stdout",
     "output_type": "stream",
     "text": [
      "dict_keys(['Sport', 'Teams'])\n",
      "dict_values(['Cricket', ['India', 'Australia', 'England', 'South Africa', 'Sri Lanka', 'New Zealand']])\n",
      "dict_items([('Sport', 'Cricket'), ('Teams', ['India', 'Australia', 'England', 'South Africa', 'Sri Lanka', 'New Zealand'])])\n"
     ]
    }
   ],
   "source": [
    "# The three viewed objectsin dictionaries are keys, values, items\n",
    "\n",
    "# Below are three built in methods in python to display these three view objects for given dicitonary\n",
    "\n",
    "dict1 = {'Sport': 'Cricket' , 'Teams': ['India', 'Australia', 'England', 'South Africa', 'Sri Lanka', 'New Zealand']}\n",
    "\n",
    "# .keys()\n",
    "print(dict1.keys())\n",
    "\n",
    "#.values()\n",
    "print(dict1.values())\n",
    "\n",
    "#.items()\n",
    "print(dict1.items())\n"
   ]
  },
  {
   "cell_type": "code",
   "execution_count": null,
   "id": "215ce564-d75e-4615-b0ba-55a2e9f6d7df",
   "metadata": {},
   "outputs": [],
   "source": []
  }
 ],
 "metadata": {
  "kernelspec": {
   "display_name": "Python 3 (ipykernel)",
   "language": "python",
   "name": "python3"
  },
  "language_info": {
   "codemirror_mode": {
    "name": "ipython",
    "version": 3
   },
   "file_extension": ".py",
   "mimetype": "text/x-python",
   "name": "python",
   "nbconvert_exporter": "python",
   "pygments_lexer": "ipython3",
   "version": "3.10.8"
  }
 },
 "nbformat": 4,
 "nbformat_minor": 5
}
