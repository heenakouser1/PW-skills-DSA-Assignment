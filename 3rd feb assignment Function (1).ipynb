{
 "cells": [
  {
   "cell_type": "markdown",
   "id": "f822d19d-65bb-4c2a-95af-8efd86bb4ac5",
   "metadata": {},
   "source": [
    "### Q1. Which keyword is used to create a function? Create a function to return a list of odd numbers in the\n",
    "### range of 1 to 25.\n"
   ]
  },
  {
   "cell_type": "code",
   "execution_count": 2,
   "id": "431fb4a0-53b7-46df-a704-d419dc86b577",
   "metadata": {},
   "outputs": [
    {
     "data": {
      "text/plain": [
       "[1, 3, 5, 7, 9, 11, 13, 15, 17, 19, 21, 23]"
      ]
     },
     "execution_count": 2,
     "metadata": {},
     "output_type": "execute_result"
    }
   ],
   "source": [
    "# def is a keyword used to craete a function\n",
    "# below is code to create a function to return list of odd numbers in range 1 to 25\n",
    "\n",
    "def odd(l):\n",
    "    n=[]\n",
    "    for i in l:\n",
    "        if i%2!=0:\n",
    "            n.append(i)\n",
    "    return n\n",
    "\n",
    "odd(range(1,25))"
   ]
  },
  {
   "cell_type": "markdown",
   "id": "55c89c0c-cd75-40e8-a09a-bfde356db960",
   "metadata": {},
   "source": [
    "### Q2. Why *args and **kwargs is used in some functions? Create a function each for *args and **kwargs to\n",
    "### demonstrate their use.\n"
   ]
  },
  {
   "cell_type": "code",
   "execution_count": 3,
   "id": "3856cd73-9162-4120-8ada-2413ef071da6",
   "metadata": {},
   "outputs": [],
   "source": [
    "# *args and **kwargs are used to accept the any number of arguments. *args is used accept any data values like int, float, list etc\n",
    "# **kwargs accept data values in key, values pair"
   ]
  },
  {
   "cell_type": "code",
   "execution_count": 4,
   "id": "5d90dbb7-146e-4e21-814c-add8b69c60d1",
   "metadata": {},
   "outputs": [
    {
     "data": {
      "text/plain": [
       "(1, 2, 'pw', [1, 2], (1, 3), True, {1, 2})"
      ]
     },
     "execution_count": 4,
     "metadata": {},
     "output_type": "execute_result"
    }
   ],
   "source": [
    "# *args\n",
    "\n",
    "def a(*args):\n",
    "    return args\n",
    "\n",
    "a(1,2,\"pw\",[1,2],(1,3),True,{1,2})"
   ]
  },
  {
   "cell_type": "code",
   "execution_count": 9,
   "id": "7715d7c7-712b-4770-b92d-4185022382d1",
   "metadata": {},
   "outputs": [
    {
     "data": {
      "text/plain": [
       "{'n': 1, 'name': 'pw'}"
      ]
     },
     "execution_count": 9,
     "metadata": {},
     "output_type": "execute_result"
    }
   ],
   "source": [
    "# **kwargs\n",
    "def k(**kwargs):\n",
    "    return kwargs\n",
    "\n",
    "k(n=1,name='pw')"
   ]
  },
  {
   "cell_type": "markdown",
   "id": "37d32b8b-4867-49bc-88d5-2b89f6030667",
   "metadata": {},
   "source": [
    "### Q3. What is an iterator in python? Name the method used to initialise the iterator object and the method\n",
    "### used for iteration. Use these methods to print the first five elements of the given list [2, 4, 6, 8, 10, 12, 14, 16,\n",
    "### 18, 20].\n"
   ]
  },
  {
   "cell_type": "code",
   "execution_count": 21,
   "id": "33b9bc40-977e-44a1-9dc7-00e25cfff9e7",
   "metadata": {},
   "outputs": [
    {
     "name": "stdout",
     "output_type": "stream",
     "text": [
      "2\n",
      "4\n",
      "6\n",
      "8\n",
      "10\n"
     ]
    }
   ],
   "source": [
    "# Iterators are methods that iterate collections like lists, tuples, etc.\n",
    "# Using an iterator method, we can loop through an object and return its elements.\n",
    "# Initialise method is  __iter__() and method used for iteration is __next__()\n",
    "\n",
    "\n",
    "l=[2, 4, 6, 8, 10, 12, 14, 16, 18, 20]\n",
    "\n",
    "i=iter(l)\n",
    "\n",
    "j=0\n",
    "while j<5:\n",
    "    print(next(i))\n",
    "    j=j+1\n"
   ]
  },
  {
   "cell_type": "markdown",
   "id": "05ae8d8b-3b8a-4790-a06c-179be7367809",
   "metadata": {},
   "source": [
    "### Q4. What is a generator function in python? Why yield keyword is used? Give an example of a generator\n",
    "### function.\n"
   ]
  },
  {
   "cell_type": "code",
   "execution_count": 2,
   "id": "5b03ec9e-024b-4293-a74e-566ade590bc8",
   "metadata": {},
   "outputs": [
    {
     "name": "stdout",
     "output_type": "stream",
     "text": [
      "0\n",
      "1\n",
      "1\n",
      "2\n",
      "3\n",
      "5\n",
      "8\n",
      "13\n",
      "21\n",
      "34\n"
     ]
    }
   ],
   "source": [
    "# A generator is a special type of function which does not return a single value, instead, \n",
    "# it returns an iterator object with a sequence of values. \n",
    "# In a generator function, a yield statement is used rather than a return statement. \n",
    "# Return function terminates once function once it return a value, whereas yield will return value and passes execution to ge another value\n",
    "\n",
    "#The following is a simple generator function\n",
    "\n",
    "def fib(n):\n",
    "    a,b=0,1\n",
    "    for i in range(n):\n",
    "        yield a\n",
    "        a,b=b,a+b\n",
    "        \n",
    "f=fib(10)\n",
    "for i in f:\n",
    "    print(i)"
   ]
  },
  {
   "cell_type": "markdown",
   "id": "df40489e-8c59-470d-a88a-7603ca7abf4f",
   "metadata": {},
   "source": [
    "### Q5. Create a generator function for prime numbers less than 1000. Use the next() method to print the\n",
    "### first 20 prime numbers.\n"
   ]
  },
  {
   "cell_type": "code",
   "execution_count": 17,
   "id": "4e0f3c2e-486c-409a-ad3b-9d4138fc4bda",
   "metadata": {},
   "outputs": [],
   "source": [
    "#generator function to yeild prime numbers less than 1000\n",
    "def gen(n):\n",
    "    for i in range(n):\n",
    "        if i>1:\n",
    "            for j in range(2,i):\n",
    "                if i%j==0:\n",
    "                    break\n",
    "            else:\n",
    "                yield i"
   ]
  },
  {
   "cell_type": "code",
   "execution_count": 18,
   "id": "c7d8e430-fca0-4f35-b605-83e762cc7c8c",
   "metadata": {},
   "outputs": [
    {
     "data": {
      "text/plain": [
       "<generator object gen at 0x7f1d94362960>"
      ]
     },
     "execution_count": 18,
     "metadata": {},
     "output_type": "execute_result"
    }
   ],
   "source": [
    "gen(1000)"
   ]
  },
  {
   "cell_type": "code",
   "execution_count": 19,
   "id": "e55aaf4f-bf20-46f6-b0d3-4b689485d310",
   "metadata": {},
   "outputs": [
    {
     "name": "stdout",
     "output_type": "stream",
     "text": [
      "2\n",
      "3\n",
      "5\n",
      "7\n",
      "11\n",
      "13\n",
      "17\n",
      "19\n",
      "23\n",
      "29\n",
      "31\n",
      "37\n",
      "41\n",
      "43\n",
      "47\n",
      "53\n",
      "59\n",
      "61\n",
      "67\n",
      "71\n",
      "73\n",
      "79\n",
      "83\n",
      "89\n",
      "97\n",
      "101\n",
      "103\n",
      "107\n",
      "109\n",
      "113\n",
      "127\n",
      "131\n",
      "137\n",
      "139\n",
      "149\n",
      "151\n",
      "157\n",
      "163\n",
      "167\n",
      "173\n",
      "179\n",
      "181\n",
      "191\n",
      "193\n",
      "197\n",
      "199\n",
      "211\n",
      "223\n",
      "227\n",
      "229\n",
      "233\n",
      "239\n",
      "241\n",
      "251\n",
      "257\n",
      "263\n",
      "269\n",
      "271\n",
      "277\n",
      "281\n",
      "283\n",
      "293\n",
      "307\n",
      "311\n",
      "313\n",
      "317\n",
      "331\n",
      "337\n",
      "347\n",
      "349\n",
      "353\n",
      "359\n",
      "367\n",
      "373\n",
      "379\n",
      "383\n",
      "389\n",
      "397\n",
      "401\n",
      "409\n",
      "419\n",
      "421\n",
      "431\n",
      "433\n",
      "439\n",
      "443\n",
      "449\n",
      "457\n",
      "461\n",
      "463\n",
      "467\n",
      "479\n",
      "487\n",
      "491\n",
      "499\n",
      "503\n",
      "509\n",
      "521\n",
      "523\n",
      "541\n",
      "547\n",
      "557\n",
      "563\n",
      "569\n",
      "571\n",
      "577\n",
      "587\n",
      "593\n",
      "599\n",
      "601\n",
      "607\n",
      "613\n",
      "617\n",
      "619\n",
      "631\n",
      "641\n",
      "643\n",
      "647\n",
      "653\n",
      "659\n",
      "661\n",
      "673\n",
      "677\n",
      "683\n",
      "691\n",
      "701\n",
      "709\n",
      "719\n",
      "727\n",
      "733\n",
      "739\n",
      "743\n",
      "751\n",
      "757\n",
      "761\n",
      "769\n",
      "773\n",
      "787\n",
      "797\n",
      "809\n",
      "811\n",
      "821\n",
      "823\n",
      "827\n",
      "829\n",
      "839\n",
      "853\n",
      "857\n",
      "859\n",
      "863\n",
      "877\n",
      "881\n",
      "883\n",
      "887\n",
      "907\n",
      "911\n",
      "919\n",
      "929\n",
      "937\n",
      "941\n",
      "947\n",
      "953\n",
      "967\n",
      "971\n",
      "977\n",
      "983\n",
      "991\n",
      "997\n"
     ]
    }
   ],
   "source": [
    "for g in gen(1000):\n",
    "    print(g)"
   ]
  },
  {
   "cell_type": "markdown",
   "id": "f915be7f-a1fc-4818-b84c-b35560f279ec",
   "metadata": {},
   "source": [
    "### Q6. Write a python program to print the first 10 Fibonacci numbers using a while loop."
   ]
  },
  {
   "cell_type": "code",
   "execution_count": 4,
   "id": "a0c24ce0-0f4b-47c7-b399-2789a5f1b31c",
   "metadata": {},
   "outputs": [
    {
     "name": "stdout",
     "output_type": "stream",
     "text": [
      "0\n",
      "1\n",
      "1\n",
      "2\n",
      "3\n",
      "5\n",
      "8\n",
      "13\n",
      "21\n",
      "34\n",
      "55\n"
     ]
    }
   ],
   "source": [
    "def fib(n):\n",
    "    a,b=0,1\n",
    "    i=0\n",
    "    while i<=10:\n",
    "        yield a\n",
    "        a,b=b,a+b\n",
    "        i+=1\n",
    "        \n",
    "f=fib(10)\n",
    "for i in f:\n",
    "    print(i)"
   ]
  },
  {
   "cell_type": "markdown",
   "id": "f5053d17-464c-458b-a99e-cdc5e710eacb",
   "metadata": {},
   "source": [
    "### Q7. Write a List Comprehension to iterate through the given string: ‘pwskills’. Expected output: ['p', 'w', 's', 'k', 'i', 'l', 'l', 's']"
   ]
  },
  {
   "cell_type": "code",
   "execution_count": 11,
   "id": "5e5148ea-f87c-47c1-a106-b36b33338511",
   "metadata": {},
   "outputs": [
    {
     "data": {
      "text/plain": [
       "['p', 'w', 's', 'k', 'i', 'l', 'l', 's']"
      ]
     },
     "execution_count": 11,
     "metadata": {},
     "output_type": "execute_result"
    }
   ],
   "source": [
    "s='pwskills'\n",
    "\n",
    "l=[j for i in s for j in i]\n",
    "l"
   ]
  },
  {
   "cell_type": "markdown",
   "id": "0f18c26d-2426-4a55-908a-ca44157936ba",
   "metadata": {},
   "source": [
    "### Q8. Write a python program to check whether a given number is Palindrome or not using a while loop."
   ]
  },
  {
   "cell_type": "code",
   "execution_count": 34,
   "id": "2a5e3115-7a15-4f1c-8044-07892fd06948",
   "metadata": {},
   "outputs": [
    {
     "name": "stdin",
     "output_type": "stream",
     "text": [
      "Enter a number: 8558\n"
     ]
    },
    {
     "name": "stdout",
     "output_type": "stream",
     "text": [
      "The number is palindrome!\n"
     ]
    }
   ],
   "source": [
    "num=int(input(\"Enter a number:\"))\n",
    "temp=num\n",
    "rev=0\n",
    "while(num>0):\n",
    "    dig=num%10\n",
    "    rev=rev*10+dig\n",
    "    num=num//10\n",
    "if(temp==rev):\n",
    "    print(\"The number is palindrome!\")\n",
    "else:\n",
    "    print(\"Not a palindrome!\")\n"
   ]
  },
  {
   "cell_type": "code",
   "execution_count": null,
   "id": "4f32e5b6-d3b5-4fa6-92d2-0ac4e9c36daf",
   "metadata": {},
   "outputs": [],
   "source": []
  }
 ],
 "metadata": {
  "kernelspec": {
   "display_name": "Python 3 (ipykernel)",
   "language": "python",
   "name": "python3"
  },
  "language_info": {
   "codemirror_mode": {
    "name": "ipython",
    "version": 3
   },
   "file_extension": ".py",
   "mimetype": "text/x-python",
   "name": "python",
   "nbconvert_exporter": "python",
   "pygments_lexer": "ipython3",
   "version": "3.10.8"
  }
 },
 "nbformat": 4,
 "nbformat_minor": 5
}
