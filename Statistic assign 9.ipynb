{
 "cells": [
  {
   "cell_type": "code",
   "execution_count": null,
   "id": "05637d14-ced1-49c6-a3f6-a1932e9719e1",
   "metadata": {},
   "outputs": [],
   "source": [
    "Question 1: Write a Python function that takes in two arrays of data and calculates the F-value for a variance ratio test. The function should return the F-value and the corresponding p-value for the test."
   ]
  },
  {
   "cell_type": "code",
   "execution_count": 13,
   "id": "384b33b8-017c-4b66-bfae-7362d3e14476",
   "metadata": {},
   "outputs": [
    {
     "data": {
      "text/plain": [
       "'f value: 1.0 and p value: 0.9999999999999998'"
      ]
     },
     "execution_count": 13,
     "metadata": {},
     "output_type": "execute_result"
    }
   ],
   "source": [
    "import numpy as np\n",
    "import scipy.stats as st\n",
    "\n",
    "x = np.array([1,2,3,4])\n",
    "y = np.array([3,4,5,6])\n",
    "\n",
    "def f_test(x, y, alt=\"two_sided\"):\n",
    "   \n",
    "    df1 = len(x) - 1\n",
    "    df2 = len(y) - 1\n",
    "    f = x.var() / y.var()\n",
    "    if alt == \"greater\":\n",
    "        p = 1.0 - st.f.cdf(f, df1, df2)\n",
    "    elif alt == \"less\":\n",
    "        p = st.f.cdf(f, df1, df2)\n",
    "    else:\n",
    "        # two-sided by default\n",
    "        # Crawley\n",
    "        p = 2.0*(1.0 - st.f.cdf(f, df1, df2))\n",
    "    return f'f value: {f} and p value: {p}'\n",
    "\n",
    "f_test(x,y)"
   ]
  },
  {
   "cell_type": "code",
   "execution_count": null,
   "id": "c2e325b5-f81c-4c35-a93f-2a8c70d3cfc7",
   "metadata": {},
   "outputs": [],
   "source": [
    "Question 2 : Given a significance level of 0.05 and the degrees of freedom for the numerator and denominator of an F-distribution, write a Python function that returns the critical F-value for a two-tailed test."
   ]
  },
  {
   "cell_type": "code",
   "execution_count": 23,
   "id": "5a8b6aa2-3471-4285-b433-6d27879538d0",
   "metadata": {},
   "outputs": [],
   "source": [
    "alpha = 0.05\n",
    "df1= 10\n",
    "df2=20\n"
   ]
  },
  {
   "cell_type": "code",
   "execution_count": 27,
   "id": "f7e372b1-031e-43bd-b4d0-00c966c30175",
   "metadata": {},
   "outputs": [
    {
     "data": {
      "text/plain": [
       "('f value are:', 0.29252223798395927, 2.773671375199082)"
      ]
     },
     "execution_count": 27,
     "metadata": {},
     "output_type": "execute_result"
    }
   ],
   "source": [
    "from scipy.stats import f\n",
    "\n",
    "def f_value(alpha,df1,df2):\n",
    "    f1 = f.ppf(alpha/2, df1,df2)\n",
    "    f2 = f.ppf(1-alpha/2, df1,df2)\n",
    "    return 'f value are:',f1,f2\n",
    "\n",
    "f_value(alpha, df1,df2)"
   ]
  },
  {
   "cell_type": "code",
   "execution_count": null,
   "id": "038a42de-7bb6-40ec-8ff6-0cd17c3ec44e",
   "metadata": {},
   "outputs": [],
   "source": [
    "Question 3 : Write a Python program that generates random samples from two normal distributions with \n",
    "known variances and uses an F-test to determine if the variances are equal. The program should output the Fvalue, degrees of freedom, and p-value for the test."
   ]
  },
  {
   "cell_type": "code",
   "execution_count": 60,
   "id": "431325e2-bb73-4df2-83f0-2bec27bb020b",
   "metadata": {},
   "outputs": [
    {
     "name": "stdout",
     "output_type": "stream",
     "text": [
      "degrees of freedom is(29, 19)\n",
      "f value: 1.2002 and p value: 0.6889\n",
      "values of f1: 0.4482 and f2: 2.4019\n",
      "accept null: two variance are equal\n"
     ]
    }
   ],
   "source": [
    "import numpy as np\n",
    "import scipy.stats as st\n",
    "\n",
    "np.random.seed(500)\n",
    "mean1 = 10\n",
    "mean2= 20\n",
    "variance1 = 5\n",
    "variance2 = 6\n",
    "n1 = 30\n",
    "n2 = 20\n",
    "\n",
    "x = np.random.normal(mean1, np.sqrt(variance1),n1)\n",
    "y = np.random.normal(mean2, np.sqrt(variance2),n2)\n",
    "\n",
    "\n",
    "def f_test(x, y, alt=\"two_sided\"):\n",
    "   \n",
    "    df1 = len(x) - 1\n",
    "    df2 = len(y) - 1\n",
    "    print(f'degrees of freedom is{df1,df2}')\n",
    "    f_value = np.var(x,ddof=1) / np.var(y,ddof=1)\n",
    "    if alt == \"greater\":\n",
    "        p = 1.0 - st.f.cdf(f, df1, df2)\n",
    "    elif alt == \"less\":\n",
    "        p = st.f.cdf(f, df1, df2)\n",
    "    else:\n",
    "        # two-sided by default\n",
    "        # Crawley\n",
    "        p = 2.0*(1.0 - st.f.cdf(f_value, df1, df2))\n",
    "        \n",
    "    alpha =0.05\n",
    "    \n",
    "    print(f'f value: {f_value:.4f} and p value: {p:.4f}')\n",
    "\n",
    "    null ='two variance are equal'\n",
    "    alternate ='two variance are not equal'\n",
    "\n",
    "    f1 = f.ppf(alpha/2,df1,df2)\n",
    "    f2 = f.ppf(1-alpha/2,df1,df2)\n",
    "\n",
    "    print(f'values of f1: {f1:.4f} and f2: {f2:.4f}')\n",
    "\n",
    "    if (f_value < f1) or (f_value > f2):\n",
    "        print('reject null:', alternate)\n",
    "    else:\n",
    "        print('accept null:', null)\n",
    "    \n",
    "\n",
    "f_test(x,y)\n",
    "\n"
   ]
  },
  {
   "cell_type": "code",
   "execution_count": null,
   "id": "1d72709c-65c2-4a4c-b27f-c230fec0a718",
   "metadata": {},
   "outputs": [],
   "source": [
    "Question 4 : The variances of two populations are known to be 10 and 15. A sample of 12 observations is\n",
    "taken from each population. Conduct an F-test at the 5% significance level to determine if the variances are significantly different."
   ]
  },
  {
   "cell_type": "code",
   "execution_count": 64,
   "id": "daadbb00-2f54-4880-b9b0-cd3b28c60bd0",
   "metadata": {},
   "outputs": [
    {
     "name": "stdout",
     "output_type": "stream",
     "text": [
      "degrees of freedom is(11, 11)\n",
      "f value: 0.6667 and p value: 1.4876\n",
      "values of f1: 0.2879 and f2: 3.4737\n",
      "accept null: two variance are equal\n"
     ]
    }
   ],
   "source": [
    "x = 10\n",
    "y = 15\n",
    "n1 = 12\n",
    "n2 = 12\n",
    "\n",
    "\n",
    "def f_test(x, y, alt=\"two_sided\"):\n",
    "   \n",
    "    df1 = (n1) - 1\n",
    "    df2 = (n2) - 1\n",
    "    print(f'degrees of freedom is{df1,df2}')\n",
    "    f_value = x/y\n",
    "    if alt == \"greater\":\n",
    "        p = 1.0 - st.f.cdf(f, df1, df2)\n",
    "    elif alt == \"less\":\n",
    "        p = st.f.cdf(f, df1, df2)\n",
    "    else:\n",
    "        # two-sided by default\n",
    "        # Crawley\n",
    "        p = 2.0*(1.0 - st.f.cdf(f_value, df1, df2))\n",
    "        \n",
    "    alpha =0.05\n",
    "    \n",
    "    print(f'f value: {f_value:.4f} and p value: {p:.4f}')\n",
    "\n",
    "    null ='two variance are equal'\n",
    "    alternate ='two variance are not equal'\n",
    "\n",
    "    f1 = f.ppf(alpha/2,df1,df2)\n",
    "    f2 = f.ppf(1-alpha/2,df1,df2)\n",
    "\n",
    "    print(f'values of f1: {f1:.4f} and f2: {f2:.4f}')\n",
    "\n",
    "    if (f_value < f1) or (f_value > f2):\n",
    "        print('reject null:', alternate)\n",
    "    else:\n",
    "        print('accept null:', null)\n",
    "    \n",
    "\n",
    "f_test(x,y)\n"
   ]
  },
  {
   "cell_type": "code",
   "execution_count": null,
   "id": "64b61c7d-5536-478e-938e-c6282aea1037",
   "metadata": {},
   "outputs": [],
   "source": [
    "Question 5 : A manufacturer claims that the variance of the diameter of a certain product is 0.005. \n",
    "A sample of 25 products is taken, and the sample variance is found to be 0.006. Conduct an F-test at the 1% significance level to determine if the claim is justified."
   ]
  },
  {
   "cell_type": "code",
   "execution_count": 66,
   "id": "6355e679-fa06-418d-953e-966e74401696",
   "metadata": {},
   "outputs": [
    {
     "name": "stdout",
     "output_type": "stream",
     "text": [
      "degrees of freedom is(24, 24)\n",
      "f value: 0.8333 and p value: 1.3413\n",
      "values of f1: 0.3371 and f2: 2.9667\n",
      "accept null: two variance are equal\n"
     ]
    }
   ],
   "source": [
    "dia = 0.005\n",
    "samp = 0.006\n",
    "n1 = 25\n",
    "\n",
    "\n",
    "\n",
    "def f_test(x, y, alt=\"two_sided\"):\n",
    "   \n",
    "    df1 = (n1) - 1\n",
    "    df2 = (n1) - 1\n",
    "    print(f'degrees of freedom is{df1,df2}')\n",
    "    f_value = dia/samp\n",
    "    if alt == \"greater\":\n",
    "        p = 1.0 - st.f.cdf(f, df1,df2)\n",
    "    elif alt == \"less\":\n",
    "        p = st.f.cdf(f, df1)\n",
    "    else:\n",
    "        # two-sided by default\n",
    "        # Crawley\n",
    "        p = 2.0*(1.0 - st.f.cdf(f_value, df1,df2))\n",
    "        \n",
    "    alpha =0.01\n",
    "    \n",
    "    print(f'f value: {f_value:.4f} and p value: {p:.4f}')\n",
    "\n",
    "    null ='two variance are equal'\n",
    "    alternate ='two variance are not equal'\n",
    "\n",
    "    f1 = f.ppf(alpha/2,df1,df2)\n",
    "    f2 = f.ppf(1-alpha/2,df1,df2)\n",
    "\n",
    "    print(f'values of f1: {f1:.4f} and f2: {f2:.4f}')\n",
    "\n",
    "    if (f_value < f1) or (f_value > f2):\n",
    "        print('reject null:', alternate)\n",
    "    else:\n",
    "        print('accept null:', null)\n",
    "    \n",
    "\n",
    "f_test(dia,samp)\n"
   ]
  },
  {
   "cell_type": "code",
   "execution_count": null,
   "id": "87fa1430-d5e0-4e71-b3c7-a24eb3015fe2",
   "metadata": {},
   "outputs": [],
   "source": [
    "Question 6 : Write a Python function that takes in the degrees of freedom for the numerator and denominator of an F-distribution\n",
    "and calculates the mean and variance of the distribution. The function should return the mean and variance as a tuple."
   ]
  },
  {
   "cell_type": "code",
   "execution_count": 79,
   "id": "96975c21-fdaa-404c-98a6-50751655150a",
   "metadata": {},
   "outputs": [
    {
     "data": {
      "text/plain": [
       "'mean:1.0952380952380953, variance: 0.3914309583482516'"
      ]
     },
     "execution_count": 79,
     "metadata": {},
     "output_type": "execute_result"
    }
   ],
   "source": [
    "\n",
    "# mean = df2 / df2-2\n",
    "# variance = 2df2 **2 (df1+df2 -2) /df1((df2-2) **2 (df2-4))\n",
    "\n",
    "def f_test(dfn,dfd):\n",
    "    mean = dfd / (dfd-2)\n",
    "    variance = (2 * (dfd **2) * (dfn+dfd -2))/ (dfn * (dfd - 2) ** 2 * (dfd - 4))\n",
    "    return (f'mean:{mean}, variance: {variance}')\n",
    "f_test(10,23)"
   ]
  },
  {
   "cell_type": "code",
   "execution_count": null,
   "id": "d0803ca1-ac7f-4f9d-82d3-1ff50e428057",
   "metadata": {},
   "outputs": [],
   "source": [
    "Question 7 : A random sample of 10 measurements is taken from a normal population with unknown variance. The sample variance is found to be 25. Another random sample of 15 measurements is \n",
    "taken from another normal population with unknown variance, and the sample variance is found to be 20. Conduct an F-test at the 10% significance level to determine if the variances are significantly different."
   ]
  },
  {
   "cell_type": "code",
   "execution_count": 82,
   "id": "3e9d5773-63eb-4f66-83cc-03a2b93ef228",
   "metadata": {},
   "outputs": [
    {
     "name": "stdout",
     "output_type": "stream",
     "text": [
      "degrees of freedom is(9, 14)\n",
      "f value: 1.2500 and p value: 0.6832\n",
      "values of f1: 0.3305 and f2: 2.6458\n",
      "accept null: two variance are equal\n"
     ]
    }
   ],
   "source": [
    "x = 25\n",
    "y = 20\n",
    "n1 = 10\n",
    "n2 = 15\n",
    "\n",
    "\n",
    "def f_test(x, y, alt=\"two_sided\"):\n",
    "   \n",
    "    df1 = (n1) - 1\n",
    "    df2 = (n2) - 1\n",
    "    print(f'degrees of freedom is{df1,df2}')\n",
    "    f_value = x/y\n",
    "    if alt == \"greater\":\n",
    "        p = 1.0 - st.f.cdf(f, df1, df2)\n",
    "    elif alt == \"less\":\n",
    "        p = st.f.cdf(f, df1, df2)\n",
    "    else:\n",
    "        # two-sided by default\n",
    "        # Crawley\n",
    "        p = 2.0*(1.0 - st.f.cdf(f_value, df1, df2))\n",
    "        \n",
    "    alpha =0.10\n",
    "    \n",
    "    print(f'f value: {f_value:.4f} and p value: {p:.4f}')\n",
    "\n",
    "    null ='two variance are equal'\n",
    "    alternate ='two variance are not equal'\n",
    "\n",
    "    f1 = f.ppf(alpha/2,df1,df2)\n",
    "    f2 = f.ppf(1-alpha/2,df1,df2)\n",
    "\n",
    "    print(f'values of f1: {f1:.4f} and f2: {f2:.4f}')\n",
    "\n",
    "    if (f_value < f1) or (f_value > f2):\n",
    "        print('reject null:', alternate)\n",
    "    else:\n",
    "        print('accept null:', null)\n",
    "    \n",
    "\n",
    "f_test(x,y)\n"
   ]
  },
  {
   "cell_type": "code",
   "execution_count": null,
   "id": "250653d4-5953-4c2c-b689-5ac2257cbd12",
   "metadata": {},
   "outputs": [],
   "source": [
    "Question 8 : The following data represent the waiting times in minutes at two different restaurants on a Saturday night: \n",
    "    Restaurant A: 24, 25, 28, 23, 22, 20, 27; Restaurant B: 31, 33, 35, 30, 32, 36. Conduct an F-test at the 5% significance level to determine if the variances are significantly different."
   ]
  },
  {
   "cell_type": "code",
   "execution_count": 84,
   "id": "d217f73f-5a00-4ab2-8376-2f340232f2dc",
   "metadata": {},
   "outputs": [
    {
     "name": "stdout",
     "output_type": "stream",
     "text": [
      "degrees of freedom is(6, 5)\n",
      "f value: 1.4552 and p value: 0.6975\n",
      "values of f1: 0.1670 and f2: 6.9777\n",
      "accept null: two variance are equal\n"
     ]
    }
   ],
   "source": [
    "import numpy as np\n",
    "\n",
    "x = np.array([24, 25, 28, 23, 22, 20, 27])\n",
    "y = np.array([31, 33, 35, 30, 32, 36])\n",
    "n1 = 7\n",
    "n2 = 6\n",
    "\n",
    "\n",
    "def f_test(x, y, alt=\"two_sided\"):\n",
    "   \n",
    "    df1 = (n1) - 1\n",
    "    df2 = (n2) - 1\n",
    "    print(f'degrees of freedom is{df1,df2}')\n",
    "    f_value = np.var(x,ddof=1)/np.var(y,ddof=1)\n",
    "    if alt == \"greater\":\n",
    "        p = 1.0 - st.f.cdf(f, df1, df2)\n",
    "    elif alt == \"less\":\n",
    "        p = st.f.cdf(f, df1, df2)\n",
    "    else:\n",
    "        # two-sided by default\n",
    "        # Crawley\n",
    "        p = 2.0*(1.0 - st.f.cdf(f_value, df1, df2))\n",
    "        \n",
    "    alpha =0.05\n",
    "    \n",
    "    print(f'f value: {f_value:.4f} and p value: {p:.4f}')\n",
    "\n",
    "    null ='two variance are equal'\n",
    "    alternate ='two variance are not equal'\n",
    "\n",
    "    f1 = f.ppf(alpha/2,df1,df2)\n",
    "    f2 = f.ppf(1-alpha/2,df1,df2)\n",
    "\n",
    "    print(f'values of f1: {f1:.4f} and f2: {f2:.4f}')\n",
    "\n",
    "    if (f_value < f1) or (f_value > f2):\n",
    "        print('reject null:', alternate)\n",
    "    else:\n",
    "        print('accept null:', null)\n",
    "    \n",
    "\n",
    "f_test(x,y)\n"
   ]
  },
  {
   "cell_type": "code",
   "execution_count": null,
   "id": "d9a55166-da16-4cee-9554-7eac0a477c03",
   "metadata": {},
   "outputs": [],
   "source": [
    "Question 9 : The following data represent the test scores of two groups of\n",
    "students: Group A: 80, 85, 90, 92, 87, 83; Group B: 75, 78, 82, 79, 81, 84. Conduct an F-test at the 1% significance level to determine if the variances are significantly different."
   ]
  },
  {
   "cell_type": "code",
   "execution_count": 86,
   "id": "b0db6727-365a-4861-92dc-6da80f7bd846",
   "metadata": {},
   "outputs": [
    {
     "name": "stdout",
     "output_type": "stream",
     "text": [
      "degrees of freedom is(5, 5)\n",
      "f value: 1.9443 and p value: 0.4831\n",
      "values of f1: 0.0669 and f2: 14.9396\n",
      "accept null: two variance are equal\n"
     ]
    }
   ],
   "source": [
    "import numpy as np\n",
    "\n",
    "x = np.array([80, 85, 90, 92, 87, 83])\n",
    "y = np.array([75, 78, 82, 79, 81, 84])\n",
    "n1 = 6\n",
    "n2 = 6\n",
    "\n",
    "\n",
    "def f_test(x, y, alt=\"two_sided\"):\n",
    "   \n",
    "    df1 = (n1) - 1\n",
    "    df2 = (n2) - 1\n",
    "    print(f'degrees of freedom is{df1,df2}')\n",
    "    f_value = np.var(x,ddof=1)/np.var(y,ddof=1)\n",
    "    if alt == \"greater\":\n",
    "        p = 1.0 - st.f.cdf(f, df1, df2)\n",
    "    elif alt == \"less\":\n",
    "        p = st.f.cdf(f, df1, df2)\n",
    "    else:\n",
    "        # two-sided by default\n",
    "        # Crawley\n",
    "        p = 2.0*(1.0 - st.f.cdf(f_value, df1, df2))\n",
    "        \n",
    "    alpha =0.01\n",
    "    \n",
    "    print(f'f value: {f_value:.4f} and p value: {p:.4f}')\n",
    "\n",
    "    null ='two variance are equal'\n",
    "    alternate ='two variance are not equal'\n",
    "\n",
    "    f1 = f.ppf(alpha/2,df1,df2)\n",
    "    f2 = f.ppf(1-alpha/2,df1,df2)\n",
    "\n",
    "    print(f'values of f1: {f1:.4f} and f2: {f2:.4f}')\n",
    "\n",
    "    if (f_value < f1) or (f_value > f2):\n",
    "        print('reject null:', alternate)\n",
    "    else:\n",
    "        print('accept null:', null)\n",
    "    \n",
    "\n",
    "f_test(x,y)\n"
   ]
  },
  {
   "cell_type": "code",
   "execution_count": null,
   "id": "2782adfd-a74e-49d6-8b63-fb8fed4b0fa9",
   "metadata": {},
   "outputs": [],
   "source": []
  }
 ],
 "metadata": {
  "kernelspec": {
   "display_name": "Python 3 (ipykernel)",
   "language": "python",
   "name": "python3"
  },
  "language_info": {
   "codemirror_mode": {
    "name": "ipython",
    "version": 3
   },
   "file_extension": ".py",
   "mimetype": "text/x-python",
   "name": "python",
   "nbconvert_exporter": "python",
   "pygments_lexer": "ipython3",
   "version": "3.10.8"
  }
 },
 "nbformat": 4,
 "nbformat_minor": 5
}
