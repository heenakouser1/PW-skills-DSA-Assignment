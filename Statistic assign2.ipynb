{
 "cells": [
  {
   "cell_type": "markdown",
   "id": "d4bdbb2c-f0ff-42e4-8f3a-18b2d1a32cbf",
   "metadata": {},
   "source": [
    "Q1. What are the three measures of central tendency?"
   ]
  },
  {
   "cell_type": "code",
   "execution_count": null,
   "id": "333dfd8f-d7fa-4fe3-9ca3-9cbb82e4b082",
   "metadata": {},
   "outputs": [],
   "source": [
    "Measure of central tendency---------------------used in EDA and feature enginering\n",
    "Mean\n",
    "Median\n",
    "Mode"
   ]
  },
  {
   "cell_type": "markdown",
   "id": "4061b05e-ccc8-47c4-b552-46dfa4b119e3",
   "metadata": {},
   "source": [
    "Q2. What is the difference between the mean, median, and mode? How are they used to measure the\n",
    "central tendency of a dataset?"
   ]
  },
  {
   "cell_type": "code",
   "execution_count": null,
   "id": "b23fe603-b51d-4a6a-8913-25d842c062c8",
   "metadata": {},
   "outputs": [],
   "source": [
    "Mean -- Average of values\n",
    "Median -- Middle value\n",
    "Mode -- Most frequent repeating frequency \n",
    "\n",
    "x = [1,2,3,3,4,5]\n",
    "\n",
    "mean = 1+2+3+4+5+3 / 6 = 3\n",
    "median = 3+3/2 = 3\n",
    "mode = 3"
   ]
  },
  {
   "cell_type": "markdown",
   "id": "4aaea862-9cfd-403b-bc5a-d3e1594cc93f",
   "metadata": {},
   "source": [
    "Q3. Measure the three measures of central tendency for the given height data:\n",
    "[178,177,176,177,178.2,178,175,179,180,175,178.9,176.2,177,172.5,178,176.5]\n"
   ]
  },
  {
   "cell_type": "code",
   "execution_count": 1,
   "id": "7bf8014b-edc7-4c1a-aa16-f3cd97219170",
   "metadata": {},
   "outputs": [],
   "source": [
    "import numpy as np"
   ]
  },
  {
   "cell_type": "code",
   "execution_count": 2,
   "id": "c20db68d-8d85-4c76-973a-7549546821f4",
   "metadata": {},
   "outputs": [],
   "source": [
    "x = [178,177,176,177,178.2,178,175,179,180,175,178.9,176.2,177,172.5,178,176.5]\n"
   ]
  },
  {
   "cell_type": "code",
   "execution_count": 3,
   "id": "6a8d40a7-d682-4afe-840b-dfc63f55cc7f",
   "metadata": {},
   "outputs": [
    {
     "data": {
      "text/plain": [
       "177.01875"
      ]
     },
     "execution_count": 3,
     "metadata": {},
     "output_type": "execute_result"
    }
   ],
   "source": [
    "mean = np.mean(x)\n",
    "mean"
   ]
  },
  {
   "cell_type": "code",
   "execution_count": 5,
   "id": "8b99ae98-ba84-45d1-9a46-76148e58a38c",
   "metadata": {},
   "outputs": [
    {
     "data": {
      "text/plain": [
       "177.0"
      ]
     },
     "execution_count": 5,
     "metadata": {},
     "output_type": "execute_result"
    }
   ],
   "source": [
    "median = np.median(x)\n",
    "median"
   ]
  },
  {
   "cell_type": "code",
   "execution_count": 8,
   "id": "038c14de-f43a-4ea2-b00d-3dc456a3324f",
   "metadata": {},
   "outputs": [
    {
     "name": "stderr",
     "output_type": "stream",
     "text": [
      "/tmp/ipykernel_2263/666512037.py:3: FutureWarning: Unlike other reduction functions (e.g. `skew`, `kurtosis`), the default behavior of `mode` typically preserves the axis it acts along. In SciPy 1.11.0, this behavior will change: the default value of `keepdims` will become False, the `axis` over which the statistic is taken will be eliminated, and the value None will no longer be accepted. Set `keepdims` to True or False to avoid this warning.\n",
      "  mode = stats.mode(x)\n"
     ]
    },
    {
     "data": {
      "text/plain": [
       "ModeResult(mode=array([177.]), count=array([3]))"
      ]
     },
     "execution_count": 8,
     "metadata": {},
     "output_type": "execute_result"
    }
   ],
   "source": [
    "import scipy.stats as stats\n",
    "\n",
    "mode = stats.mode(x)\n",
    "mode"
   ]
  },
  {
   "cell_type": "markdown",
   "id": "92ce5f49-2374-4f51-9d8a-02f4faabdad5",
   "metadata": {},
   "source": [
    "Q4. Find the standard deviation for the given data:\n",
    "[178,177,176,177,178.2,178,175,179,180,175,178.9,176.2,177,172.5,178,176.5]\n"
   ]
  },
  {
   "cell_type": "code",
   "execution_count": 10,
   "id": "e7e409c5-5901-41b4-8755-3231a4822c1a",
   "metadata": {},
   "outputs": [],
   "source": [
    "x = [178,177,176,177,178.2,178,175,179,180,175,178.9,176.2,177,172.5,178,176.5]\n"
   ]
  },
  {
   "cell_type": "code",
   "execution_count": 11,
   "id": "fbca7c05-9fc8-4cc6-8532-357adaf99913",
   "metadata": {},
   "outputs": [
    {
     "data": {
      "text/plain": [
       "1.7885814036548633"
      ]
     },
     "execution_count": 11,
     "metadata": {},
     "output_type": "execute_result"
    }
   ],
   "source": [
    "std = np.std(x)\n",
    "std"
   ]
  },
  {
   "cell_type": "code",
   "execution_count": null,
   "id": "e73ad416-c847-41a0-ae8c-b6b8a24af079",
   "metadata": {},
   "outputs": [],
   "source": [
    "Q5. How are measures of dispersion such as range, variance, and standard deviation used to describe\n",
    "the spread of a dataset? Provide an example.\n"
   ]
  },
  {
   "cell_type": "code",
   "execution_count": null,
   "id": "258b34c1-81b7-443b-93dd-faaf3f283ec5",
   "metadata": {},
   "outputs": [],
   "source": [
    "Range: The range is the difference between the maximum and minimum values in a dataset. depend on range whether is wider or shorter, it indicates the data has spread widely or closely spread\n",
    "Variance : Indicates how data is spread, Indicates how much the data point is away from mean \n",
    "Standard deviation: square root of variance"
   ]
  },
  {
   "cell_type": "code",
   "execution_count": 12,
   "id": "cd627d98-6d8f-4375-8b5c-ee82112d0dfc",
   "metadata": {},
   "outputs": [
    {
     "data": {
      "text/plain": [
       "7.5"
      ]
     },
     "execution_count": 12,
     "metadata": {},
     "output_type": "execute_result"
    }
   ],
   "source": [
    "range = max(x) - min(x)\n",
    "range"
   ]
  },
  {
   "cell_type": "code",
   "execution_count": 13,
   "id": "09641da9-3f42-4a84-a367-12cc33eb2dce",
   "metadata": {},
   "outputs": [
    {
     "data": {
      "text/plain": [
       "3.199023437500001"
      ]
     },
     "execution_count": 13,
     "metadata": {},
     "output_type": "execute_result"
    }
   ],
   "source": [
    "var = np.var(x)\n",
    "var"
   ]
  },
  {
   "cell_type": "code",
   "execution_count": 14,
   "id": "23549226-77db-4699-9c3f-4fcf70a3afcc",
   "metadata": {},
   "outputs": [
    {
     "data": {
      "text/plain": [
       "1.7885814036548633"
      ]
     },
     "execution_count": 14,
     "metadata": {},
     "output_type": "execute_result"
    }
   ],
   "source": [
    "std = np.std(x)\n",
    "std"
   ]
  },
  {
   "cell_type": "code",
   "execution_count": 17,
   "id": "bfb79778-6362-4177-8122-2093f016ea1b",
   "metadata": {},
   "outputs": [
    {
     "data": {
      "text/plain": [
       "1.7885814036548633"
      ]
     },
     "execution_count": 17,
     "metadata": {},
     "output_type": "execute_result"
    }
   ],
   "source": [
    "import math\n",
    "std1 = math.sqrt(var)\n",
    "std1"
   ]
  },
  {
   "cell_type": "markdown",
   "id": "73c70e7d-b09a-4b79-928b-580db5590081",
   "metadata": {},
   "source": [
    "Q6. What is a Venn diagram?"
   ]
  },
  {
   "cell_type": "code",
   "execution_count": null,
   "id": "ae3db7c3-ca00-47f1-a13a-e846a1e69172",
   "metadata": {},
   "outputs": [],
   "source": [
    "A Venn diagram is a widely used diagram style that shows the logical relation between sets"
   ]
  },
  {
   "cell_type": "code",
   "execution_count": null,
   "id": "51cc6abe-87af-4aff-94e1-74a6f604d56a",
   "metadata": {},
   "outputs": [],
   "source": [
    "Q7. For the two given sets A = (2,3,4,5,6,7) & B = (0,2,6,8,10). Find:\n",
    "(i) A B\n",
    "(ii) A ⋃ B\n"
   ]
  },
  {
   "cell_type": "code",
   "execution_count": 22,
   "id": "51a9b008-a39c-4491-8dc0-62128aa1010f",
   "metadata": {},
   "outputs": [],
   "source": [
    "A = {2,3,4,5,6,7}\n",
    "B = {0,2,6,8,10}"
   ]
  },
  {
   "cell_type": "code",
   "execution_count": 23,
   "id": "e3f4645b-4528-483a-846a-82cc36906f6c",
   "metadata": {},
   "outputs": [
    {
     "data": {
      "text/plain": [
       "{0, 2, 3, 4, 5, 6, 7, 8, 10}"
      ]
     },
     "execution_count": 23,
     "metadata": {},
     "output_type": "execute_result"
    }
   ],
   "source": [
    "# (i)  A U B\n",
    "\n",
    "A.union(B)"
   ]
  },
  {
   "cell_type": "code",
   "execution_count": 25,
   "id": "abd93952-ded1-496d-904c-e04480ec064f",
   "metadata": {},
   "outputs": [
    {
     "data": {
      "text/plain": [
       "{2, 6}"
      ]
     },
     "execution_count": 25,
     "metadata": {},
     "output_type": "execute_result"
    }
   ],
   "source": [
    "# (ii) A intersBection B\n",
    "\n",
    "A.intersection(B)"
   ]
  },
  {
   "cell_type": "markdown",
   "id": "1d613058-382c-453b-a068-a1ca30de32c5",
   "metadata": {},
   "source": [
    "Q8. What do you understand about skewness in data?\n"
   ]
  },
  {
   "cell_type": "code",
   "execution_count": null,
   "id": "9f86ad63-dc02-4491-a6eb-bda95848ac87",
   "metadata": {},
   "outputs": [],
   "source": [
    "Skewness is a measure of the asymmetry of a distribution.\n",
    "A distribution is asymmetrical when its left and right side are not mirror images.\n",
    "\n",
    "A distribution can have right (or positive), left (or negative), or zero skewness. \n",
    "A right-skewed distribution is longer on the right side of its peak, and a left-skewed distribution is longer on the left side of its peak:\n",
    "    \n",
    "symmetrical distribution -------- no skewness \n",
    "                                    mean,median,mode is at centre \n",
    "                                    q3-q2 = q2 - q1 \n",
    "                                    normal or gaussian distribution\n",
    "right skewed             -------- postive skewness \n",
    "                                    mode < median < mean  \n",
    "                                    q3-q2 > q2 - q1\n",
    "left skewed             -------- negative skewness\n",
    "                                mode > median > mean  \n",
    "                                q3-q2 < q2 - q1"
   ]
  },
  {
   "cell_type": "markdown",
   "id": "b70a0dec-646d-4f3e-86d3-e4be1d721a3f",
   "metadata": {},
   "source": [
    "Q9. If a data is right skewed then what will be the position of median with respect to mean?\n"
   ]
  },
  {
   "cell_type": "code",
   "execution_count": null,
   "id": "cd917b1c-28b3-4eb2-8635-256fe560db12",
   "metadata": {},
   "outputs": [],
   "source": [
    "mode < median < mean  "
   ]
  },
  {
   "cell_type": "markdown",
   "id": "12a7998d-1f5f-4079-9d1b-66b0b2c1e800",
   "metadata": {},
   "source": [
    "Q10. Explain the difference between covariance and correlation. How are these measures used in\n",
    "statistical analysis?\n"
   ]
  },
  {
   "cell_type": "code",
   "execution_count": null,
   "id": "49dc21d7-25ae-4a5a-a36c-6b29e7f5a327",
   "metadata": {},
   "outputs": [],
   "source": [
    "Covariance:\n",
    "Covariance is a measure of how much two random variables vary together\t\n",
    "involve the relationship between two variables\n",
    "Measure of correlation\t\n",
    "provide direction of relationship\t\n",
    "dependent on scale of variable\t\n",
    "have dimensions\n",
    "It is the relationship between a pair of random variables where change in one variable causes change in another variable.\n",
    "It can take any value between -infinity to +infinity, where the negative value represents the negative relationship whereas a positive value represents the positive relationship.\n",
    "It is used for the linear relationship between variables.\n",
    "It gives the direction of relationship between variables.\n",
    "    1. Positive covariance\n",
    "    2. Negative covariance\n",
    "    3. Zero covariance\n",
    "    \n",
    "\n",
    "\n",
    "Correlation –\n",
    "dimensionless\n",
    "independent on scale of variable\n",
    "provide direction and strength of relationship\n",
    "Correlation is a statistical measure that indicates how strongly two variables are related.\n",
    "data sets\tinvolve the relationship between multiple variables as well\n",
    "Scaled version of covariance\n",
    "It show whether and how strongly pairs of variables are related to each other.\n",
    "Correlation takes values between -1 to +1, wherein values close to +1 represents strong positive correlation and values close to -1 represents strong negative correlation.\n",
    "In this variable are indirectly related to each other.\n",
    "It gives the direction and strength of relationship between variables.\n",
    "    1. Positive covariance\n",
    "    2. Negative covariance\n",
    "    3. Zero covariance\n",
    "    "
   ]
  },
  {
   "cell_type": "code",
   "execution_count": null,
   "id": "cca829b6-7790-4c6e-b212-97a3b5699a89",
   "metadata": {},
   "outputs": [],
   "source": [
    "Q11. What is the formula for calculating the sample mean? Provide an example calculation for a\n",
    "dataset.\n"
   ]
  },
  {
   "cell_type": "code",
   "execution_count": 29,
   "id": "0e582ccb-07fa-41c1-a717-9ea122320016",
   "metadata": {},
   "outputs": [
    {
     "data": {
      "text/plain": [
       "3.0"
      ]
     },
     "execution_count": 29,
     "metadata": {},
     "output_type": "execute_result"
    }
   ],
   "source": [
    "T = [1,2,3,4,5]\n",
    "\n",
    "sample_mean = (1+2+3+4+5) /5 \n",
    "sample_mean"
   ]
  },
  {
   "cell_type": "code",
   "execution_count": 27,
   "id": "666c1d52-c6cf-4f46-9713-c9690a9269fc",
   "metadata": {},
   "outputs": [
    {
     "data": {
      "text/plain": [
       "3.0"
      ]
     },
     "execution_count": 27,
     "metadata": {},
     "output_type": "execute_result"
    }
   ],
   "source": [
    "import numpy as np\n",
    "\n",
    "T = [1,2,3,4,5]\n",
    "mean = np.mean(T)\n",
    "mean"
   ]
  },
  {
   "cell_type": "markdown",
   "id": "2e03c3c4-ee9d-4666-aa1f-a72bd291ec77",
   "metadata": {},
   "source": [
    "Q12. For a normal distribution data what is the relationship between its measure of central tendency?\n"
   ]
  },
  {
   "cell_type": "code",
   "execution_count": null,
   "id": "61a86331-7cee-4f8b-8ccc-de46334827e7",
   "metadata": {},
   "outputs": [],
   "source": [
    "Normal distribution also called as guassian distribution. it has symmentric distribution, where data is equal present on both the sides\n",
    "Central tendency, which is measure of mean, median, mode is same, because of symmetric data. Its located at centre\n",
    "    mean = median = mode"
   ]
  },
  {
   "cell_type": "markdown",
   "id": "28463bfa-9f49-4e4a-8104-e77aba95b1e1",
   "metadata": {},
   "source": [
    "Q13. How is covariance different from correlation?\n"
   ]
  },
  {
   "cell_type": "code",
   "execution_count": null,
   "id": "4cbed9b9-0080-4edf-a0ad-6c1993e0bc11",
   "metadata": {},
   "outputs": [],
   "source": [
    "Covariance:\n",
    "    \n",
    "It can take any value between -infinity to +infinity, where the negative value represents the negative relationship whereas a positive value represents the positive relationship.\n",
    "It gives the direction of relationship   \n",
    "    \n",
    "Correation:\n",
    "Correlation takes values between -1 to +1, wherein values close to +1 represents strong positive correlation and values close to -1 represents strong negative correlation.\n",
    "It gives the direction and strength of relationship"
   ]
  },
  {
   "cell_type": "markdown",
   "id": "77728061-0c4c-452c-a49e-d63a3c9697f3",
   "metadata": {},
   "source": [
    "Q14. How do outliers affect measures of central tendency and dispersion? Provide an example."
   ]
  },
  {
   "cell_type": "code",
   "execution_count": 31,
   "id": "0d3c4ca3-f4ab-4c88-8feb-f7d7911c3dd3",
   "metadata": {},
   "outputs": [],
   "source": [
    "import numpy as np\n",
    "import scipy.stats as stat"
   ]
  },
  {
   "cell_type": "code",
   "execution_count": 33,
   "id": "b61aec3e-2db5-4faa-af18-5fd47d556662",
   "metadata": {},
   "outputs": [
    {
     "name": "stdout",
     "output_type": "stream",
     "text": [
      "mean is  177.01875\n",
      "median is  177.0\n",
      "mode is  ModeResult(mode=array([177.]), count=array([3]))\n",
      "Variance is  3.199023437500001\n",
      "standard deviation is  1.7885814036548633\n"
     ]
    },
    {
     "name": "stderr",
     "output_type": "stream",
     "text": [
      "/tmp/ipykernel_2263/981077209.py:7: FutureWarning: Unlike other reduction functions (e.g. `skew`, `kurtosis`), the default behavior of `mode` typically preserves the axis it acts along. In SciPy 1.11.0, this behavior will change: the default value of `keepdims` will become False, the `axis` over which the statistic is taken will be eliminated, and the value None will no longer be accepted. Set `keepdims` to True or False to avoid this warning.\n",
      "  mode = stats.mode(S)\n"
     ]
    }
   ],
   "source": [
    "# before outlier\n",
    "\n",
    "S = [178,177,176,177,178.2,178,175,179,180,175,178.9,176.2,177,172.5,178,176.5]\n",
    "\n",
    "mean = np.mean(S)\n",
    "median = np.median(S)\n",
    "mode = stats.mode(S)\n",
    "var =np.var(S)\n",
    "std = np.std(S)\n",
    "\n",
    "print('mean is ', mean)\n",
    "print('median is ', median)\n",
    "print('mode is ', mode)\n",
    "print('Variance is ', var)\n",
    "print('standard deviation is ', std)"
   ]
  },
  {
   "cell_type": "code",
   "execution_count": 34,
   "id": "8e84fc5a-8093-45c5-a9c9-c214cba488a8",
   "metadata": {},
   "outputs": [
    {
     "name": "stdout",
     "output_type": "stream",
     "text": [
      "mean is  754.8411764705882\n",
      "median is  177.0\n",
      "mode is  ModeResult(mode=array([177.]), count=array([3]))\n",
      "Variance is  5342063.115363321\n",
      "standard deviation is  2311.290357216791\n"
     ]
    },
    {
     "name": "stderr",
     "output_type": "stream",
     "text": [
      "/tmp/ipykernel_2263/4047266755.py:7: FutureWarning: Unlike other reduction functions (e.g. `skew`, `kurtosis`), the default behavior of `mode` typically preserves the axis it acts along. In SciPy 1.11.0, this behavior will change: the default value of `keepdims` will become False, the `axis` over which the statistic is taken will be eliminated, and the value None will no longer be accepted. Set `keepdims` to True or False to avoid this warning.\n",
      "  mode = stats.mode(S)\n"
     ]
    }
   ],
   "source": [
    "# After outlier\n",
    "\n",
    "S = [178,177,176,177,178.2,178,175,179,180,175,178.9,176.2,177,172.5,178,176.5,10000]\n",
    "\n",
    "mean = np.mean(S)\n",
    "median = np.median(S)\n",
    "mode = stats.mode(S)\n",
    "var =np.var(S)\n",
    "std = np.std(S)\n",
    "\n",
    "print('mean is ', mean)\n",
    "print('median is ', median)\n",
    "print('mode is ', mode)\n",
    "print('Variance is ', var)\n",
    "print('standard deviation is ', std)"
   ]
  },
  {
   "cell_type": "code",
   "execution_count": null,
   "id": "a188502f-95b3-441f-aa38-a106ce2c1b84",
   "metadata": {},
   "outputs": [],
   "source": []
  }
 ],
 "metadata": {
  "kernelspec": {
   "display_name": "Python 3 (ipykernel)",
   "language": "python",
   "name": "python3"
  },
  "language_info": {
   "codemirror_mode": {
    "name": "ipython",
    "version": 3
   },
   "file_extension": ".py",
   "mimetype": "text/x-python",
   "name": "python",
   "nbconvert_exporter": "python",
   "pygments_lexer": "ipython3",
   "version": "3.10.8"
  }
 },
 "nbformat": 4,
 "nbformat_minor": 5
}
