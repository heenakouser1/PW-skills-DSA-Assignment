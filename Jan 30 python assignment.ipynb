{
 "cells": [
  {
   "cell_type": "markdown",
   "id": "0574f782-56b6-4e32-8db1-905ebc01034d",
   "metadata": {},
   "source": [
    "## Q1. Write a program to accept percentage from the user and display the grade according to the following criteria: \n",
    "### Marks           |       Grade   |\n",
    "### -------------   |      -------  |\n",
    "### 90              |         A     |\n",
    "### >80 and <=90    |         B     |\n",
    "### >=60 and <=80   |         C     |\n",
    "### below 60        |         D     |"
   ]
  },
  {
   "cell_type": "code",
   "execution_count": 1,
   "id": "95e7054f-d38a-4eb3-bfcd-e21bafcd0570",
   "metadata": {},
   "outputs": [
    {
     "name": "stdin",
     "output_type": "stream",
     "text": [
      "enter the percentage 75\n"
     ]
    },
    {
     "name": "stdout",
     "output_type": "stream",
     "text": [
      " The Grade for entered percentage 75.0 is C\n"
     ]
    }
   ],
   "source": [
    "a=float(input(\"enter the percentage\"))\n",
    "if a>90:\n",
    "    print(f' The Grade for entered percentage {a} is A')\n",
    "elif a>80 and a<=90:\n",
    "    print(f' The Grade for entered percentage {a} is B')\n",
    "elif a>=60 and a<=80:\n",
    "    print(f' The Grade for entered percentage {a} is C')\n",
    "elif a<60:\n",
    "    print(f' The Grade for entered percentage {a} is D')\n",
    "else:\n",
    "    print(f' Grade entered is not valid')"
   ]
  },
  {
   "cell_type": "markdown",
   "id": "113b0f34-1390-4545-b839-0153fd79e0e7",
   "metadata": {},
   "source": [
    "## Q2. Write a program to accept cost price and display the road tax to be paid according to following criteria: \n",
    "### Tax           |    cost price        |\n",
    "### ------------- | -------------------  | \n",
    "### 15%           |    >100000           |\n",
    "### 10%           | >50000 and <=100000  |\n",
    "### 5%            |   <=50000            |\n"
   ]
  },
  {
   "cell_type": "code",
   "execution_count": 2,
   "id": "ece4c9d9-8c9f-44d1-aba3-b39dbe6b61e8",
   "metadata": {},
   "outputs": [
    {
     "name": "stdin",
     "output_type": "stream",
     "text": [
      "enter the cost price of a bike 100001\n"
     ]
    },
    {
     "name": "stdout",
     "output_type": "stream",
     "text": [
      " For cost price of 100001.0 rs you need to pay tax of 15%\n"
     ]
    }
   ],
   "source": [
    "c=float(input(\"enter the cost price of a bike\"))\n",
    "if c>100000:\n",
    "    print(f' For cost price of {c} rs you need to pay tax of 15%')\n",
    "elif c>50000 and  c<=100000:\n",
    "    print(f' For cost price of {c} rs you need to pay tax of 10%')\n",
    "elif c<=50000:\n",
    "    print(f' For cost price of {c} rs you need to pay tax of 5%')\n",
    "else:\n",
    "    print(f' entered cost price is not avaliable for tax')"
   ]
  },
  {
   "cell_type": "markdown",
   "id": "61d764f8-7f58-4f84-836d-23a9d785dd19",
   "metadata": {},
   "source": [
    "## Q3. Accept any city from user and display monuments of that city: \n",
    "### City          |  Monument    |\n",
    "### ------------- | ----------   |\n",
    "### Delhi         |  Red fort    |\n",
    "### Agra          |  Taj mahal   |\n",
    "### Jaipur        |  Jai mahal   |\n"
   ]
  },
  {
   "cell_type": "code",
   "execution_count": 3,
   "id": "1f74d398-34e8-44c8-ba11-083161304152",
   "metadata": {},
   "outputs": [
    {
     "name": "stdin",
     "output_type": "stream",
     "text": [
      "enter the city jaIPUR\n"
     ]
    },
    {
     "name": "stdout",
     "output_type": "stream",
     "text": [
      " City JAIPUR has a monument Jai Mahal\n"
     ]
    }
   ],
   "source": [
    "city=input(\"enter the city\")\n",
    "c=city.upper()\n",
    "if c==\"DELHI\":\n",
    "    print(f' City {c} has a monument Red Fort')\n",
    "elif c==\"AGRA\":\n",
    "    print(f' City {c} has a monument Taj Mahal')\n",
    "elif c==\"JAIPUR\":\n",
    "    print(f' City {c} has a monument Jai Mahal')\n",
    "else:\n",
    "    print(f' entered city is not valid')"
   ]
  },
  {
   "cell_type": "markdown",
   "id": "1dd634ce-cba9-43be-b6e4-329bd0db7a64",
   "metadata": {},
   "source": [
    "### Q4.Check how many times the given number can be divided by 3 before it less than or equal to 10"
   ]
  },
  {
   "cell_type": "code",
   "execution_count": 6,
   "id": "55dd2573-1a83-4a8b-b901-8592e3b6f1f8",
   "metadata": {},
   "outputs": [
    {
     "name": "stdin",
     "output_type": "stream",
     "text": [
      "enter the number 56\n"
     ]
    },
    {
     "name": "stdout",
     "output_type": "stream",
     "text": [
      "the  number of times entered number is divisible by 3 is 2\n"
     ]
    }
   ],
   "source": [
    "n1=int(input(\"enter the number\"))\n",
    "count=0\n",
    "while n1>10:\n",
    "    n1=n1/3\n",
    "    count=count+1\n",
    "print(f'the  number of times entered number is divisible by 3 is {count}')\n",
    "    "
   ]
  },
  {
   "cell_type": "markdown",
   "id": "a0934b48-a3cd-4649-aa9d-c469a7435431",
   "metadata": {},
   "source": [
    "### Q5.why and when use the while lopp in python give a detailed description with example\n",
    "###    While is used to execute a block of statements repeatedly until a given condition is satisfied. And when the condition becomes false\n",
    "###    line immediately after the loop in the program is executed\n",
    "###    While loop is indefinite iteration. Indefinite iteration means that the number of times the loop is executed isn’t specified in\n",
    "###    explicitly advance. \n",
    "###    Below is the while loop example, it prints numbers from 1 to 5, so when we first initialize with 1, loop checks the condition \n",
    "###    so that its less than 5 and executes to print number and then increment. It continue until condition is false"
   ]
  },
  {
   "cell_type": "code",
   "execution_count": 10,
   "id": "e1895d45-4bf4-4eb9-a3a7-6cb39c980f9d",
   "metadata": {},
   "outputs": [
    {
     "name": "stdout",
     "output_type": "stream",
     "text": [
      "1\n",
      "2\n",
      "3\n",
      "4\n",
      "5\n"
     ]
    }
   ],
   "source": [
    "## while loop example\n",
    "n=1\n",
    "while n<=5:\n",
    "    print(n)\n",
    "    n=n+1\n",
    "    "
   ]
  },
  {
   "cell_type": "markdown",
   "id": "bce45219-f85a-4f15-ab2a-e24e99274975",
   "metadata": {},
   "source": [
    "### Q6. Use nested while loop to print 3 diff pattern"
   ]
  },
  {
   "cell_type": "code",
   "execution_count": 33,
   "id": "9daadcf7-1c33-4e2e-aee6-ac5093b54062",
   "metadata": {},
   "outputs": [
    {
     "name": "stdin",
     "output_type": "stream",
     "text": [
      "Enter number of rows :  5\n"
     ]
    },
    {
     "name": "stdout",
     "output_type": "stream",
     "text": [
      "* \n",
      "* * \n",
      "* * * \n",
      "* * * * \n",
      "* * * * * \n"
     ]
    }
   ],
   "source": [
    "n = int(input('Enter number of rows : '))\n",
    "\n",
    "i = 1\n",
    "while i <= n :\n",
    "    j = 1\n",
    "    while j <= i:\n",
    "        print(\"*\", end = \" \")\n",
    "        j += 1\n",
    "    print()\n",
    "    i += 1"
   ]
  },
  {
   "cell_type": "code",
   "execution_count": 2,
   "id": "2fa20251-ce49-4901-86cd-e433f491d6b1",
   "metadata": {},
   "outputs": [
    {
     "name": "stdin",
     "output_type": "stream",
     "text": [
      "Enter number of rows :  5\n"
     ]
    },
    {
     "name": "stdout",
     "output_type": "stream",
     "text": [
      "* * * * * \n",
      "* * * * \n",
      "* * * \n",
      "* * \n",
      "* \n"
     ]
    }
   ],
   "source": [
    "n = int(input('Enter number of rows : '))\n",
    "\n",
    "i = n\n",
    "while i >= 1 :\n",
    "    j = 1\n",
    "    \n",
    "    while j <= i:\n",
    "        print(\"*\", end = \" \")\n",
    "        j += 1\n",
    "    print()\n",
    "    i -= 1"
   ]
  },
  {
   "cell_type": "code",
   "execution_count": 9,
   "id": "00c5213d-2f73-413b-b5da-fbbbb9b090b2",
   "metadata": {},
   "outputs": [
    {
     "name": "stdin",
     "output_type": "stream",
     "text": [
      "Enter number of rows :  5\n"
     ]
    },
    {
     "name": "stdout",
     "output_type": "stream",
     "text": [
      "* * * * * \n",
      "* * * * \n",
      "* * * \n",
      "* * \n",
      "* \n"
     ]
    }
   ],
   "source": [
    "n = int(input('Enter number of rows : '))\n",
    "\n",
    "i = n\n",
    "while i >= 1 :\n",
    "    j = i\n",
    "    \n",
    "    while j >i:\n",
    "        print(\" \",end=\" \")\n",
    "        j-=-1\n",
    "    k=1\n",
    "    while k<=i:\n",
    "        print(\"*\", end = \" \")\n",
    "        k += 1\n",
    "    print()\n",
    "    i -= 1"
   ]
  },
  {
   "cell_type": "markdown",
   "id": "4e70e4aa-b32d-4792-8191-33ef6a3dba14",
   "metadata": {},
   "source": [
    "### Q7. Reverse a while loop to print numbers from 10 to 1"
   ]
  },
  {
   "cell_type": "code",
   "execution_count": 29,
   "id": "e0f51d5b-fe1e-47b4-9d7f-27cd14f2a177",
   "metadata": {},
   "outputs": [
    {
     "name": "stdout",
     "output_type": "stream",
     "text": [
      "10 9 8 7 6 5 4 3 2 1 "
     ]
    }
   ],
   "source": [
    "n=10\n",
    "while n>=1:    \n",
    "    print(n,end=\" \")\n",
    "    n=n-1"
   ]
  },
  {
   "cell_type": "markdown",
   "id": "dedc923c-dcb8-4e02-8114-46c0ba9fa23e",
   "metadata": {},
   "source": [
    "### Q8. Reverse a while loop to print numbers from 10 to 1"
   ]
  },
  {
   "cell_type": "code",
   "execution_count": 11,
   "id": "da5c9837-267d-4868-80d2-28dd444f003c",
   "metadata": {},
   "outputs": [
    {
     "name": "stdout",
     "output_type": "stream",
     "text": [
      "10 9 8 7 6 5 4 3 2 1 "
     ]
    }
   ],
   "source": [
    "n=10\n",
    "while n>=1:    \n",
    "    print(n,end=\" \")\n",
    "    n=n-1"
   ]
  }
 ],
 "metadata": {
  "kernelspec": {
   "display_name": "Python 3 (ipykernel)",
   "language": "python",
   "name": "python3"
  },
  "language_info": {
   "codemirror_mode": {
    "name": "ipython",
    "version": 3
   },
   "file_extension": ".py",
   "mimetype": "text/x-python",
   "name": "python",
   "nbconvert_exporter": "python",
   "pygments_lexer": "ipython3",
   "version": "3.10.8"
  }
 },
 "nbformat": 4,
 "nbformat_minor": 5
}
