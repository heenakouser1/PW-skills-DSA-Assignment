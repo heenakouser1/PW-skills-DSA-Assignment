{
 "cells": [
  {
   "cell_type": "code",
   "execution_count": null,
   "id": "804c92cc-54a0-4201-9ea1-4617c811b80c",
   "metadata": {},
   "outputs": [],
   "source": [
    "Q1: What is the difference between a t-test and a z-test? Provide an example scenario where you would\n",
    "use each type of test.\n"
   ]
  },
  {
   "cell_type": "code",
   "execution_count": null,
   "id": "499ce7a2-c798-4c5e-8d33-76c519dab627",
   "metadata": {},
   "outputs": [],
   "source": [
    "Assumption about population standard deviation\t---------Unknown, estimated from sample data\n",
    "Sample size\t----------Small (typically < 30)\n",
    "Use when comparing-----------\tMeans of two groups\n",
    "Example scenario\t------------Comparing the average height of men and women\n",
    "Critical values\t---------Look up in t-distribution table with degrees of freedom\n",
    "\n",
    "\n",
    "Assumption about population standard deviation----------\tKnown\n",
    "Sample size----------\tLarge (typically > 30)\n",
    "Use when comparing\t------Means of two groups\n",
    "Example scenario\t--------Testing the effectiveness of a new medical treatment\n",
    "Degrees of freedom\t---------Not applicable\n",
    "Critical values-------\tLook up in standard normal distribution table\n",
    "\n",
    "\n",
    "Example for T- Test :\n",
    "For example, suppose you want to compare the average test scores of two groups of students who took different types of classes. A t-test would be used to determine whether there is a significant difference between the two groups.\n",
    "Example for Z-Test :\n",
    "suppose you want to compare the average heights of two groups of people from different countries. A z-test would be used to determine whether there is a significant difference between the two groups. Here Sample size >30 and population variance MUST BE KNOWN.\n"
   ]
  },
  {
   "cell_type": "code",
   "execution_count": null,
   "id": "22db5d9c-6a15-4429-b8ea-5e4ebbe218e3",
   "metadata": {},
   "outputs": [],
   "source": [
    "Q2: Differentiate between one-tailed and two-tailed tests.\n"
   ]
  },
  {
   "cell_type": "code",
   "execution_count": null,
   "id": "336c4f5d-1554-4d9e-b930-525e83ab75d3",
   "metadata": {},
   "outputs": [],
   "source": [
    "One tailed test\n",
    "--------------------\n",
    "\n",
    "Definition------\tA statistical test in which the alternative hypothesis specifies the direction of the effect (either positive or negative)\n",
    "Directionality-----\tThe alternative hypothesis is formulated in a specific direction\n",
    "Hypotheses-----\tNull hypothesis and one-tailed alternative hypothesis\n",
    "Appropriate Use------------When there is prior knowledge or a strong theoretical justification for the direction of the effect\n",
    "Example------Testing whether a new drug increases blood pressure\n",
    "\n",
    "\n",
    "Two -tailed test\n",
    "----------------------\n",
    "\n",
    "Definition---\tA statistical test in which the alternative hypothesis does not specify the direction of the effect\n",
    "Directionality-----\tThe alternative hypothesis is formulated in both directions\n",
    "Hypotheses\t------Null hypothesis and two-tailed alternative hypothesis\n",
    "Appropriate Use------When there is no prior knowledge or theoretical justification for the direction of the effect\n",
    "Example\t-------Testing whether a new drug has any effect on blood pressure, regardless of whether it increases or decreases it\n",
    "\n"
   ]
  },
  {
   "cell_type": "code",
   "execution_count": null,
   "id": "036aad67-accf-4135-955f-a57a8e51787e",
   "metadata": {},
   "outputs": [],
   "source": [
    "Q3: Explain the concept of Type 1 and Type 2 errors in hypothesis testing. Provide an example scenario for\n",
    "each type of error.\n"
   ]
  },
  {
   "cell_type": "code",
   "execution_count": null,
   "id": "1cfb096d-7cf9-4384-acf0-41623ad83c71",
   "metadata": {},
   "outputs": [],
   "source": [
    "In hypothesis testing, there are two types of errors that can occur: Type I error and Type II error.\n",
    "Type I error occurs when the null hypothesis is rejected even though it is actually true. This means that the researcher concludes that there is \n",
    "a significant effect or difference between two groups when in reality there is not. The probability of making a Type I error is denoted as alpha (α) \n",
    "and is set by the researcher prior to conducting the test. A smaller alpha level means a lower probability of making a Type I error.\n",
    "Type II error, on the other hand, occurs when the null hypothesis is not rejected even though it is actually false. This means that the researcher concludes \n",
    "that there is no significant effect or difference between two groups when in reality there is. The probability of making a Type II error is denoted as beta (β). \n",
    "he probability of making a Type II error depends on several factors such as the sample size, effect size, and the alpha level.\n",
    "\n",
    "Here are example scenarios for each type of error:\n",
    "Type I error: Suppose a company produces a batch of 10,000 pens and claims that the average weight of each pen is 5 grams. A researcher randomly selects\n",
    "a sample of 50 pens and finds that the average weight is 5.2 grams with a standard deviation of 0.5 grams. The researcher conducts a hypothesis test with a \n",
    "significance level of 0.05 and concludes that the average weight of the pens is significantly greater than 5 grams. However, in reality, the average weight of the pens is actually 5 \n",
    "grams, and the researcher has made a Type I error by rejecting the null hypothesis.\n",
    "\n",
    "Type II error: Consider a clinical trial testing the effectiveness of a new drug for treating a certain disease. The null hypothesis is that the drug \n",
    "has no effect on the disease, while the alternative hypothesis is that the drug does have an effect. If the clinical trial fails to reject the null hypothesis, it \n",
    "could be due to the drug having no effect, or it could be due to a Type II error, where the drug actually does have an effect but it was not detected in the study. In\n",
    "this scenario, a Type II error would occur if the new drug is effective, but the clinical trial fails to detect its effectiveness due to a small sample size or other limitations of the study."
   ]
  },
  {
   "cell_type": "code",
   "execution_count": null,
   "id": "6c1117bb-6dc7-4ffd-9abf-54f954fa54a1",
   "metadata": {},
   "outputs": [],
   "source": [
    "Q4: Explain Bayes's theorem with an example.\n"
   ]
  },
  {
   "cell_type": "code",
   "execution_count": null,
   "id": "1dd71a47-cb82-4be7-844d-929457a95214",
   "metadata": {},
   "outputs": [],
   "source": [
    "Bayes's theorem is a mathematical formula that provides a way to update the probability of an event occurring based on new information. It is named after Thomas Bayes, an 18th-century British statistician.\n",
    "Bayes's theorem can be expressed as follows:\n",
    " \n",
    "    P(A/B) =  P(B/A) * P(A) / P(B)\n",
    "where:\n",
    "\n",
    "P(A|B) is the probability of event A occurring given that event B has occurred\n",
    "P(B|A) is the probability of event B occurring given that event A has occurred\n",
    "P(A) is the prior probability of event A occurring\n",
    "P(B) is the prior probability of event B occurring\n",
    "Here is an example of how Bayes's theorem can be applied:\n",
    "Suppose there is a medical test for a certain disease that affects 1% of the population. The test has a 95% accuracy rate, meaning that it correctly identifies 95%\n",
    "of people who have the disease and correctly identifies 95% of people who do not have the disease. If a person tests positive for the disease, what is the probability that they actually have the disease?\n",
    "Using Bayes's theorem, we can calculate the probability as follows:\n",
    "Let A be the event that a person has the disease (prior probability = 0.01)\n",
    "\n",
    "Let B be the event that a person tests positive for the disease (prior probability = 0.01 x 0.95 + 0.99 x 0.05 = 0.058)\n",
    "\n",
    "P(A|B) = P(B|A) x P(A) / P(B)\n",
    "\n",
    "P(A|B) = 0.95 x 0.01 / 0.058\n",
    "\n",
    "P(A|B) = 0.163\n",
    "\n",
    "Therefore, the probability that a person who tests positive for the disease actually has the disease is approximately 16.3%.\n",
    "This calculation shows that even though the test has a high accuracy rate, there is still a significant chance of a false positive result, and additional testing or confirmation may be necessary to confirm a diagnosis."
   ]
  },
  {
   "cell_type": "code",
   "execution_count": null,
   "id": "0f735b1e-99e4-4aa0-bdec-68c1c282c5c6",
   "metadata": {},
   "outputs": [],
   "source": [
    "Q5: What is a confidence interval? How to calculate the confidence interval, explain with an example.\n"
   ]
  },
  {
   "cell_type": "code",
   "execution_count": null,
   "id": "179058de-0c0f-45f5-b75f-5d8cb73ed662",
   "metadata": {},
   "outputs": [],
   "source": [
    "A confidence interval is a range of values that is likely to contain a population parameter, such as a mean or proportion, with a certain level of confidence.\n",
    "It is a way of quantifying the uncertainty of an estimate based on a sample of data.\n",
    "The confidence interval is typically expressed as an interval estimate, such as \"95% confidence interval for the mean is between 3.2 and 5.8\".\n",
    "This means that if we were to repeat the sampling process many times, 95% of the time the true population mean would be within this range.\n",
    "To calculate a confidence interval, we need to know the sample size, the sample mean, and the standard error of the mean (SEM), which is a measure\n",
    "of the variation in the sample means. The confidence interval is based on the standard normal distribution or t-distribution, depending on the sample size and whether the population standard deviation is known.\n",
    "Here is an example of how to calculate a confidence interval:\n",
    "Suppose we want to estimate the mean weight of a certain population of adults. We take a random sample of 100 people and measure their weights, and \n",
    "find that the sample mean is 72.5 kilograms and the sample standard deviation is 10.3 kilograms. We want to calculate a 99% confidence interval for the population mean weight.\n",
    "Since the sample size is greater than 30 and the population standard deviation is unknown, we use the t-distribution. The degrees of freedom is n-1, which is 99 in this case.\n",
    "\n",
    "First, we calculate the standard error of the mean:\n",
    "SEM = s / sqrt(n) = 10.3 / sqrt(100) = 1.03\n",
    "\n",
    "Next, we find the t-value for a 99% confidence level and 99 degrees of freedom using a t-table or calculator. The value is approximately 2.63.\n",
    "\n",
    "The lower and upper bounds of the confidence interval are calculated as:\n",
    "\n",
    "Lower bound = sample mean - t-value x SEM = 72.5 - 2.63 x 1.03 = 69.8\n",
    "Upper bound = sample mean + t-value x SEM = 72.5 + 2.63 x 1.03 = 75.2\n",
    "Therefore, the 99% confidence interval for the population mean weight is between 69.8 and 75.2 kilograms. This means that we are 99% confident that the true population mean weight lies within this range."
   ]
  },
  {
   "cell_type": "code",
   "execution_count": 5,
   "id": "382af155-a27f-42c2-873f-32ec4b758d04",
   "metadata": {},
   "outputs": [
    {
     "name": "stdout",
     "output_type": "stream",
     "text": [
      "lower bound and upper bound is:  69.79480237992325 75.20519762007675\n"
     ]
    }
   ],
   "source": [
    "from math import sqrt \n",
    "import scipy.stats as stats\n",
    "\n",
    "m = 72.5\n",
    "s= 10.3\n",
    "n = 100\n",
    "SEM = s /sqrt(n)\n",
    "alpha = 0.01\n",
    "t = stats.t.ppf(1-alpha/2, df = n-1)\n",
    "\n",
    "Lower  = m - t * SEM \n",
    "Upper  = m + t * SEM\n",
    "\n",
    "print('lower bound and upper bound is: ', Lower, Upper)"
   ]
  },
  {
   "cell_type": "code",
   "execution_count": null,
   "id": "92d40927-5af6-40ca-9c6f-cca4895ed2d7",
   "metadata": {},
   "outputs": [],
   "source": [
    "Q6. Use Bayes' Theorem to calculate the probability of an event occurring given prior knowledge of the\n",
    "event's probability and new evidence. Provide a sample problem and solution.\n"
   ]
  },
  {
   "cell_type": "code",
   "execution_count": null,
   "id": "53868985-34a5-4274-96c8-65e33a601e1d",
   "metadata": {},
   "outputs": [],
   "source": [
    "Suppose a company manufactures a certain type of product that has a defect rate of 2%. The company uses a quality control process that is 95% effective in catching defective products, and 99% \n",
    "effective in passing non-defective products. If a product passes the quality control process, what is the probability that it is actually defect-free?\n",
    "To solve this problem using Bayes' theorem, we first define the following events:\n",
    "D: the product is defective\n",
    "ND : the product is not defective\n",
    "P: the product passes the quality control process\n",
    "Solution\n",
    "P(ND|P) = P(P|ND) * P(ND) / P(P)\n",
    "P(P) = P(P|D) * P(D) + P(P|ND) * P(ND)\n",
    "\n",
    "P(D) = 0.02\n",
    "P(ND) = 0.98\n",
    "P(P|D) = 0.95\n",
    "P(P|ND) = 0.99\n",
    "\n",
    "P(P) = P(P|D) * P(D) + P(P|ND) * P(ND)\n",
    "     = 0.95 * 0.02 + 0.99 * 0.98\n",
    "     = 0.9892\n",
    "\n",
    "P(ND|P) = P(P|ND) * P(ND) / P(P)\n",
    "        = 0.99 * 0.98 / 0.9892\n",
    "        = 0.9807\n",
    "Therefore, the probability that a product is not defective given that it passes the quality control process is \n",
    "\n",
    "approximately 0.9807, or 98.07%. This result indicates that if a product passes the quality control process, it is highly likely to be defect-free. \n",
    "However, it is important to note that no quality control process is perfect, and some defective products may still slip through."
   ]
  },
  {
   "cell_type": "code",
   "execution_count": 1,
   "id": "d7185ddb-24e0-497a-a49d-ebd8c88e287b",
   "metadata": {},
   "outputs": [
    {
     "name": "stdout",
     "output_type": "stream",
     "text": [
      "probability that it is actually defect-free 0.9807925596441569\n"
     ]
    }
   ],
   "source": [
    "D = 0.02\n",
    "ND = 0.98\n",
    "DE = 0.95\n",
    "NDE = 0.99\n",
    "\n",
    "P1 = D*DE + ND *NDE\n",
    "\n",
    "PND = (NDE * ND )/ P1\n",
    "\n",
    "print('probability that it is actually defect-free',PND)"
   ]
  },
  {
   "cell_type": "code",
   "execution_count": null,
   "id": "e9359a63-96a1-4c34-bf6d-a1baba799315",
   "metadata": {},
   "outputs": [],
   "source": [
    "Q7. Calculate the 95% confidence interval for a sample of data with a mean of 50 and a standard deviation\n",
    "of 5. Interpret the results.\n"
   ]
  },
  {
   "cell_type": "code",
   "execution_count": 3,
   "id": "4d87c493-4306-42a0-a5d6-6ee6b6ce2557",
   "metadata": {},
   "outputs": [
    {
     "name": "stdout",
     "output_type": "stream",
     "text": [
      "lower and upper bound interval 48.1329693162095 51.8670306837905\n"
     ]
    }
   ],
   "source": [
    "import scipy.stats as stats\n",
    "from math import sqrt\n",
    "\n",
    "n= 30\n",
    "m = 50 \n",
    "s = 5\n",
    "alpha =0.05\n",
    "\n",
    "SEM = s /sqrt(n)\n",
    "t = stats.t.ppf(1-alpha/2, df = n-1)\n",
    "\n",
    "lower = m-t * SEM\n",
    "upper = m+t * SEM\n",
    "\n",
    "print('lower and upper bound interval', lower, upper)\n",
    "\n"
   ]
  },
  {
   "cell_type": "code",
   "execution_count": null,
   "id": "e02af373-02b7-400d-93d2-2cf267862373",
   "metadata": {},
   "outputs": [],
   "source": [
    "Q8. What is the margin of error in a confidence interval? How does sample size affect the margin of error?\n",
    "Provide an example of a scenario where a larger sample size would result in a smaller margin of error.\n"
   ]
  },
  {
   "cell_type": "code",
   "execution_count": null,
   "id": "0aff33f1-704c-4f5d-8a86-9f6e221539df",
   "metadata": {},
   "outputs": [],
   "source": [
    "The margin of error in a confidence interval is the range of values around the sample statistic \n",
    "(such as the sample mean) within which we expect the true population parameter (such as the population mean) to lie with a certain level of confidence.\n",
    "The margin of error is affected by the sample size, level of confidence, and standard deviation of the population.\n",
    "As the sample size increases, the margin of error decreases because larger samples provide more information about the\n",
    "population, and hence the sample statistics are more likely to be representative of the population. The decrease in margin of\n",
    "error with an increase in sample size follows the square root law, which states that the margin of error decreases by the square root of the sample size."
   ]
  },
  {
   "cell_type": "code",
   "execution_count": null,
   "id": "f45cd4f1-96a1-46c2-bb6c-d4ea74b4bc5d",
   "metadata": {},
   "outputs": [],
   "source": [
    "For example, suppose we want to estimate the average height of all students in a university using a random sample of students. We take a \n",
    "sample of 50 students and calculate their average height to be 170 cm with a standard deviation of 5 cm. \n",
    "e want to calculate a 95% confidence interval for the true population mean height.\n",
    "\n",
    "z value for 95% confidence interval is 1.96\n",
    "\n",
    "margin = z * (s /sqrt(n))\n",
    "\n",
    "for n = 50\n",
    "margin = 1.96 * (5 /sqrt(50)) = 1.38cm\n",
    "\n",
    "for n=150\n",
    "margin = 1.96 * (5 /sqrt(150)) = 0.95cm\n",
    "\n",
    "\n",
    "So, a larger sample size would result in a smaller margin of error, making our estimate of the true population mean height more precise."
   ]
  },
  {
   "cell_type": "code",
   "execution_count": null,
   "id": "59418eaa-be76-4c29-9b65-e38d8e9b742c",
   "metadata": {},
   "outputs": [],
   "source": [
    "Q9. Calculate the z-score for a data point with a value of 75, a population mean of 70, and a population\n",
    "standard deviation of 5. Interpret the results.\n"
   ]
  },
  {
   "cell_type": "code",
   "execution_count": 4,
   "id": "71f1b35e-2012-4edb-8325-ee6c9c704962",
   "metadata": {},
   "outputs": [
    {
     "data": {
      "text/plain": [
       "1.0"
      ]
     },
     "execution_count": 4,
     "metadata": {},
     "output_type": "execute_result"
    }
   ],
   "source": [
    "m = 70\n",
    "s = 5\n",
    "u = 75\n",
    "\n",
    "z = u-m / s\n",
    "z = (75-70) /5\n",
    "z "
   ]
  },
  {
   "cell_type": "code",
   "execution_count": null,
   "id": "93d4ac4a-117d-42e9-8039-6e6c46664c4b",
   "metadata": {},
   "outputs": [],
   "source": [
    "Q10. In a study of the effectiveness of a new weight loss drug, a sample of 50 participants lost an average\n",
    "of 6 pounds with a standard deviation of 2.5 pounds. Conduct a hypothesis test to determine if the drug is\n",
    "significantly effective at a 95% confidence level using a t-test.\n"
   ]
  },
  {
   "cell_type": "code",
   "execution_count": 10,
   "id": "600afd4a-f6a8-4862-bd9b-b81cf13f5a4f",
   "metadata": {},
   "outputs": [],
   "source": [
    "n = 50\n",
    "m = 6\n",
    "s = 2.5\n",
    "u =0\n",
    "alpha =0.05\n",
    "df = n-1\n",
    "null  = 'Drug is not significantly effective'\n",
    "alternate = 'Drug is not significantly effective'\n",
    "\n"
   ]
  },
  {
   "cell_type": "code",
   "execution_count": 18,
   "id": "bc4860ff-24a1-4e7c-93f0-1ef206e03fa0",
   "metadata": {},
   "outputs": [
    {
     "name": "stdout",
     "output_type": "stream",
     "text": [
      "t score <scipy.stats._continuous_distns.t_gen object at 0x7f611659e590> p value 0.0\n",
      "Reject the null hypothesis. Drug is not significantly effective.\n"
     ]
    }
   ],
   "source": [
    "from scipy.stats import t\n",
    "from math import sqrt\n",
    "\n",
    "ts = (m - u)/ (s/sqrt(n))\n",
    "p = 2 * (1-t.cdf(abs(ts), df))\n",
    "print('t score',t, 'p value',p)\n",
    "\n",
    "\n",
    "if p < alpha:\n",
    "    print(f\"Reject the null hypothesis. {alternate}.\")\n",
    "else:\n",
    "    print(f\"Fail to reject the null hypothesis. {null}.\")"
   ]
  },
  {
   "cell_type": "code",
   "execution_count": null,
   "id": "c65f1c89-2056-4afe-84d6-84e375c615d6",
   "metadata": {},
   "outputs": [],
   "source": [
    "Q11. In a survey of 500 people, 65% reported being satisfied with their current job. Calculate the 95%\n",
    "confidence interval for the true proportion of people who are satisfied with their job.\n"
   ]
  },
  {
   "cell_type": "code",
   "execution_count": 2,
   "id": "198a8ea0-4e9e-4812-aa64-84233c2a5e91",
   "metadata": {},
   "outputs": [
    {
     "name": "stdout",
     "output_type": "stream",
     "text": [
      "lower and upper bound 64.91082 65.08918\n"
     ]
    }
   ],
   "source": [
    "n =500\n",
    "p = 0.65\n",
    "alpha = 0.05\n",
    "\n",
    "z = 1.96\n",
    "\n",
    "SEM = z * ((p * (1-p))/n)\n",
    "\n",
    "lower = p - SEM\n",
    "upper = p + SEM\n",
    "\n",
    "print('lower and upper bound', lower*100, upper*100)"
   ]
  },
  {
   "cell_type": "code",
   "execution_count": null,
   "id": "6e4c6949-9e99-49bf-9112-86734bc7bc9d",
   "metadata": {},
   "outputs": [],
   "source": [
    "Q12. A researcher is testing the effectiveness of two different teaching methods on student performance.\n",
    "Sample A has a mean score of 85 with a standard deviation of 6, while sample B has a mean score of 82\n",
    "with a standard deviation of 5. Conduct a hypothesis test to determine if the two teaching methods have a\n",
    "significant difference in student performance using a t-test with a significance level of 0.01.\n"
   ]
  },
  {
   "cell_type": "code",
   "execution_count": 5,
   "id": "f3666ec5-6f51-4be4-bfed-52a1566e9ac7",
   "metadata": {},
   "outputs": [
    {
     "name": "stdout",
     "output_type": "stream",
     "text": [
      "Fail to reject null hypothesis.\n",
      "the two teaching methods does  not have a significant difference in student performance\n"
     ]
    }
   ],
   "source": [
    "\n",
    "from  scipy.stats import t\n",
    "from math import sqrt\n",
    "\n",
    "ma = 85\n",
    "sa = 6\n",
    "mb = 82\n",
    "sb = 5\n",
    "alpha = 0.01\n",
    "n1 = 30\n",
    "n2 = 30\n",
    "\n",
    "null = 'the two teaching methods does  not have a significant difference in student performance'\n",
    "alternate = 'the two teaching methods does have a significant difference in student performance'\n",
    "\n",
    "\n",
    "# t = x1-x2 / s-pooled (sqrt (1/n1 +1/ n2))\n",
    "\n",
    "# SDpooled = √((n1-1).SD12 + (n2-1).SD22)/(n1+n2-2)\n",
    "# for eql sizes  SDpooled = √(SD12 + SD22)/2\n",
    "# Pooled standard deviation = √ (n1-1)sample12 **2 +  (n2-1)sample22 **2 / (n1+n2-2)\n",
    "# df = n1+n2 -2\n",
    "\n",
    "#as sample size is equal\n",
    "\n",
    "sdpooled = sqrt((sa+sb)/2)\n",
    "\n",
    "t_stat = (ma - mb)/ sdpooled * (sqrt(1/n1+1/n2))\n",
    "\n",
    "t_crit = t.ppf(1-alpha/2, df = n1+n2-2)\n",
    "\n",
    "p = 2 * (1-t.cdf(abs(t_stat), df = n1+n2-2))\n",
    "        \n",
    "         \n",
    "if p > t_crit:\n",
    "    print(\"Reject null hypothesis.\")\n",
    "    print(alternative)\n",
    "else:\n",
    "    print(\"Fail to reject null hypothesis.\")\n",
    "    print(null)"
   ]
  },
  {
   "cell_type": "code",
   "execution_count": null,
   "id": "7b743251-f66a-48b2-af79-bb20462a3589",
   "metadata": {},
   "outputs": [],
   "source": [
    "Q13. A population has a mean of 60 and a standard deviation of 8. A sample of 50 observations has a mean\n",
    "of 65. Calculate the 90% confidence interval for the true population mean.\n"
   ]
  },
  {
   "cell_type": "code",
   "execution_count": 11,
   "id": "6a0a17c9-c079-4662-8f8f-830113403264",
   "metadata": {},
   "outputs": [
    {
     "name": "stdout",
     "output_type": "stream",
     "text": [
      "lower and upper bound 63.10319919251691 66.89680080748309\n"
     ]
    }
   ],
   "source": [
    "\n",
    "from scipy.stats import t\n",
    "from math import sqrt\n",
    "u = 60\n",
    "sd1 = 8\n",
    "n = 50\n",
    "m = 65\n",
    "ct = 0.90\n",
    "df = n-1\n",
    "\n",
    "t_crit = t.ppf((1+ct)/2, df)\n",
    "\n",
    "SEM = t_crit * (sd1 / sqrt(n))\n",
    "\n",
    "lower = m - SEM\n",
    "upper = m + SEM\n",
    "\n",
    "print('lower and upper bound', lower, upper)"
   ]
  },
  {
   "cell_type": "code",
   "execution_count": null,
   "id": "08d81f73-1bce-42d8-b255-c91f138c4b59",
   "metadata": {},
   "outputs": [],
   "source": [
    "Q14. In a study of the effects of caffeine on reaction time, a sample of 30 participants had an average\n",
    "reaction time of 0.25 seconds with a standard deviation of 0.05 seconds. Conduct a hypothesis test to\n",
    "\n",
    "determine if the caffeine has a significant effect on reaction time at a 90% confidence level using a t-test."
   ]
  },
  {
   "cell_type": "code",
   "execution_count": 5,
   "id": "77e47a95-cc89-4740-b393-9eb1b0a71162",
   "metadata": {},
   "outputs": [
    {
     "name": "stdout",
     "output_type": "stream",
     "text": [
      "p value and t_crit 0.7176503490278812 1.6991270265334972\n",
      "reject null: Caffeine does not  has a significant effect on reaction time\n"
     ]
    }
   ],
   "source": [
    "\n",
    "from  scipy.stats import t\n",
    "from math import sqrt\n",
    "\n",
    "# assume mean of population\n",
    "u = 0.35\n",
    "ct = 0.90\n",
    "n = 30\n",
    "m = 0.25\n",
    "sd = 0.05\n",
    "df = n-1\n",
    "\n",
    "null = 'Caffeine does have has a significant effect on reaction time'\n",
    "alternate = 'Caffeine does not  has a significant effect on reaction time'\n",
    "\n",
    "t_stat = (u-m) / sd / sqrt(n)\n",
    "\n",
    "p = 2 * (1-t.cdf(abs(t_stat), df))\n",
    "\n",
    "t_crit = t.ppf((1+ct)/2, df)\n",
    "\n",
    "print('p value and t_crit', p, t_crit)\n",
    "\n",
    "if p < t_crit:\n",
    "    print('reject null:', alternate)\n",
    "else:\n",
    "    print('accept null:', null)"
   ]
  },
  {
   "cell_type": "code",
   "execution_count": null,
   "id": "e1e9b5aa-d4af-44a4-9df0-5f80905b79b3",
   "metadata": {},
   "outputs": [],
   "source": []
  },
  {
   "cell_type": "code",
   "execution_count": null,
   "id": "95123ea9-299a-42e9-8200-935391735af9",
   "metadata": {},
   "outputs": [],
   "source": []
  }
 ],
 "metadata": {
  "kernelspec": {
   "display_name": "Python 3 (ipykernel)",
   "language": "python",
   "name": "python3"
  },
  "language_info": {
   "codemirror_mode": {
    "name": "ipython",
    "version": 3
   },
   "file_extension": ".py",
   "mimetype": "text/x-python",
   "name": "python",
   "nbconvert_exporter": "python",
   "pygments_lexer": "ipython3",
   "version": "3.10.8"
  }
 },
 "nbformat": 4,
 "nbformat_minor": 5
}
