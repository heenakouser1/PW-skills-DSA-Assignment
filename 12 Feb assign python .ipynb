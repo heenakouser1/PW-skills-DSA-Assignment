{
 "cells": [
  {
   "cell_type": "markdown",
   "id": "8fdd5570-356e-45a0-b78a-07712814b9fe",
   "metadata": {},
   "source": [
    "### what is exception in python? Difference between exceptions and syntax errors"
   ]
  },
  {
   "cell_type": "code",
   "execution_count": null,
   "id": "e6f4d311-100a-423e-8ce7-4ce359c02f25",
   "metadata": {},
   "outputs": [],
   "source": [
    "# Exceptions are raised when the program is syntactically correct, but the code resulted is an error. \n",
    "# This error does not stop the execution of the program, however, it changes the normal flow of the program\n",
    "\n",
    "#Errors are the problems in a program due to which the program will stop the execution. \n",
    "# Exceptions are raised when some internal events occur which changes the normal flow of the program. \n",
    "\n"
   ]
  },
  {
   "cell_type": "markdown",
   "id": "98c3569b-d505-4938-b47f-50d5619976ab",
   "metadata": {},
   "source": [
    "### What happens when exception is not hndled? Explain with an example"
   ]
  },
  {
   "cell_type": "code",
   "execution_count": 5,
   "id": "f3839b8f-6883-4cb6-b316-c5a8f97bb399",
   "metadata": {},
   "outputs": [
    {
     "ename": "ZeroDivisionError",
     "evalue": "division by zero",
     "output_type": "error",
     "traceback": [
      "\u001b[0;31m---------------------------------------------------------------------------\u001b[0m",
      "\u001b[0;31mZeroDivisionError\u001b[0m                         Traceback (most recent call last)",
      "Cell \u001b[0;32mIn[5], line 2\u001b[0m\n\u001b[1;32m      1\u001b[0m a\u001b[38;5;241m=\u001b[39m\u001b[38;5;241m10\u001b[39m\n\u001b[0;32m----> 2\u001b[0m \u001b[43ma\u001b[49m\u001b[38;5;241;43m/\u001b[39;49m\u001b[38;5;241;43m0\u001b[39;49m\n",
      "\u001b[0;31mZeroDivisionError\u001b[0m: division by zero"
     ]
    }
   ],
   "source": [
    "a=10\n",
    "a/0"
   ]
  },
  {
   "cell_type": "code",
   "execution_count": 6,
   "id": "aeec0235-5f81-4487-8f1a-cdf3383c8b2b",
   "metadata": {},
   "outputs": [],
   "source": [
    "# When Exception is not handled, this might the program to stop the excecution"
   ]
  },
  {
   "cell_type": "code",
   "execution_count": 7,
   "id": "a7823e5d-31d4-4154-90c9-34626e8c0536",
   "metadata": {},
   "outputs": [
    {
     "name": "stdout",
     "output_type": "stream",
     "text": [
      "the issue was occured is  division by zero\n"
     ]
    }
   ],
   "source": [
    "try:\n",
    "    a=10\n",
    "    a/0\n",
    "except ZeroDivisionError as e:\n",
    "    print('the issue was occured is ', e)"
   ]
  },
  {
   "cell_type": "markdown",
   "id": "6e36778d-b3e8-4225-9ef9-e809293ede72",
   "metadata": {},
   "source": [
    "### Which python statements are used to catch and handled exceptions? explain with an example"
   ]
  },
  {
   "cell_type": "code",
   "execution_count": 4,
   "id": "d28aa909-e4f0-48d8-a0db-62711469b709",
   "metadata": {},
   "outputs": [
    {
     "name": "stdout",
     "output_type": "stream",
     "text": [
      "the issue was occured is  division by zero\n"
     ]
    }
   ],
   "source": [
    "# There are 4 blocks in exceptions \n",
    "# Try block: Here exceptions are raised \n",
    "# Except bloc: which handles the exceptions by identifying the correct class of exceptions\n",
    "# else block: this is used when try block has no issues\n",
    "# Finally block: this block will run, inspite of success or faliure of other 3 blocks\n",
    "\n",
    "# Try and except statements are used to catch and handle exceptions in Python.\n",
    "# Statements that can raise exceptions are kept inside the try clause and the\n",
    "# statements that handle the exception are written inside except clause\n",
    "\n",
    "try:\n",
    "    a=10\n",
    "    a/0\n",
    "except ZeroDivisionError as e:\n",
    "    print('the issue was occured is ', e)"
   ]
  },
  {
   "cell_type": "markdown",
   "id": "2ea97306-9099-4db0-9edc-e5108ef5d0c1",
   "metadata": {},
   "source": [
    "### Explain with an example\n",
    "### a. try and catch\n",
    "### b. finally\n",
    "### c. raise"
   ]
  },
  {
   "cell_type": "code",
   "execution_count": 8,
   "id": "76b9fbfb-44a8-4731-98d4-0e156c0c595e",
   "metadata": {},
   "outputs": [
    {
     "name": "stdout",
     "output_type": "stream",
     "text": [
      "the issue was occured is  division by zero\n"
     ]
    }
   ],
   "source": [
    "# a. try and catch\n",
    "#--------------------\n",
    "\n",
    "# Statements that can raise exceptions are kept inside the try clause\n",
    "# statements that handle the exception are written inside except/catch clause\n",
    "try:\n",
    "    a=10\n",
    "    a/0\n",
    "except ZeroDivisionError as e:\n",
    "    print('the issue was occured is ', e)"
   ]
  },
  {
   "cell_type": "code",
   "execution_count": 9,
   "id": "1200363d-821c-4ef3-b346-2ae993ae07be",
   "metadata": {},
   "outputs": [
    {
     "name": "stdout",
     "output_type": "stream",
     "text": [
      "the issue was occured is  division by zero\n",
      "this is finally block\n"
     ]
    }
   ],
   "source": [
    "# b. Finally\n",
    "#--------------------\n",
    "\n",
    "#this block execute irrespective of any other blocks is succesful or faliure\n",
    "try:\n",
    "    a=10\n",
    "    a/0\n",
    "except ZeroDivisionError as e:\n",
    "    print('the issue was occured is ', e)\n",
    "finally:\n",
    "    print('this is finally block')"
   ]
  },
  {
   "cell_type": "code",
   "execution_count": 10,
   "id": "5f66749c-363c-4d21-b3c8-78518842b52d",
   "metadata": {},
   "outputs": [
    {
     "name": "stdin",
     "output_type": "stream",
     "text": [
      "enter the age -89556\n"
     ]
    },
    {
     "name": "stdout",
     "output_type": "stream",
     "text": [
      "age should not be less than 0\n"
     ]
    }
   ],
   "source": [
    "# c. raise\n",
    "#--------------------\n",
    "\n",
    "# raise is used to raise exceptions/ trigger exceptions to class in custom exceptions\n",
    "\n",
    "class validate(Exception):\n",
    "    def __init__(self, msg):\n",
    "        self.msg=msg\n",
    "\n",
    "def validate_age(age):\n",
    "    if age<0:\n",
    "        raise validate('age should not be less than 0')\n",
    "    elif age>200:\n",
    "        raise validate('age is too high')\n",
    "    else:\n",
    "        print('age is valid')\n",
    "        \n",
    "try:\n",
    "    age=int(input('enter the age'))\n",
    "    validate_age(age)\n",
    "except validate as v:\n",
    "    print(v)"
   ]
  },
  {
   "cell_type": "markdown",
   "id": "8cf4ebeb-0d79-4cf7-8468-c9383686cdea",
   "metadata": {},
   "source": [
    "### what are custom exceptions in python? why do we need custom exceptions? exaplain with an example"
   ]
  },
  {
   "cell_type": "code",
   "execution_count": 11,
   "id": "34c49d2b-db2d-49a5-87cc-a6668209c0e7",
   "metadata": {},
   "outputs": [
    {
     "name": "stdin",
     "output_type": "stream",
     "text": [
      "enter the age 5666\n"
     ]
    },
    {
     "name": "stdout",
     "output_type": "stream",
     "text": [
      "age is too high\n"
     ]
    }
   ],
   "source": [
    "# Custom exceptions are those where programmer can raise exceptions accordingly to requirement\n",
    "# In Custom excptions we can  add custom error messages for debugging purposes\n",
    "# This can be very useful if you are building a Library/API and another programmer wants to know what exactly went wrong \n",
    "# when the custom Exception is raised.\n",
    "\n",
    "\n",
    "class validate(Exception):\n",
    "    def __init__(self, msg):\n",
    "        self.msg=msg\n",
    "\n",
    "def validate_age(age):\n",
    "    if age<0:\n",
    "        raise validate('age should not be less than 0')\n",
    "    elif age>200:\n",
    "        raise validate('age is too high')\n",
    "    else:\n",
    "        print('age is valid')\n",
    "        \n",
    "try:\n",
    "    age=int(input('enter the age'))\n",
    "    validate_age(age)\n",
    "except validate as v:\n",
    "    print(v)"
   ]
  },
  {
   "cell_type": "markdown",
   "id": "de1cb570-1499-40ea-b4b8-8aab05b1d3c8",
   "metadata": {},
   "source": [
    "### create a custom exception class . use this to handle an exception"
   ]
  },
  {
   "cell_type": "code",
   "execution_count": 13,
   "id": "215a91e7-195a-4751-825e-0d69a58856ec",
   "metadata": {},
   "outputs": [
    {
     "name": "stdin",
     "output_type": "stream",
     "text": [
      "enter the list [12,23,45,67,89]\n"
     ]
    },
    {
     "name": "stdout",
     "output_type": "stream",
     "text": [
      "this has even number of elements in list\n"
     ]
    }
   ],
   "source": [
    "class checklist(Exception):\n",
    "    def __init__(self,msg):\n",
    "        self.msg=msg\n",
    "        \n",
    "def lists_check(l1):\n",
    "    if len(l1) %2!=0:\n",
    "        raise checklist('this has odd number of elements in list')\n",
    "    else:\n",
    "        raise checklist('this has even number of elements in list')\n",
    "        \n",
    "        \n",
    "try:\n",
    "    l1=input('enter the list')\n",
    "    lists_check(l1)\n",
    "except checklist as c:\n",
    "    print(c)"
   ]
  },
  {
   "cell_type": "code",
   "execution_count": null,
   "id": "64ba8372-d54a-41f4-a49a-4f288d8c387f",
   "metadata": {},
   "outputs": [],
   "source": []
  }
 ],
 "metadata": {
  "kernelspec": {
   "display_name": "Python 3 (ipykernel)",
   "language": "python",
   "name": "python3"
  },
  "language_info": {
   "codemirror_mode": {
    "name": "ipython",
    "version": 3
   },
   "file_extension": ".py",
   "mimetype": "text/x-python",
   "name": "python",
   "nbconvert_exporter": "python",
   "pygments_lexer": "ipython3",
   "version": "3.10.8"
  }
 },
 "nbformat": 4,
 "nbformat_minor": 5
}
