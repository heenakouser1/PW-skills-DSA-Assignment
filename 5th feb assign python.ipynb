{
 "cells": [
  {
   "cell_type": "markdown",
   "id": "79a16ba1-246c-41a4-981c-eb4d5ba1b735",
   "metadata": {},
   "source": [
    "### Q1. Explain Class and Object with respect to Object-Oriented Programming. Give a suitable example."
   ]
  },
  {
   "cell_type": "code",
   "execution_count": 1,
   "id": "5ecc5ac0-4d39-433e-b3ac-8ef28a7d7de2",
   "metadata": {},
   "outputs": [
    {
     "data": {
      "text/plain": [
       "('Raj', 'Raj@gmail.com')"
      ]
     },
     "execution_count": 1,
     "metadata": {},
     "output_type": "execute_result"
    }
   ],
   "source": [
    "# Class\n",
    "#-------\n",
    "# Class is blueprint which creates objects. Class provides a means of bundling data and functionality together.\n",
    "# class creates a user defined data stucture, which holds its data member and methods.\n",
    "\n",
    "# Object\n",
    "#-------\n",
    "# Object is an instance of class, as class is a blueprint, object is a copy of class with actual values.\n",
    "# Object consist of state, behaviour, identity\n",
    "\n",
    "#Example of class and object\n",
    "\n",
    "class Person:\n",
    "    def __init__(self,name,email):\n",
    "        self.name=name\n",
    "        self.email=email\n",
    "    def details(self):\n",
    "        return self.name,self.email\n",
    "\n",
    "p=Person('Raj','Raj@gmail.com')\n",
    "p.details()"
   ]
  },
  {
   "cell_type": "markdown",
   "id": "93b131db-80ad-4f72-9411-b5484730bfd4",
   "metadata": {},
   "source": [
    "### Q2. Name the four pillars of OOPs."
   ]
  },
  {
   "cell_type": "code",
   "execution_count": 2,
   "id": "5367c164-48b5-4a07-bf91-2f31f6ddbda9",
   "metadata": {},
   "outputs": [],
   "source": [
    "# The four pillars of OOPs are:\n",
    "# Abstraction\n",
    "# Polymorphism\n",
    "# Inheritence\n",
    "# Encapsulation"
   ]
  },
  {
   "cell_type": "markdown",
   "id": "d7c86d1d-c18b-4c76-8b8e-0af7ae7d7ac0",
   "metadata": {},
   "source": [
    "### Q3. Explain why the __init__() function is used. Give a suitable example."
   ]
  },
  {
   "cell_type": "code",
   "execution_count": 4,
   "id": "0cc978bd-cc1a-4ed1-bf25-3857959d7879",
   "metadata": {},
   "outputs": [
    {
     "data": {
      "text/plain": [
       "('Mohan', 'Mohan@gmail.com')"
      ]
     },
     "execution_count": 4,
     "metadata": {},
     "output_type": "execute_result"
    }
   ],
   "source": [
    "# init() function or constructor used to initalize the object state, its runs as soon as object is instantiated. \n",
    "# Takes different data values when object is created and pass those values to class \n",
    "# method is useful to do any initialization you want to do with your object.\n",
    "\n",
    "# Example:\n",
    "\n",
    "class Person:\n",
    "    def __init__(self,name,email):\n",
    "        self.name=name\n",
    "        self.email=email\n",
    "    def details(self):\n",
    "        return self.name,self.email\n",
    "\n",
    "p1=Person('Mohan','Mohan@gmail.com')\n",
    "p1.details()"
   ]
  },
  {
   "cell_type": "markdown",
   "id": "981cf5f4-c958-4f13-94c2-a1f4b35271a6",
   "metadata": {},
   "source": [
    "### Q4. Why self is used in OOPs?"
   ]
  },
  {
   "cell_type": "code",
   "execution_count": 5,
   "id": "9cbdcf92-9c46-4a22-bbb9-5391a1d9962d",
   "metadata": {},
   "outputs": [
    {
     "data": {
      "text/plain": [
       "('Rohan', 'Rohan@gmail.com')"
      ]
     },
     "execution_count": 5,
     "metadata": {},
     "output_type": "execute_result"
    }
   ],
   "source": [
    "# Self is as a pointer or refernce of class. It binds the attributes with the given arguments.\n",
    "# Self is the first argument to be passed in Constructor and Instance Method.\n",
    "# By using the “self”  we can access the attributes and methods of the class in python\n",
    "# instead of self we can use any other name, but advisable to use self \n",
    "\n",
    "class Person:\n",
    "    def __init__(self,name,email):\n",
    "        self.name=name\n",
    "        self.email=email\n",
    "    def details(self):\n",
    "        return self.name,self.email\n",
    "\n",
    "p2=Person('Rohan','Rohan@gmail.com')\n",
    "p2.details()"
   ]
  },
  {
   "cell_type": "markdown",
   "id": "e31b307d-2d0a-4347-a4e6-e7222b1fc1ac",
   "metadata": {},
   "source": [
    "### Q5. What is inheritance? Give an example for each type of inheritance."
   ]
  },
  {
   "cell_type": "code",
   "execution_count": null,
   "id": "94226148-518e-4c8a-a50e-42516de399f0",
   "metadata": {},
   "outputs": [],
   "source": [
    "# Inheritance provides the reusability of a code\n",
    "# It is transitive in nature, which means that if class B inherits from another class A,\n",
    "# then all the subclasses of B would automatically inherit from class A.\n",
    "# Inheritance offers a simple, understandable model structure\n",
    "\n",
    "#There are 5 types\n",
    "# Simple inheritance\n",
    "# Mutiple inheritance\n",
    "# multilevel inheritance\n",
    "# Hierarchial inheritance\n",
    "# Hybrid inheritance\n"
   ]
  },
  {
   "cell_type": "code",
   "execution_count": 6,
   "id": "6cfb05f5-7f90-4c83-89ce-9755b3b618cf",
   "metadata": {},
   "outputs": [
    {
     "name": "stdout",
     "output_type": "stream",
     "text": [
      "John is a Professor\n"
     ]
    }
   ],
   "source": [
    "#simple inheritance\n",
    "class Person:\n",
    "    def __init__(self, name, age):\n",
    "        self.name = name\n",
    "        self.age = age\n",
    "class Professor(Person):\n",
    "    def isProfessor(self):\n",
    "        return f\"{self.name} is a Professor\"\n",
    "sir = Professor(\"John\", 30)\n",
    "print(sir.isProfessor())"
   ]
  },
  {
   "cell_type": "code",
   "execution_count": 7,
   "id": "9504afee-3028-4f3a-a86c-df8f386a0c26",
   "metadata": {},
   "outputs": [
    {
     "name": "stdout",
     "output_type": "stream",
     "text": [
      "8\n"
     ]
    }
   ],
   "source": [
    "#Multiple inheritance\n",
    "class SuperClass1:\n",
    "    num1 = 3\n",
    "class SuperClass2:\n",
    "    num2 = 5\n",
    "class SubClass( SuperClass1, SuperClass2):\n",
    "    def addition(self):\n",
    "        return self.num1 + self.num2\n",
    "obj = SubClass()\n",
    "print(obj.addition())"
   ]
  },
  {
   "cell_type": "code",
   "execution_count": 9,
   "id": "b2206de3-351e-4cab-84a6-1e1af7cec16d",
   "metadata": {},
   "outputs": [
    {
     "name": "stdout",
     "output_type": "stream",
     "text": [
      "PythonPwskills\n"
     ]
    }
   ],
   "source": [
    "#multilevel inheritance\n",
    "class Parent:\n",
    "    str1 = \"Python\"\n",
    "class Child(Parent):\n",
    "    str2 = \"Pwskills\"\n",
    "class GrandChild(Child):\n",
    "    def get_str(self):\n",
    "        print(self.str1 + self.str2)\n",
    "person = GrandChild()\n",
    "person.get_str()"
   ]
  },
  {
   "cell_type": "code",
   "execution_count": 10,
   "id": "5c1ae6c5-3c2c-4499-be66-869d1295adf7",
   "metadata": {},
   "outputs": [
    {
     "name": "stdout",
     "output_type": "stream",
     "text": [
      "3 3 3\n"
     ]
    }
   ],
   "source": [
    "#Hierarchial inheritance\n",
    "class SuperClass:\n",
    "    x = 3\n",
    "class SubClass1(SuperClass):\n",
    "    pass\n",
    "class SubClass2(SuperClass):\n",
    "    pass\n",
    "class SubClass3(SuperClass):\n",
    "    pass\n",
    "a = SubClass1()\n",
    "b = SubClass2()\n",
    "c = SubClass3()\n",
    "print(a.x, b.x, c.x)"
   ]
  },
  {
   "cell_type": "code",
   "execution_count": 11,
   "id": "76cec8a1-d8f5-4eb5-8513-2fafa3c45545",
   "metadata": {},
   "outputs": [
    {
     "name": "stdout",
     "output_type": "stream",
     "text": [
      "10\n"
     ]
    }
   ],
   "source": [
    "# Hybrid inheritance\n",
    "class X:\n",
    "    num = 10\n",
    "class A(X):\n",
    "    pass\n",
    "class B(A):\n",
    "    pass\n",
    "class C(A):\n",
    "    pass\n",
    "class D(B, C):\n",
    "    pass\n",
    "ob = D()\n",
    "print(D.num)"
   ]
  },
  {
   "cell_type": "code",
   "execution_count": null,
   "id": "b947e077-4222-431d-b356-cad508329d1c",
   "metadata": {},
   "outputs": [],
   "source": []
  }
 ],
 "metadata": {
  "kernelspec": {
   "display_name": "Python 3 (ipykernel)",
   "language": "python",
   "name": "python3"
  },
  "language_info": {
   "codemirror_mode": {
    "name": "ipython",
    "version": 3
   },
   "file_extension": ".py",
   "mimetype": "text/x-python",
   "name": "python",
   "nbconvert_exporter": "python",
   "pygments_lexer": "ipython3",
   "version": "3.10.8"
  }
 },
 "nbformat": 4,
 "nbformat_minor": 5
}
