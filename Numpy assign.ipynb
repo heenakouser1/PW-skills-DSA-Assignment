{
 "cells": [
  {
   "cell_type": "markdown",
   "id": "5d44169e-1608-4973-9dee-282a40c60c3b",
   "metadata": {},
   "source": [
    "### Consider the below code to answer further questions:\n",
    "\n",
    "### Q1. Is there any difference in the data type of variables list_ and array_list? If there is then write a code\n",
    "### to print the data types of both the variables.\n",
    "\n"
   ]
  },
  {
   "cell_type": "code",
   "execution_count": 3,
   "id": "b9d93608-7648-4ba2-9905-80af4f4951b6",
   "metadata": {},
   "outputs": [],
   "source": [
    "import numpy as np\n",
    "list_ = ['1' , '2' , '3' , '4' , '5' ]\n",
    "array_list = np.array(object = list_)"
   ]
  },
  {
   "cell_type": "code",
   "execution_count": 4,
   "id": "08eb7d26-b545-4872-8e88-9ab7513be95f",
   "metadata": {},
   "outputs": [],
   "source": [
    "# Difference between the list_ and array_list is that, \n",
    "# list_ has elements which are enclosed in [] forming the list, data type of elemnets gere are class list\n",
    "# the array_list is array formed and datatype of elements would an numpy ndarray"
   ]
  },
  {
   "cell_type": "code",
   "execution_count": 5,
   "id": "cb0b0ad8-6a26-41a0-80c1-7fe9ad43a069",
   "metadata": {},
   "outputs": [
    {
     "name": "stdout",
     "output_type": "stream",
     "text": [
      "<class 'list'>\n"
     ]
    }
   ],
   "source": [
    "print(type(list_))"
   ]
  },
  {
   "cell_type": "code",
   "execution_count": 6,
   "id": "043c04ca-7fbf-42af-987a-a54dd137f737",
   "metadata": {},
   "outputs": [
    {
     "name": "stdout",
     "output_type": "stream",
     "text": [
      "<class 'numpy.ndarray'>\n"
     ]
    }
   ],
   "source": [
    "print(type(array_list))"
   ]
  },
  {
   "cell_type": "markdown",
   "id": "38fddde9-6c24-46b9-a4ff-66b3459732dc",
   "metadata": {},
   "source": [
    "### Q2. Write a code to print the data type of each and every element of both the variables list_ and arra_list."
   ]
  },
  {
   "cell_type": "code",
   "execution_count": 15,
   "id": "e3e89ffa-4217-4dff-b694-bd61d9abc735",
   "metadata": {},
   "outputs": [
    {
     "name": "stdout",
     "output_type": "stream",
     "text": [
      "1 <class 'str'>\n",
      "2 <class 'str'>\n",
      "3 <class 'str'>\n",
      "4 <class 'str'>\n",
      "5 <class 'str'>\n"
     ]
    }
   ],
   "source": [
    "for i in list_:\n",
    "    print(i, type(i))"
   ]
  },
  {
   "cell_type": "code",
   "execution_count": 16,
   "id": "adab39ed-f636-415b-9246-e4384f17b337",
   "metadata": {},
   "outputs": [
    {
     "name": "stdout",
     "output_type": "stream",
     "text": [
      "1 <class 'numpy.str_'>\n",
      "2 <class 'numpy.str_'>\n",
      "3 <class 'numpy.str_'>\n",
      "4 <class 'numpy.str_'>\n",
      "5 <class 'numpy.str_'>\n"
     ]
    }
   ],
   "source": [
    "for i in array_list:\n",
    "    print(i, type(i))"
   ]
  },
  {
   "cell_type": "markdown",
   "id": "febb3d15-f71e-465a-bc9f-fc62c6d5054c",
   "metadata": {},
   "source": [
    "### Q3. Considering the following changes in the variable, array_list:\n",
    "### array_list = np.array(object = list_, dtype = int)\n",
    "### Will there be any difference in the data type of the elements present in both the variables, list_ and\n",
    "### arra_list? If so then print the data types of each and every element present in both the variables, list_\n",
    "### and arra_list."
   ]
  },
  {
   "cell_type": "code",
   "execution_count": 17,
   "id": "f929eca2-b5a0-4cef-8b92-33b11f7613dd",
   "metadata": {},
   "outputs": [],
   "source": [
    "array_list = np.array(object = list_, dtype = int)"
   ]
  },
  {
   "cell_type": "code",
   "execution_count": null,
   "id": "4aa52c9b-8094-4706-914a-2313f66f147e",
   "metadata": {},
   "outputs": [],
   "source": [
    "# list_ is still has the elements with string as type"
   ]
  },
  {
   "cell_type": "code",
   "execution_count": 18,
   "id": "4beccd08-f92f-4994-8de0-0d362ef26ab5",
   "metadata": {},
   "outputs": [
    {
     "name": "stdout",
     "output_type": "stream",
     "text": [
      "1 <class 'str'>\n",
      "2 <class 'str'>\n",
      "3 <class 'str'>\n",
      "4 <class 'str'>\n",
      "5 <class 'str'>\n"
     ]
    }
   ],
   "source": [
    "for i in list_:\n",
    "    print(i, type(i))"
   ]
  },
  {
   "cell_type": "code",
   "execution_count": null,
   "id": "bf4f9e12-03a3-4224-9b1c-949b8808828b",
   "metadata": {},
   "outputs": [],
   "source": [
    "# array_list has the elements with integer as type"
   ]
  },
  {
   "cell_type": "code",
   "execution_count": 19,
   "id": "3313f9b3-6d4e-4640-a20b-66bdb22d8dd0",
   "metadata": {},
   "outputs": [
    {
     "name": "stdout",
     "output_type": "stream",
     "text": [
      "1 <class 'numpy.int64'>\n",
      "2 <class 'numpy.int64'>\n",
      "3 <class 'numpy.int64'>\n",
      "4 <class 'numpy.int64'>\n",
      "5 <class 'numpy.int64'>\n"
     ]
    }
   ],
   "source": [
    "for i in array_list:\n",
    "    print(i, type(i))"
   ]
  },
  {
   "cell_type": "markdown",
   "id": "26dd6db3-aa0c-49c1-a901-350a3ae29e59",
   "metadata": {},
   "source": [
    "### Consider the below code to answer further questions:\n"
   ]
  },
  {
   "cell_type": "code",
   "execution_count": 20,
   "id": "0192ace1-20c6-4674-98d5-fa35e9a5578a",
   "metadata": {},
   "outputs": [],
   "source": [
    "import numpy as np\n",
    "num_list = [ [ 1 , 2 , 3 ] , [ 4 , 5 , 6 ] ]\n",
    "num_array = np.array(object = num_list)"
   ]
  },
  {
   "cell_type": "markdown",
   "id": "8b369321-06fb-47a7-aa8f-7b5edbf9be90",
   "metadata": {},
   "source": [
    "\n",
    "### Q4. Write a code to find the following characteristics of variable, num_array:\n",
    "### (i) shape\n",
    "### (ii) size"
   ]
  },
  {
   "cell_type": "code",
   "execution_count": 21,
   "id": "49716137-dc43-4f27-9def-1afbff052614",
   "metadata": {},
   "outputs": [
    {
     "data": {
      "text/plain": [
       "6"
      ]
     },
     "execution_count": 21,
     "metadata": {},
     "output_type": "execute_result"
    }
   ],
   "source": [
    "num_array.size"
   ]
  },
  {
   "cell_type": "code",
   "execution_count": 22,
   "id": "62ffbe35-c2d4-416a-b385-f052645e09bc",
   "metadata": {},
   "outputs": [
    {
     "data": {
      "text/plain": [
       "(2, 3)"
      ]
     },
     "execution_count": 22,
     "metadata": {},
     "output_type": "execute_result"
    }
   ],
   "source": [
    "num_array.shape"
   ]
  },
  {
   "cell_type": "markdown",
   "id": "fe4cffce-4ab0-461e-b5c2-6489e8f73f5d",
   "metadata": {},
   "source": [
    "\n",
    "### Q5. Write a code to create numpy array of 3*3 matrix containing zeros only, using a numpy array\n",
    "### creation function.\n",
    "### [Hint: The size of the array will be 9 and the shape will be (3,3).]"
   ]
  },
  {
   "cell_type": "code",
   "execution_count": 23,
   "id": "ad5c868f-68b9-4ab9-9f8c-28f6bfd088af",
   "metadata": {},
   "outputs": [
    {
     "data": {
      "text/plain": [
       "array([[0., 0., 0.],\n",
       "       [0., 0., 0.],\n",
       "       [0., 0., 0.]])"
      ]
     },
     "execution_count": 23,
     "metadata": {},
     "output_type": "execute_result"
    }
   ],
   "source": [
    "mat = np.zeros((3,3))\n",
    "mat"
   ]
  },
  {
   "cell_type": "code",
   "execution_count": 24,
   "id": "4b9cccd0-544f-40aa-9160-9326de31a69f",
   "metadata": {},
   "outputs": [
    {
     "data": {
      "text/plain": [
       "9"
      ]
     },
     "execution_count": 24,
     "metadata": {},
     "output_type": "execute_result"
    }
   ],
   "source": [
    "mat.size"
   ]
  },
  {
   "cell_type": "code",
   "execution_count": 25,
   "id": "b7c7bbd9-a892-45e5-932e-4c21d96d0c08",
   "metadata": {},
   "outputs": [
    {
     "data": {
      "text/plain": [
       "(3, 3)"
      ]
     },
     "execution_count": 25,
     "metadata": {},
     "output_type": "execute_result"
    }
   ],
   "source": [
    "mat.shape"
   ]
  },
  {
   "cell_type": "markdown",
   "id": "f4f32704-585c-422d-a48a-e7eb8ec9ddf5",
   "metadata": {},
   "source": [
    "### Q6. Create an identity matrix of shape (5,5) using numpy functions?\n",
    "### [Hint: An identity matrix is a matrix containing 1 diagonally and other elements will be 0.]"
   ]
  },
  {
   "cell_type": "code",
   "execution_count": 26,
   "id": "4674c077-7dd1-4b4e-baab-0d2222cbe5fd",
   "metadata": {},
   "outputs": [],
   "source": [
    "mat= np.eye(5,5)"
   ]
  },
  {
   "cell_type": "code",
   "execution_count": 27,
   "id": "ed230f3a-3392-447a-bf63-9f3cdbe5ae9b",
   "metadata": {},
   "outputs": [
    {
     "data": {
      "text/plain": [
       "array([[1., 0., 0., 0., 0.],\n",
       "       [0., 1., 0., 0., 0.],\n",
       "       [0., 0., 1., 0., 0.],\n",
       "       [0., 0., 0., 1., 0.],\n",
       "       [0., 0., 0., 0., 1.]])"
      ]
     },
     "execution_count": 27,
     "metadata": {},
     "output_type": "execute_result"
    }
   ],
   "source": [
    "mat"
   ]
  },
  {
   "cell_type": "code",
   "execution_count": 28,
   "id": "1d40ced8-174b-4109-9aa1-f0dd007c0217",
   "metadata": {},
   "outputs": [
    {
     "data": {
      "text/plain": [
       "(5, 5)"
      ]
     },
     "execution_count": 28,
     "metadata": {},
     "output_type": "execute_result"
    }
   ],
   "source": [
    "mat.shape"
   ]
  },
  {
   "cell_type": "code",
   "execution_count": 29,
   "id": "8dc3d29c-a0d7-4dbb-97ce-e48fced7db48",
   "metadata": {},
   "outputs": [
    {
     "data": {
      "text/plain": [
       "25"
      ]
     },
     "execution_count": 29,
     "metadata": {},
     "output_type": "execute_result"
    }
   ],
   "source": [
    "mat.size"
   ]
  },
  {
   "cell_type": "code",
   "execution_count": null,
   "id": "58024efc-409a-45f2-b2af-2e6fee234133",
   "metadata": {},
   "outputs": [],
   "source": []
  }
 ],
 "metadata": {
  "kernelspec": {
   "display_name": "Python 3 (ipykernel)",
   "language": "python",
   "name": "python3"
  },
  "language_info": {
   "codemirror_mode": {
    "name": "ipython",
    "version": 3
   },
   "file_extension": ".py",
   "mimetype": "text/x-python",
   "name": "python",
   "nbconvert_exporter": "python",
   "pygments_lexer": "ipython3",
   "version": "3.10.8"
  }
 },
 "nbformat": 4,
 "nbformat_minor": 5
}
