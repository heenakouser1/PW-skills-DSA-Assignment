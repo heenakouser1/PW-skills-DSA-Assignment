{
 "cells": [
  {
   "cell_type": "markdown",
   "id": "ce94ea09-838f-4b16-87a0-63438bab74a4",
   "metadata": {},
   "source": [
    "### Q1. Explain GET and POST methods.\n"
   ]
  },
  {
   "cell_type": "code",
   "execution_count": null,
   "id": "2d9f79c0-00fa-47bb-8e4b-66515954b3f3",
   "metadata": {},
   "outputs": [],
   "source": [
    "# HTTP: The Hypertext Transfer Protocol (HTTP) is designed to enable communications between clients and servers\n",
    "# GET: Requests data from a specified resource.\n",
    "# POST: Submits data to be processed to a specified resource.\n",
    "\n",
    "# GET Method: In the GET method, the data is sent as URL parameters \n",
    "# that are usually strings of name and value pairs separated by ampersands (&).\n",
    "#Advantages:\n",
    "    #Since the data sent by the GET method are displayed in the URL, it is possible to bookmark the page with specific query string values.\n",
    "    #GET requests can be cached and GET requests to remain in the browser history.\n",
    "    #GET requests can be bookmarked.\n",
    "#Disadvantages:\n",
    "    #The GET method is not suitable for passing sensitive information such as the username and password, because these are fully visible in the URL query string as well as potentially stored in the client browser’s memory as a visited page.\n",
    "    #Because the GET method assigns data to a server environment variable, the length of the URL is limited. So, there is a limitation for the total data to be sent.\n",
    "\n",
    "    \n",
    "# POST Method: In the POST method, the data is sent to the server as a package in a separate communication \n",
    "# with the processing script. Data sent through the POST method will not be visible in the URL. \n",
    "#Advantages:\n",
    "   # It is more secure than GET because user-entered information is never visible in the URL query string or in the server logs.\n",
    "    #There is a much larger limit on the amount of data that can be passed and one can send text data as well as binary data (uploading a file) using POST.\n",
    "# Disadvantages:\n",
    "   #Since the data sent by the POST method is not visible in the URL, so it is not possible to bookmark the page with a specific query.\n",
    "   # POST requests are never cached\n",
    "   # POST requests do not remain in the browser history."
   ]
  },
  {
   "cell_type": "markdown",
   "id": "3103fb39-ce89-4721-bcab-765e0f4c122c",
   "metadata": {},
   "source": [
    "### Q2. Why is request used in Flask?\n"
   ]
  },
  {
   "cell_type": "code",
   "execution_count": null,
   "id": "d1bb60e6-f0a0-410d-bc69-4ea30bd0d7fa",
   "metadata": {},
   "outputs": [],
   "source": [
    "#The Request, in Flask, is an object that contains all the data sent from the Client to Server.\n",
    "#This data can be recovered using the GET/POST Methods. POST is used when your application expects \n",
    "#user input to be received by command or an HTTP request, while GET gets all the information before it even has a chance for submission."
   ]
  },
  {
   "cell_type": "markdown",
   "id": "bb18fc1f-2bc3-4f85-a994-fb23ce8fa276",
   "metadata": {},
   "source": [
    "### Q3. Why is redirect() used in Flask?\n"
   ]
  },
  {
   "cell_type": "code",
   "execution_count": null,
   "id": "269ef7d5-9314-42c1-99d9-ce4e0fc612bc",
   "metadata": {},
   "outputs": [],
   "source": [
    "#A redirect is used in the Flask class to send the user to a particular URL with the status code. conversely,\n",
    "#this status code additionally identifies the issue. When we access a website, \n",
    "#our browser sends a request to the server, and the server replies with what \n",
    "#is known as the HTTP status code, which is a three-digit number."
   ]
  },
  {
   "cell_type": "markdown",
   "id": "e80507cd-ec39-4135-89dc-4103e084a40e",
   "metadata": {},
   "source": [
    "### Q4. What are templates in Flask? Why is the render_template() function used?\n"
   ]
  },
  {
   "cell_type": "code",
   "execution_count": null,
   "id": "664fb766-97ef-4ea2-a9b1-8ebccb9f33bd",
   "metadata": {},
   "outputs": [],
   "source": [
    "# Templates in flask contain actual html codes\n",
    "# link the template with a specific route or URL.\n",
    "\n",
    "#render_template()\n",
    "#whenever the user goes to a specific URL then a specific template should be rendered or generated"
   ]
  },
  {
   "cell_type": "markdown",
   "id": "885d5194-b260-4aa1-abe9-263eb6c784b1",
   "metadata": {},
   "source": [
    "### Q5. Create a simple API. Use Postman to test it. Attach the screenshot of the output in the Jupyter Notebook."
   ]
  },
  {
   "cell_type": "code",
   "execution_count": null,
   "id": "3d47cedb-1531-4fac-a071-a5761bbdf7fe",
   "metadata": {},
   "outputs": [],
   "source": [
    "from flask import Flask,request,render_template,jsonify\n",
    "app=Flask(__name__)\n",
    "\n",
    "@app.route('/math1',methods=['POST'])\n",
    "def calculate_input():\n",
    "    if request.method=='POST':\n",
    "        ops=request.json['operation']\n",
    "        num1=int(request.json['num1'])\n",
    "        num2=int(request.json['num2'])\n",
    "        if ops=='add':\n",
    "            r=num1+num2\n",
    "            result = 'addition is' + ' ' +str(r)\n",
    "    return jsonify(result)\n",
    "    \n",
    "\n",
    "if __name__==\"__main__\":\n",
    "    app.run(host=\"0.0.0.0\")\n"
   ]
  },
  {
   "cell_type": "code",
   "execution_count": 1,
   "id": "59c3e36e-4890-4e0e-86c6-622afaeb7429",
   "metadata": {},
   "outputs": [
    {
     "ename": "AttributeError",
     "evalue": "module 'IPython.display' has no attribute 'image'",
     "output_type": "error",
     "traceback": [
      "\u001b[0;31m---------------------------------------------------------------------------\u001b[0m",
      "\u001b[0;31mAttributeError\u001b[0m                            Traceback (most recent call last)",
      "Cell \u001b[0;32mIn[1], line 2\u001b[0m\n\u001b[1;32m      1\u001b[0m \u001b[38;5;28;01mfrom\u001b[39;00m \u001b[38;5;21;01mIPython\u001b[39;00m  \u001b[38;5;28;01mimport\u001b[39;00m display\n\u001b[0;32m----> 2\u001b[0m \u001b[43mdisplay\u001b[49m\u001b[38;5;241;43m.\u001b[39;49m\u001b[43mimage\u001b[49m(\u001b[38;5;124m\"\u001b[39m\u001b[38;5;124mhttps://github.com/heenakouser1/images/blob/main/image5.png\u001b[39m\u001b[38;5;124m\"\u001b[39m)\n",
      "\u001b[0;31mAttributeError\u001b[0m: module 'IPython.display' has no attribute 'image'"
     ]
    }
   ],
   "source": [
    "from IPython  import display\n",
    "display.(\"https://github.com/heenakouser1/images/blob/main/image5.png\")"
   ]
  },
  {
   "cell_type": "code",
   "execution_count": null,
   "id": "79963150-50c7-4499-b088-26400b6bf912",
   "metadata": {},
   "outputs": [],
   "source": []
  }
 ],
 "metadata": {
  "kernelspec": {
   "display_name": "Python 3 (ipykernel)",
   "language": "python",
   "name": "python3"
  },
  "language_info": {
   "codemirror_mode": {
    "name": "ipython",
    "version": 3
   },
   "file_extension": ".py",
   "mimetype": "text/x-python",
   "name": "python",
   "nbconvert_exporter": "python",
   "pygments_lexer": "ipython3",
   "version": "3.10.8"
  }
 },
 "nbformat": 4,
 "nbformat_minor": 5
}
