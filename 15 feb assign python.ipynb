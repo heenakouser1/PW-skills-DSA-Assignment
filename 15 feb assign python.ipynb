{
 "cells": [
  {
   "cell_type": "markdown",
   "id": "b38ea2ca-e359-412e-8aec-b1dda9f024a8",
   "metadata": {},
   "source": [
    "### Q1. What is multiprocessing in python? Why is it useful?"
   ]
  },
  {
   "cell_type": "code",
   "execution_count": null,
   "id": "41d6e1a4-49db-4446-b0fa-e9b0865ed566",
   "metadata": {},
   "outputs": [],
   "source": [
    "# Multiprocessing in Python refers to the ability to execute multiple processes or tasks \n",
    "# simultaneously on multiple processors or cores of a computer, as opposed to executing them in a sequential manner.\n",
    "\n",
    "# Multiprocessing is useful in various scenarios, such as:\n",
    "#CPU-intensive tasks: Multiprocessing can speed up the execution of tasks that require a lot of CPU time,\n",
    "#such as image processing, machine learning, and scientific computing.\n",
    "\n",
    "#Parallel programming: Multiprocessing can be used to implement parallel algorithms,\n",
    "#where multiple processes work together to solve a problem.\n",
    "\n",
    "#Scalability: Multiprocessing can help to scale up the performance of a program as the \n",
    "#size of the data or the complexity of the problem increases.\n",
    "\n",
    "#Fault-tolerance: Multiprocessing can improve the reliability of a program \n",
    "#by isolating the processes from each other and preventing errors in one process from affecting the others."
   ]
  },
  {
   "cell_type": "markdown",
   "id": "7da687bc-7f43-47e6-b674-e9b789c9244d",
   "metadata": {},
   "source": [
    "### Q2. What are the differences between multiprocessing and multithreading?"
   ]
  },
  {
   "cell_type": "code",
   "execution_count": null,
   "id": "af34c5da-7721-4a0f-b530-7623fdf48966",
   "metadata": {},
   "outputs": [],
   "source": [
    "#    Execution model\t:\n",
    "#   MP: Multiple processes Seperate processor core used for each process\t\n",
    "#   MT: Multiple threads within a single process\n",
    "\n",
    "#   Parallelism:\n",
    "#   MP: True parallelism\t\n",
    "#   MT: Concurrency due to GIL\n",
    "\n",
    "#   Resource usage\t\n",
    "#   MP: Higher resource usage, slower startup times\t\n",
    "#   MT: Lower resource usage, faster startup times\n",
    "\n",
    "#   Communication\t\n",
    "#   MP: IPC mechanisms (pipes, queues, shared memory)\t\n",
    "#   MT: Shared memory, synchronization primitives\n",
    "\n",
    "#   Debugging:\n",
    "#   MP: More complex (multiple memory spaces)\t\n",
    "#   MT: Easier (shared memory, single memory space)\n",
    "\n",
    "#   Best for:\n",
    "#   MP: CPU-bound tasks\t\n",
    "#   MT:I/O-bound tasks"
   ]
  },
  {
   "cell_type": "markdown",
   "id": "44b8c3f8-960c-4bcf-90d2-cfce52fb8115",
   "metadata": {},
   "source": [
    "### Q3. Write a python code to create a process using the multiprocessing module."
   ]
  },
  {
   "cell_type": "code",
   "execution_count": 2,
   "id": "d6c78b01-647f-480b-878d-74c4d5ac538a",
   "metadata": {},
   "outputs": [
    {
     "name": "stdout",
     "output_type": "stream",
     "text": [
      "multiprocessing process\n"
     ]
    }
   ],
   "source": [
    "import multiprocessing\n",
    "\n",
    "def test():\n",
    "    print('multiprocessing process')\n",
    "    \n",
    "\n",
    "m1=multiprocessing.Process(target=test,args=())\n",
    "m1.start()\n",
    "m1.join()"
   ]
  },
  {
   "cell_type": "markdown",
   "id": "abded353-9fa5-43e5-bb93-994340a328c7",
   "metadata": {},
   "source": [
    "### Q4. What is a multiprocessing pool in python? Why is it used?"
   ]
  },
  {
   "cell_type": "code",
   "execution_count": null,
   "id": "94587dd1-1ac5-4cb9-9f4f-8fb2ef1b4282",
   "metadata": {},
   "outputs": [],
   "source": [
    "# In Python, a multiprocessing pool is a class in the multiprocessing module that provides \n",
    "# a way to distribute tasks across multiple CPU cores. The idea is to create a pool of worker processes that can execute tasks in parallel, \n",
    "# thereby reducing the time it takes to complete a large number of tasks.\n",
    "\n",
    "# The advantage of using a multiprocessing pool is that it allows you to take advantage of multiple \n",
    "# CPU cores to perform computations in parallel. \n",
    "# This can lead to significant speedups for CPU-bound tasks, such as numerical computations, image processing, or machine learning."
   ]
  },
  {
   "cell_type": "markdown",
   "id": "4845197a-030f-4ee7-910d-6c4779e820b0",
   "metadata": {},
   "source": [
    "### Q5. How can we create a pool of worker processes in python using the multiprocessing module?"
   ]
  },
  {
   "cell_type": "code",
   "execution_count": 4,
   "id": "8d26aa4b-4adc-400e-9751-47f2b32bfbd0",
   "metadata": {},
   "outputs": [
    {
     "name": "stdout",
     "output_type": "stream",
     "text": [
      "[1, 4, 9, 16, 25]\n"
     ]
    }
   ],
   "source": [
    "import multiprocessing\n",
    "\n",
    "def square(n):\n",
    "    return n**2\n",
    "\n",
    "if __name__=='__main__':\n",
    "    with multiprocessing.Pool(processes=5) as pool:\n",
    "        out1=pool.map(square,[1,2,3,4,5])\n",
    "        print(out1)"
   ]
  },
  {
   "cell_type": "markdown",
   "id": "ded71f6a-e58c-4043-85de-9c40fcbfbbf0",
   "metadata": {},
   "source": [
    "### Q6. Write a python program to create 4 processes, each process should print a different number using the\n",
    "### multiprocessing module in python."
   ]
  },
  {
   "cell_type": "code",
   "execution_count": 5,
   "id": "1c35f092-361f-42d5-8417-4935c8d31758",
   "metadata": {},
   "outputs": [
    {
     "name": "stdout",
     "output_type": "stream",
     "text": [
      " value of first process is 1\n",
      " value of first process is 2\n",
      " value of first process is 3\n",
      " value of first process is 4\n"
     ]
    }
   ],
   "source": [
    "import multiprocessing\n",
    "\n",
    "def number1(i):\n",
    "    print(f' value of first process is {i}')    \n",
    "def number2(i):\n",
    "    print(f' value of first process is {i}')\n",
    "def number3(i):\n",
    "    print(f' value of first process is {i}')\n",
    "def number4(i):\n",
    "    print(f' value of first process is {i}')\n",
    "\n",
    "    \n",
    "if __name__=='__main__':\n",
    "    m1=multiprocessing.Process(target=number1,args=(1,))\n",
    "    m2=multiprocessing.Process(target=number1,args=(2,))\n",
    "    m3=multiprocessing.Process(target=number1,args=(3,))\n",
    "    m4=multiprocessing.Process(target=number1,args=(4,))\n",
    "    \n",
    "    m1.start()\n",
    "    m2.start()\n",
    "    m3.start()\n",
    "    m4.start()"
   ]
  },
  {
   "cell_type": "code",
   "execution_count": 12,
   "id": "5b8d32c5-976a-4768-a958-ac3ab7e57a12",
   "metadata": {},
   "outputs": [
    {
     "name": "stdout",
     "output_type": "stream",
     "text": [
      " value of first process is 2 value of first process is 1 value of first process is 3 value of first process is 4\n",
      "\n",
      "\n",
      "\n"
     ]
    }
   ],
   "source": [
    "import multiprocessing\n",
    "\n",
    "def number1(i):\n",
    "    print(f' value of first process is {i}')    \n",
    "\n",
    "    \n",
    "if __name__=='__main__':\n",
    "    with multiprocessing.Pool(processes=4) as pool:\n",
    "        out1=pool.map(number1,[1,2,3,4])\n",
    "        "
   ]
  }
 ],
 "metadata": {
  "kernelspec": {
   "display_name": "Python 3 (ipykernel)",
   "language": "python",
   "name": "python3"
  },
  "language_info": {
   "codemirror_mode": {
    "name": "ipython",
    "version": 3
   },
   "file_extension": ".py",
   "mimetype": "text/x-python",
   "name": "python",
   "nbconvert_exporter": "python",
   "pygments_lexer": "ipython3",
   "version": "3.10.8"
  }
 },
 "nbformat": 4,
 "nbformat_minor": 5
}
